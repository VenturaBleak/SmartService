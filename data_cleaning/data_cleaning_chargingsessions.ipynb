{
  "cells": [
    {
      "cell_type": "markdown",
      "metadata": {
        "id": "eGU5aFVQZVmW"
      },
      "source": [
        "# Loading, Cleaning and Aggregating Session Data\n",
        "\n",
        "This script performs loading, cleaning, and aggregation of session data related to charging sessions. It focuses on data from the municipality of Amsterdam and processes it to generate useful insights and metrics.\n",
        "\n",
        "The script loads session data from Excel and CSV files on Google Drive into a Pandas DataFrame. It then cleans the data by removing incomplete or invalid records, merging master data about each charger with the session data, and performing data transformation and cleaning.\n",
        "\n",
        "After the data is cleaned, it is aggregated at different levels, including socket level and charger level. Aggregation involves calculating various metrics such as connection time, kWh usage, occupancy, spare capacity, and more. The aggregated data is stored in separate DataFrames for further analysis.\n",
        "\n",
        "Finally, the script saves the cleaned and aggregated data to Google Drive for future reference and analysis.\n",
        "\n",
        "Usage:\n",
        "    1. Make sure the necessary data files are accessible on Google Drive.\n",
        "    2. Execute the script to load, clean, and aggregate the data.\n",
        "    3. Retrieve the generated DataFrames for further analysis.\n",
        "\n",
        "Dependencies:\n",
        "\n",
        "\n",
        "*   pandas\n",
        "*   matplotlib\n",
        "\n",
        "Original file is located at\n",
        "    https://colab.research.google.com/drive/1e8K5ogYnoWxMgzjKloHfWM9Zkr-U8uyh#scrollTo=eGU5aFVQZVmW\n",
        "\n",
        "## Loading the Data\n",
        "As a first step we load the session data, received from the municipality of Amsterdam, from Excel and CSV files on Google Drive into a Pandas data frame. Please note that we have initially received data from 2020 until the first quarter of 2023, however for the years 2020 and 2021 the data was unfortunately incomplete which is why we have decided to restrict our data model on a time frame from 01.2022 - 03.2023. In the below code we have defined different file paths as we were running the code seperately for each year due to the high amount of observations per year. Depending on which year to process the other years stay commented out.  "
      ]
    },
    {
      "cell_type": "code",
      "execution_count": null,
      "metadata": {
        "id": "o4vfcTIvpsHW",
        "colab": {
          "base_uri": "https://localhost:8080/"
        },
        "outputId": "5fc27eed-dd95-4989-9c98-1c6c10cf173b"
      },
      "outputs": [
        {
          "output_type": "stream",
          "name": "stdout",
          "text": [
            "Drive already mounted at /content/drive; to attempt to forcibly remount, call drive.mount(\"/content/drive\", force_remount=True).\n"
          ]
        }
      ],
      "source": [
        "from google.colab import drive\n",
        "drive.mount('/content/drive')"
      ]
    },
    {
      "cell_type": "code",
      "execution_count": null,
      "metadata": {
        "id": "kWr79_f0Hnyf",
        "colab": {
          "base_uri": "https://localhost:8080/"
        },
        "outputId": "b8eb8700-5c9e-43a3-8e48-e9f5c1739713"
      },
      "outputs": [
        {
          "output_type": "stream",
          "name": "stderr",
          "text": [
            "<ipython-input-2-e8443899d09a>:11: DtypeWarning: Columns (11) have mixed types. Specify dtype option on import or set low_memory=False.\n",
            "  df_session_2022_a = pd.read_csv(file_path_2022_a, sep = ';')\n"
          ]
        }
      ],
      "source": [
        "# defining the file paths on Google Drive\n",
        "import pandas as pd\n",
        "\n",
        "# file_path_2020 = '/content/drive/My Drive/CDR_Amsterdam_2019_2020.csv'\n",
        "# df_session_2020 = pd.read_csv(file_path_2020, sep = \";\", encoding='ISO-8859-1')\n",
        "\n",
        "# file_path_2021 = '/content/drive/My Drive/CDR_Amsterdam_2021-jan.csv'\n",
        "# df_session_2021 = pd.read_csv(file_path_2021, sep = 't')\n",
        "\n",
        "file_path_2022_a = '/content/drive/My Drive/2022-09-08_CDR_FROM_2022-01_TO_2022-06.csv'\n",
        "df_session_2022_a = pd.read_csv(file_path_2022_a, sep = ';')\n",
        "\n",
        "# file_path_2022_b = '/content/drive/My Drive/2023-05-23_CDR_FROM_2022-07_TO_2022-12.csv'\n",
        "# df_session_2022_b = pd.read_csv(file_path_2022_b, sep = ';')\n",
        "\n",
        "# file_path_2023 = '/content/drive/My Drive/2023-04-18_CDR_FROM_2023-01_TO_2023-03.xlsx'\n",
        "# df_session_2023 = pd.read_excel(file_path_2023)"
      ]
    },
    {
      "cell_type": "code",
      "execution_count": null,
      "metadata": {
        "id": "_9Py-e8x0Sqv"
      },
      "outputs": [],
      "source": [
        "# change depending on which dataset you are loading and cleaning\n",
        "df_session = df_session_2022_a"
      ]
    },
    {
      "cell_type": "code",
      "execution_count": null,
      "metadata": {
        "colab": {
          "base_uri": "https://localhost:8080/"
        },
        "id": "ZQRGuvS038KF",
        "outputId": "b37a42cb-9793-4ecd-d1d2-cad52c650a87"
      },
      "outputs": [
        {
          "output_type": "stream",
          "name": "stdout",
          "text": [
            "                               Transaction_ID    Provider       City  \\\n",
            "0        4a7d0bd8-9581-4084-8cec-dfb395e15346  VATTENFALL  Amsterdam   \n",
            "1                                    28664499      ALLEGO  Amsterdam   \n",
            "2                                    28668123      ALLEGO  Amsterdam   \n",
            "3                                    28670445      ALLEGO  Amsterdam   \n",
            "4                                    28675086      ALLEGO  Amsterdam   \n",
            "...                                       ...         ...        ...   \n",
            "1028338             22022211382504BB16AAcXtwe  VATTENFALL  Amsterdam   \n",
            "1028339             220222120652043CE36AcXuzs  VATTENFALL  Amsterdam   \n",
            "1028340             22022212390904E903BAcXupM  VATTENFALL  Amsterdam   \n",
            "1028341             22022212442204436192cXsCS  VATTENFALL  Amsterdam   \n",
            "1028342             2202221247560440794AcXnh6  VATTENFALL  Amsterdam   \n",
            "\n",
            "                       Address District                   SubDistrict  \\\n",
            "0            Keizersgracht 151  Centrum           Grachtengordel West   \n",
            "1          Transformatorweg 28     West                    Sloterdijk   \n",
            "2          Transformatorweg 28     West                    Sloterdijk   \n",
            "3          Transformatorweg 28     West                    Sloterdijk   \n",
            "4          Transformatorweg 28     West                    Sloterdijk   \n",
            "...                        ...      ...                           ...   \n",
            "1028338  's Gravesandeplein 23     Oost               Oosterparkbuurt   \n",
            "1028339        Chassestraat 59     West                   Chassébuurt   \n",
            "1028340    Lepelkruisstraat 13  Centrum  Oostelijke Eilanden Kadijken   \n",
            "1028341        Roetersstraat 2  Centrum         Weesperbuurt Plantage   \n",
            "1028342      Antillenstraat 36     Zuid           Hoofddorppleinbuurt   \n",
            "\n",
            "                        SubSubDistrict              SubSubSubDistrict  \\\n",
            "0                     Leliegracht e.o.               Leliegracht e.o.   \n",
            "1        Bedrijventerrein Sloterdijk I  Bedrijventerrein Sloterdijk I   \n",
            "2        Bedrijventerrein Sloterdijk I  Bedrijventerrein Sloterdijk I   \n",
            "3        Bedrijventerrein Sloterdijk I  Bedrijventerrein Sloterdijk I   \n",
            "4        Bedrijventerrein Sloterdijk I  Bedrijventerrein Sloterdijk I   \n",
            "...                                ...                            ...   \n",
            "1028338      Oosterparkbuurt Noordwest      Oosterparkbuurt Noordwest   \n",
            "1028339             De Wester Quartier             De Wester Quartier   \n",
            "1028340                       Kadijken                       Kadijken   \n",
            "1028341                   Weesperbuurt                   Weesperbuurt   \n",
            "1028342             Surinamepleinbuurt             Surinamepleinbuurt   \n",
            "\n",
            "           Latitude  Longitude  ... IsFastCharger IsAppPayment  \\\n",
            "0         52,375757   4,886566  ...         False        False   \n",
            "1        52,3923306  4,8527822  ...          True        False   \n",
            "2        52,3923306  4,8527822  ...          True        False   \n",
            "3        52,3923306  4,8527822  ...          True        False   \n",
            "4        52,3923306  4,8527822  ...          True        False   \n",
            "...             ...        ...  ...           ...          ...   \n",
            "1028338   52,359242   4,914933  ...         False        False   \n",
            "1028339    52,36894   4,861509  ...         False        False   \n",
            "1028340   52,362967   4,908548  ...         False        False   \n",
            "1028341    52,36485   4,910773  ...         False        False   \n",
            "1028342   52,359791   4,850665  ...         False        False   \n",
            "\n",
            "         StartConnectionDateTime  EndConnectionDateTime ConnectionTimeHours  \\\n",
            "0            2022-06-29 16:01:48    2022-06-29 18:08:06               2,105   \n",
            "1            2022-06-01 03:50:16    2022-06-01 04:08:02                 0,3   \n",
            "2            2022-06-01 07:09:43    2022-06-01 07:31:22                0,36   \n",
            "3            2022-06-01 08:45:41    2022-06-01 09:54:10                1,14   \n",
            "4            2022-06-01 11:47:46    2022-06-01 12:15:52                0,47   \n",
            "...                          ...                    ...                 ...   \n",
            "1028338      2022-02-22 11:02:00    2022-02-22 12:38:00    1,60055555555556   \n",
            "1028339      2022-02-22 12:33:00    2022-02-22 13:06:00   0,549166666666667   \n",
            "1028340      2022-02-22 12:26:00    2022-02-22 13:39:00    1,20611111111111   \n",
            "1028341      2022-02-22 09:53:00    2022-02-22 13:44:00    3,84138888888889   \n",
            "1028342      2022-02-21 22:22:00    2022-02-22 13:47:00    15,4263888888889   \n",
            "\n",
            "           kWh         LoadDateTime IsValid Remark_skey  RemarkText  \n",
            "0         7,55  2022-07-06 08:50:04    True          -1          OK  \n",
            "1        14,99  2022-07-19 11:02:56    True          -1          OK  \n",
            "2        17,61  2022-07-19 11:02:56    True          -1          OK  \n",
            "3        29,25  2022-07-19 11:02:56    True          -1          OK  \n",
            "4        17,24  2022-07-19 11:02:56    True          -1          OK  \n",
            "...        ...                  ...     ...         ...         ...  \n",
            "1028338    5,5  2022-03-03 09:45:55    True          -1          OK  \n",
            "1028339   5,31  2022-03-03 09:45:55    True          -1          OK  \n",
            "1028340    9,9  2022-03-03 09:45:55    True          -1          OK  \n",
            "1028341  25,86  2022-03-03 09:45:55    True          -1          OK  \n",
            "1028342   4,31  2022-03-03 09:45:55    True          -1          OK  \n",
            "\n",
            "[1028343 rows x 22 columns]\n"
          ]
        }
      ],
      "source": [
        "# print the data frame to get an idea\n",
        "print(df_session)"
      ]
    },
    {
      "cell_type": "code",
      "execution_count": null,
      "metadata": {
        "colab": {
          "base_uri": "https://localhost:8080/"
        },
        "id": "ay9j3PbR0MDk",
        "outputId": "4c4f6f65-8871-4e08-9b01-6170ed5ff698"
      },
      "outputs": [
        {
          "output_type": "stream",
          "name": "stdout",
          "text": [
            "Earliest Date: 2022-01-01 00:02:00\n",
            "Latest Date: 2080-01-12 22:35:47\n"
          ]
        }
      ],
      "source": [
        "# check the dates in the data frame\n",
        "earliest_date = df_session['StartConnectionDateTime'].min()\n",
        "latest_date = df_session['StartConnectionDateTime'].max()\n",
        "\n",
        "print(\"Earliest Date:\", earliest_date)\n",
        "print(\"Latest Date:\", latest_date)"
      ]
    },
    {
      "cell_type": "code",
      "execution_count": null,
      "metadata": {
        "id": "M_JIOMmousJg"
      },
      "outputs": [],
      "source": [
        "# Ensure 'Date' column is of datetime type\n",
        "df_session['StartConnectionDateTime'] = pd.to_datetime(df_session['StartConnectionDateTime'])"
      ]
    },
    {
      "cell_type": "markdown",
      "metadata": {
        "id": "Es9Z9Eb7aP8K"
      },
      "source": [
        "## Merging and Enhancing Data\n",
        "We create another data frame in order to merge the master data about each charger with the session data. This enables us to add the max power capacity (in kWh) for each charger. "
      ]
    },
    {
      "cell_type": "code",
      "execution_count": null,
      "metadata": {
        "id": "7qkjbkGuXLbV"
      },
      "outputs": [],
      "source": [
        "file_path_1 = '/content/drive/My Drive/data_charger.csv'\n",
        "\n",
        "# create a dataframe from excel\n",
        "df_chargers = pd.read_csv(file_path_1)"
      ]
    },
    {
      "cell_type": "code",
      "execution_count": null,
      "metadata": {
        "id": "_DEvatL8bh1_"
      },
      "outputs": [],
      "source": [
        "# Remove '_1' or '_2' from the end of the 'charger_ID' column to make sure that \n",
        "# both charger_ID / chargepoint_IDs have the same format\n",
        "df_chargers['charger_ID'] = df_chargers['charger_ID'].str.replace('(_[12])$', '', regex=True)\n"
      ]
    },
    {
      "cell_type": "code",
      "execution_count": null,
      "metadata": {
        "id": "MAW7ceetLFZd"
      },
      "outputs": [],
      "source": [
        "# add power column from master data of the EV chargers\n",
        "df_session = df_session.merge(df_chargers[['charger_ID', 'power']], \n",
        "                              left_on='ChargePoint_ID', right_on='charger_ID', \n",
        "                              how='left')\n",
        "\n",
        "# drop the redundant 'charger_ID' column after the merge\n",
        "df_session.drop('charger_ID', axis=1, inplace=True)"
      ]
    },
    {
      "cell_type": "markdown",
      "source": [
        "As our analysis should eventually happen on zipcode level, we need to map a zipcode to each transaction given in the data frame. We approach this by first creating a data frame that contains the unique latitudes and longitudes given in the charging data. "
      ],
      "metadata": {
        "id": "RX6zPGwDdKEq"
      }
    },
    {
      "cell_type": "code",
      "execution_count": null,
      "metadata": {
        "id": "F2IOHp28EpXQ"
      },
      "outputs": [],
      "source": [
        "# create a new df with unique longitute and latitude\n",
        "unique_loc = df_session[['Latitude', 'Longitude']].drop_duplicates()"
      ]
    },
    {
      "cell_type": "code",
      "execution_count": null,
      "metadata": {
        "colab": {
          "base_uri": "https://localhost:8080/"
        },
        "id": "Pnh2Zs7HEtzP",
        "outputId": "428d8a34-1285-4663-9b3b-a65ba52554f3"
      },
      "outputs": [
        {
          "output_type": "execute_result",
          "data": {
            "text/plain": [
              "Latitude     object\n",
              "Longitude    object\n",
              "dtype: object"
            ]
          },
          "metadata": {},
          "execution_count": 11
        }
      ],
      "source": [
        "# check data types of latitute and longitude \n",
        "unique_loc.dtypes"
      ]
    },
    {
      "cell_type": "code",
      "execution_count": null,
      "metadata": {
        "id": "QIM-JofdvrSh"
      },
      "outputs": [],
      "source": [
        "# transform data\n",
        "unique_loc['Latitude'] = unique_loc['Latitude'].str.replace(',', '.').astype('float64')\n",
        "unique_loc['Longitude'] = unique_loc['Longitude'].str.replace(',', '.').astype('float64')\n"
      ]
    },
    {
      "cell_type": "markdown",
      "source": [
        "With the help of the geopy API we are able to retrieve a zipcode per lat/long combination."
      ],
      "metadata": {
        "id": "i2_xFbUxda8w"
      }
    },
    {
      "cell_type": "code",
      "execution_count": null,
      "metadata": {
        "id": "XNL6-cV599i6"
      },
      "outputs": [],
      "source": [
        "# create function to retrieve zipcode per EV charger\n",
        "import geopy\n",
        "from geopy.geocoders import Nominatim\n",
        "\n",
        "def get_zipcode(latitude, longitude, timeout=10):\n",
        "    geolocator = Nominatim(user_agent=\"myGeocoder\", timeout=timeout)\n",
        "    location = geolocator.reverse((latitude, longitude))\n",
        "    if location is not None:\n",
        "        return location.raw['address'].get('postcode')\n",
        "    else:\n",
        "        return None"
      ]
    },
    {
      "cell_type": "code",
      "execution_count": null,
      "metadata": {
        "id": "2YaFO5Wl-KHg"
      },
      "outputs": [],
      "source": [
        "# apply function to retrieve zipcode for unique_loc \n",
        "for index, row in unique_loc.iterrows():\n",
        "    latitude = row['Latitude']\n",
        "    longitude = row['Longitude']\n",
        "    zipcode = get_zipcode(latitude, longitude)\n",
        "    if zipcode is not None:\n",
        "        unique_loc.at[index, 'zipcode'] = zipcode"
      ]
    },
    {
      "cell_type": "code",
      "execution_count": null,
      "metadata": {
        "id": "qhX-7VKgSagb",
        "colab": {
          "base_uri": "https://localhost:8080/",
          "height": 423
        },
        "outputId": "03159b7b-f33e-4afe-af45-76ef1286cd23"
      },
      "outputs": [
        {
          "output_type": "execute_result",
          "data": {
            "text/plain": [
              "          Latitude  Longitude  zipcode\n",
              "0        52.375757   4.886566  1018 VA\n",
              "1        52.392331   4.852782  1014 AK\n",
              "30       52.365182   4.835999  1061 AV\n",
              "31       52.327898   4.862967  1081 BE\n",
              "32       52.379811   4.896406  1012 AB\n",
              "...            ...        ...      ...\n",
              "944279   52.361994   4.980696  1086 ZG\n",
              "953867   52.352246   4.903335  1074 VK\n",
              "975436   52.374862   4.863636  1056 KP\n",
              "984516   52.352433   4.904339  1074 VH\n",
              "1004085  52.415826   4.878705  1033 XE\n",
              "\n",
              "[2627 rows x 3 columns]"
            ],
            "text/html": [
              "\n",
              "  <div id=\"df-f1eeb181-f07f-4097-9078-704485cd3186\">\n",
              "    <div class=\"colab-df-container\">\n",
              "      <div>\n",
              "<style scoped>\n",
              "    .dataframe tbody tr th:only-of-type {\n",
              "        vertical-align: middle;\n",
              "    }\n",
              "\n",
              "    .dataframe tbody tr th {\n",
              "        vertical-align: top;\n",
              "    }\n",
              "\n",
              "    .dataframe thead th {\n",
              "        text-align: right;\n",
              "    }\n",
              "</style>\n",
              "<table border=\"1\" class=\"dataframe\">\n",
              "  <thead>\n",
              "    <tr style=\"text-align: right;\">\n",
              "      <th></th>\n",
              "      <th>Latitude</th>\n",
              "      <th>Longitude</th>\n",
              "      <th>zipcode</th>\n",
              "    </tr>\n",
              "  </thead>\n",
              "  <tbody>\n",
              "    <tr>\n",
              "      <th>0</th>\n",
              "      <td>52.375757</td>\n",
              "      <td>4.886566</td>\n",
              "      <td>1018 VA</td>\n",
              "    </tr>\n",
              "    <tr>\n",
              "      <th>1</th>\n",
              "      <td>52.392331</td>\n",
              "      <td>4.852782</td>\n",
              "      <td>1014 AK</td>\n",
              "    </tr>\n",
              "    <tr>\n",
              "      <th>30</th>\n",
              "      <td>52.365182</td>\n",
              "      <td>4.835999</td>\n",
              "      <td>1061 AV</td>\n",
              "    </tr>\n",
              "    <tr>\n",
              "      <th>31</th>\n",
              "      <td>52.327898</td>\n",
              "      <td>4.862967</td>\n",
              "      <td>1081 BE</td>\n",
              "    </tr>\n",
              "    <tr>\n",
              "      <th>32</th>\n",
              "      <td>52.379811</td>\n",
              "      <td>4.896406</td>\n",
              "      <td>1012 AB</td>\n",
              "    </tr>\n",
              "    <tr>\n",
              "      <th>...</th>\n",
              "      <td>...</td>\n",
              "      <td>...</td>\n",
              "      <td>...</td>\n",
              "    </tr>\n",
              "    <tr>\n",
              "      <th>944279</th>\n",
              "      <td>52.361994</td>\n",
              "      <td>4.980696</td>\n",
              "      <td>1086 ZG</td>\n",
              "    </tr>\n",
              "    <tr>\n",
              "      <th>953867</th>\n",
              "      <td>52.352246</td>\n",
              "      <td>4.903335</td>\n",
              "      <td>1074 VK</td>\n",
              "    </tr>\n",
              "    <tr>\n",
              "      <th>975436</th>\n",
              "      <td>52.374862</td>\n",
              "      <td>4.863636</td>\n",
              "      <td>1056 KP</td>\n",
              "    </tr>\n",
              "    <tr>\n",
              "      <th>984516</th>\n",
              "      <td>52.352433</td>\n",
              "      <td>4.904339</td>\n",
              "      <td>1074 VH</td>\n",
              "    </tr>\n",
              "    <tr>\n",
              "      <th>1004085</th>\n",
              "      <td>52.415826</td>\n",
              "      <td>4.878705</td>\n",
              "      <td>1033 XE</td>\n",
              "    </tr>\n",
              "  </tbody>\n",
              "</table>\n",
              "<p>2627 rows × 3 columns</p>\n",
              "</div>\n",
              "      <button class=\"colab-df-convert\" onclick=\"convertToInteractive('df-f1eeb181-f07f-4097-9078-704485cd3186')\"\n",
              "              title=\"Convert this dataframe to an interactive table.\"\n",
              "              style=\"display:none;\">\n",
              "        \n",
              "  <svg xmlns=\"http://www.w3.org/2000/svg\" height=\"24px\"viewBox=\"0 0 24 24\"\n",
              "       width=\"24px\">\n",
              "    <path d=\"M0 0h24v24H0V0z\" fill=\"none\"/>\n",
              "    <path d=\"M18.56 5.44l.94 2.06.94-2.06 2.06-.94-2.06-.94-.94-2.06-.94 2.06-2.06.94zm-11 1L8.5 8.5l.94-2.06 2.06-.94-2.06-.94L8.5 2.5l-.94 2.06-2.06.94zm10 10l.94 2.06.94-2.06 2.06-.94-2.06-.94-.94-2.06-.94 2.06-2.06.94z\"/><path d=\"M17.41 7.96l-1.37-1.37c-.4-.4-.92-.59-1.43-.59-.52 0-1.04.2-1.43.59L10.3 9.45l-7.72 7.72c-.78.78-.78 2.05 0 2.83L4 21.41c.39.39.9.59 1.41.59.51 0 1.02-.2 1.41-.59l7.78-7.78 2.81-2.81c.8-.78.8-2.07 0-2.86zM5.41 20L4 18.59l7.72-7.72 1.47 1.35L5.41 20z\"/>\n",
              "  </svg>\n",
              "      </button>\n",
              "      \n",
              "  <style>\n",
              "    .colab-df-container {\n",
              "      display:flex;\n",
              "      flex-wrap:wrap;\n",
              "      gap: 12px;\n",
              "    }\n",
              "\n",
              "    .colab-df-convert {\n",
              "      background-color: #E8F0FE;\n",
              "      border: none;\n",
              "      border-radius: 50%;\n",
              "      cursor: pointer;\n",
              "      display: none;\n",
              "      fill: #1967D2;\n",
              "      height: 32px;\n",
              "      padding: 0 0 0 0;\n",
              "      width: 32px;\n",
              "    }\n",
              "\n",
              "    .colab-df-convert:hover {\n",
              "      background-color: #E2EBFA;\n",
              "      box-shadow: 0px 1px 2px rgba(60, 64, 67, 0.3), 0px 1px 3px 1px rgba(60, 64, 67, 0.15);\n",
              "      fill: #174EA6;\n",
              "    }\n",
              "\n",
              "    [theme=dark] .colab-df-convert {\n",
              "      background-color: #3B4455;\n",
              "      fill: #D2E3FC;\n",
              "    }\n",
              "\n",
              "    [theme=dark] .colab-df-convert:hover {\n",
              "      background-color: #434B5C;\n",
              "      box-shadow: 0px 1px 3px 1px rgba(0, 0, 0, 0.15);\n",
              "      filter: drop-shadow(0px 1px 2px rgba(0, 0, 0, 0.3));\n",
              "      fill: #FFFFFF;\n",
              "    }\n",
              "  </style>\n",
              "\n",
              "      <script>\n",
              "        const buttonEl =\n",
              "          document.querySelector('#df-f1eeb181-f07f-4097-9078-704485cd3186 button.colab-df-convert');\n",
              "        buttonEl.style.display =\n",
              "          google.colab.kernel.accessAllowed ? 'block' : 'none';\n",
              "\n",
              "        async function convertToInteractive(key) {\n",
              "          const element = document.querySelector('#df-f1eeb181-f07f-4097-9078-704485cd3186');\n",
              "          const dataTable =\n",
              "            await google.colab.kernel.invokeFunction('convertToInteractive',\n",
              "                                                     [key], {});\n",
              "          if (!dataTable) return;\n",
              "\n",
              "          const docLinkHtml = 'Like what you see? Visit the ' +\n",
              "            '<a target=\"_blank\" href=https://colab.research.google.com/notebooks/data_table.ipynb>data table notebook</a>'\n",
              "            + ' to learn more about interactive tables.';\n",
              "          element.innerHTML = '';\n",
              "          dataTable['output_type'] = 'display_data';\n",
              "          await google.colab.output.renderOutput(dataTable, element);\n",
              "          const docLink = document.createElement('div');\n",
              "          docLink.innerHTML = docLinkHtml;\n",
              "          element.appendChild(docLink);\n",
              "        }\n",
              "      </script>\n",
              "    </div>\n",
              "  </div>\n",
              "  "
            ]
          },
          "metadata": {},
          "execution_count": 15
        }
      ],
      "source": [
        "# print df to get an idea\n",
        "unique_loc"
      ]
    },
    {
      "cell_type": "code",
      "execution_count": null,
      "metadata": {
        "id": "pQV2esMjzfWd"
      },
      "outputs": [],
      "source": [
        "# transform data type of lat/long in the df_session data frame in order to match the \n",
        "# attributes in the unique_loc data frame\n",
        "df_session['Latitude'] = df_session['Latitude'].str.replace(',', '.').astype('float64')\n",
        "df_session['Longitude'] = df_session['Longitude'].str.replace(',', '.').astype('float64')\n"
      ]
    },
    {
      "cell_type": "code",
      "execution_count": null,
      "metadata": {
        "id": "VIku7d_qLXwO"
      },
      "outputs": [],
      "source": [
        "# merge zipcode to df_sesion\n",
        "df_session = df_session.merge(unique_loc, on=['Latitude', 'Longitude'], how='left')\n"
      ]
    },
    {
      "cell_type": "code",
      "execution_count": null,
      "metadata": {
        "colab": {
          "base_uri": "https://localhost:8080/"
        },
        "id": "8aZLtD02Rx5G",
        "outputId": "3a0afca1-8989-4d6f-f277-0ef57df00a88"
      },
      "outputs": [
        {
          "output_type": "execute_result",
          "data": {
            "text/plain": [
              "0          1018 VA\n",
              "1          1014 AK\n",
              "2          1014 AK\n",
              "3          1014 AK\n",
              "4          1014 AK\n",
              "            ...   \n",
              "1028338    1091 BB\n",
              "1028339    1057 JA\n",
              "1028340    1018 WG\n",
              "1028341    1018 WC\n",
              "1028342    1058 HC\n",
              "Name: zipcode, Length: 1028343, dtype: object"
            ]
          },
          "metadata": {},
          "execution_count": 18
        }
      ],
      "source": [
        "# check zipcode column in df_session\n",
        "df_session['zipcode']"
      ]
    },
    {
      "cell_type": "code",
      "source": [
        "# replace \",\" with \".\" in kWh and ConnectionTimeHours\n",
        "df_session['kWh'] = df_session['kWh'].str.replace(',','.')\n",
        "df_session['ConnectionTimeHours'] = df_session['ConnectionTimeHours'].str.replace(',','.')"
      ],
      "metadata": {
        "id": "F1HulI-EA8uJ"
      },
      "execution_count": null,
      "outputs": []
    },
    {
      "cell_type": "code",
      "execution_count": null,
      "metadata": {
        "id": "CdefMcL5aSxD",
        "colab": {
          "base_uri": "https://localhost:8080/"
        },
        "outputId": "48e464fe-d522-43fb-f77c-d65d1935e81c"
      },
      "outputs": [
        {
          "output_type": "execute_result",
          "data": {
            "text/plain": [
              "0           7.55\n",
              "1          14.99\n",
              "2          17.61\n",
              "3          29.25\n",
              "4          17.24\n",
              "           ...  \n",
              "1028338      5.5\n",
              "1028339     5.31\n",
              "1028340      9.9\n",
              "1028341    25.86\n",
              "1028342     4.31\n",
              "Name: kWh, Length: 1028343, dtype: object"
            ]
          },
          "metadata": {},
          "execution_count": 20
        }
      ],
      "source": [
        "# check transformation\n",
        "df_session['kWh']"
      ]
    },
    {
      "cell_type": "markdown",
      "metadata": {
        "id": "8EhwLDDOsQVu"
      },
      "source": [
        "## Data Transformation and Cleaning"
      ]
    },
    {
      "cell_type": "code",
      "execution_count": null,
      "metadata": {
        "id": "hQHBoc2ALHZc"
      },
      "outputs": [],
      "source": [
        "# make sure that kwh and power are numeric\n",
        "df_session['kWh'] = pd.to_numeric(df_session['kWh'], errors='coerce')\n",
        "df_session['power'] = pd.to_numeric(df_session['power'], errors='coerce')"
      ]
    },
    {
      "cell_type": "code",
      "execution_count": null,
      "metadata": {
        "colab": {
          "base_uri": "https://localhost:8080/",
          "height": 595
        },
        "id": "5qVfgMnTaHEm",
        "outputId": "5cf96987-e92a-465b-e520-3cd279976799"
      },
      "outputs": [
        {
          "output_type": "display_data",
          "data": {
            "text/plain": [
              "<Figure size 1000x600 with 1 Axes>"
            ],
            "image/png": "[encoded data removed]"
          },
          "metadata": {}
        }
      ],
      "source": [
        "import matplotlib.pyplot as plt\n",
        "\n",
        "# count the occurrences of each unique Socket_ID\n",
        "socket_id_counts = df_session['Socket_ID'].value_counts()\n",
        "\n",
        "# plot the frequency of each Socket_ID in a bar chart\n",
        "plt.figure(figsize=(10, 6))\n",
        "socket_id_counts.plot(kind='bar')\n",
        "plt.xlabel('Socket_ID')\n",
        "plt.ylabel('Frequency')\n",
        "plt.title('Frequency of Socket_ID Usage')\n",
        "plt.show()"
      ]
    },
    {
      "cell_type": "markdown",
      "metadata": {
        "id": "_6ThAnGCyT6c"
      },
      "source": [
        "We can see that most of the time Socket_IDs \"1\" and \"2\" are used. To our information, other Socket_IDs does not necessarily mean that a charger has more than two sockets but rather that different connection methods are used. If we want to see the amount of sockets, we need to look at the count of Socket_IDs per charger. This will be done in a later stage. "
      ]
    },
    {
      "cell_type": "code",
      "execution_count": null,
      "metadata": {
        "id": "fwHyTiO-aKJt"
      },
      "outputs": [],
      "source": [
        "# create new column that combines ChargePoint_ID and Socket_ID\n",
        "df_session['ChargeSocket_ID'] = df_session['ChargePoint_ID'].astype(str) + '_' + df_session['Socket_ID'].astype(str)"
      ]
    },
    {
      "cell_type": "markdown",
      "source": [
        "To our information, provided by the city of Amsterdam, we should include the invalid observations from our data frame. "
      ],
      "metadata": {
        "id": "eqI6Lm8VeIr1"
      }
    },
    {
      "cell_type": "code",
      "execution_count": null,
      "metadata": {
        "colab": {
          "base_uri": "https://localhost:8080/"
        },
        "id": "go7Nbsn9aNJI",
        "outputId": "23061cd3-1165-44c3-d46e-22eb871ff335"
      },
      "outputs": [
        {
          "output_type": "stream",
          "name": "stdout",
          "text": [
            "Transaction_ID             1028343\n",
            "Provider                   1028343\n",
            "City                       1028343\n",
            "Address                    1028343\n",
            "District                   1028343\n",
            "SubDistrict                1028343\n",
            "SubSubDistrict             1028343\n",
            "SubSubSubDistrict          1028343\n",
            "Latitude                   1028343\n",
            "Longitude                  1028343\n",
            "ChargePoint_ID             1028343\n",
            "Socket_ID                  1028343\n",
            "IsFastCharger              1028343\n",
            "IsAppPayment               1028343\n",
            "StartConnectionDateTime    1028343\n",
            "EndConnectionDateTime      1028343\n",
            "ConnectionTimeHours        1028343\n",
            "kWh                        1028343\n",
            "LoadDateTime               1028343\n",
            "IsValid                    1028343\n",
            "Remark_skey                1028343\n",
            "RemarkText                 1028343\n",
            "power                       907699\n",
            "zipcode                    1028343\n",
            "ChargeSocket_ID            1028343\n",
            "dtype: int64\n",
            "Transaction_ID             1015569\n",
            "Provider                   1015569\n",
            "City                       1015569\n",
            "Address                    1015569\n",
            "District                   1015569\n",
            "SubDistrict                1015569\n",
            "SubSubDistrict             1015569\n",
            "SubSubSubDistrict          1015569\n",
            "Latitude                   1015569\n",
            "Longitude                  1015569\n",
            "ChargePoint_ID             1015569\n",
            "Socket_ID                  1015569\n",
            "IsFastCharger              1015569\n",
            "IsAppPayment               1015569\n",
            "StartConnectionDateTime    1015569\n",
            "EndConnectionDateTime      1015569\n",
            "ConnectionTimeHours        1015569\n",
            "kWh                        1015569\n",
            "LoadDateTime               1015569\n",
            "IsValid                    1015569\n",
            "Remark_skey                1015569\n",
            "RemarkText                 1015569\n",
            "power                       898755\n",
            "zipcode                    1015569\n",
            "ChargeSocket_ID            1015569\n",
            "dtype: int64\n"
          ]
        }
      ],
      "source": [
        "# count rows\n",
        "print(df_session.count())\n",
        "\n",
        "# only keep rows where IsValid is true\n",
        "df_session = df_session[df_session['IsValid'] == True]\n",
        "\n",
        "# count rows\n",
        "print(df_session.count())"
      ]
    },
    {
      "cell_type": "code",
      "execution_count": null,
      "metadata": {
        "colab": {
          "base_uri": "https://localhost:8080/"
        },
        "id": "qwUlBuUhgS62",
        "outputId": "53a86553-29fc-4f32-c2e8-6f9e1ddd8d3a"
      },
      "outputs": [
        {
          "output_type": "stream",
          "name": "stdout",
          "text": [
            "Transaction_ID             1015569\n",
            "Provider                   1015569\n",
            "City                       1015569\n",
            "Address                    1015569\n",
            "District                   1015569\n",
            "SubDistrict                1015569\n",
            "SubSubDistrict             1015569\n",
            "SubSubSubDistrict          1015569\n",
            "Latitude                   1015569\n",
            "Longitude                  1015569\n",
            "ChargePoint_ID             1015569\n",
            "Socket_ID                  1015569\n",
            "IsFastCharger              1015569\n",
            "IsAppPayment               1015569\n",
            "StartConnectionDateTime    1015569\n",
            "EndConnectionDateTime      1015569\n",
            "ConnectionTimeHours        1015569\n",
            "kWh                        1015569\n",
            "LoadDateTime               1015569\n",
            "IsValid                    1015569\n",
            "Remark_skey                1015569\n",
            "RemarkText                 1015569\n",
            "power                      1015569\n",
            "zipcode                    1015569\n",
            "ChargeSocket_ID            1015569\n",
            "dtype: int64\n"
          ]
        }
      ],
      "source": [
        "# replace nan with standard charger of 22kwh as this is the standard according \n",
        "# to employee from city of Amsterdam\n",
        "df_session['power'] = df_session['power'].fillna(22.08)\n",
        "\n",
        "# count rows\n",
        "print(df_session.count())"
      ]
    },
    {
      "cell_type": "code",
      "source": [
        "# count unique charger_socket_IDs and group per charger_ID and add it to \n",
        "# df_session_detail without using the df_session_detail_group\n",
        "df_session = df_session.merge(df_session.groupby(['ChargePoint_ID']).agg({\n",
        "    'ChargeSocket_ID': 'nunique'}).reset_index(), on='ChargePoint_ID', how='left')\n",
        "\n",
        "df_session = df_session.rename(columns={'ChargeSocket_ID_y': 'ChargeSocket_ID_count'})\n",
        "df_session = df_session.rename(columns={'ChargeSocket_ID_x': 'ChargeSocket_ID'})"
      ],
      "metadata": {
        "id": "jKHSDHWliy5K"
      },
      "execution_count": null,
      "outputs": []
    },
    {
      "cell_type": "code",
      "source": [
        "import matplotlib.pyplot as plt\n",
        "\n",
        "# Group by 'ChargeSocket_ID_count' and count the occurrences\n",
        "grouped_counts = df_session.groupby('ChargeSocket_ID_count').size()\n",
        "\n",
        "# Plot the count of unique ChargeSocket_ID counts\n",
        "plt.figure(figsize=(10, 6))\n",
        "grouped_counts.plot(kind='bar')\n",
        "plt.xlabel('ChargeSocket_ID Count')\n",
        "plt.ylabel('Count')\n",
        "plt.title('Count of Unique ChargeSocket_ID Counts')\n",
        "plt.show()"
      ],
      "metadata": {
        "colab": {
          "base_uri": "https://localhost:8080/",
          "height": 548
        },
        "id": "W5ZDWSCYiuxO",
        "outputId": "eed540c4-f742-48fa-b526-b8bd727c3333"
      },
      "execution_count": null,
      "outputs": [
        {
          "output_type": "display_data",
          "data": {
            "text/plain": [
              "<Figure size 1000x600 with 1 Axes>"
            ],
            "image/png": "[encoded data removed]"
          },
          "metadata": {}
        }
      ]
    },
    {
      "cell_type": "markdown",
      "metadata": {
        "id": "7fYLbNTwgU8n"
      },
      "source": [
        "In the EV charger master data we have information about the max capacity which applies to the power a charger can provide. However, the session data gives us information about the usage by sockets. According to our contact person, all the chargers have at most 2 sockets. The assumption can be made that the power therefore can be divided by two, even though in reality this depends on further factors like the car type. As we do not have any information on that, we proceed with the assumption that if the amount of unique socket IDs per charger is 2 or more we can divide the power by the count of socket_IDs per charger. As a side node, we have some (very rare) observations with a charger having more than 2 different transactions at the same time. We assume that there are little specific chargers that indeed then can have more than 2 sockets (derived from the data). "
      ]
    },
    {
      "cell_type": "code",
      "execution_count": null,
      "metadata": {
        "id": "JQMgI3r_eoX2"
      },
      "outputs": [],
      "source": [
        "# copy the original 'power' column to a new column called 'power_charger'\n",
        "df_session['power_charger'] = df_session['power']\n",
        "\n",
        "# if the number of unique charger_socket_IDs is 2 or more, divide the 'power_charger' column \n",
        "# by the amount of sockets and store the result in a new column called 'power'\n",
        "df_session['power'] = df_session['power'] / df_session['ChargeSocket_ID_count']\n"
      ]
    },
    {
      "cell_type": "markdown",
      "metadata": {
        "id": "-oQmPRObe8Gz"
      },
      "source": [
        "In the data in can be discovered according to the time \n",
        "and kWh information that some EV holders leave their vehicle at the charging station for multiple ours or days even though the car is fully charged after a few hours or even only minutes. In order to capture the time of effectively charging (in hours), we divide the amount of kWhs used by the max capacity of the charger (\"power\").  "
      ]
    },
    {
      "cell_type": "code",
      "execution_count": null,
      "metadata": {
        "id": "af93aCuigzjb"
      },
      "outputs": [],
      "source": [
        "# calculate effective charging (in hrs) by dividing kwh by max capacity\n",
        "df_session['effective_charging_hrs'] = df_session['kWh']/df_session['power']"
      ]
    },
    {
      "cell_type": "markdown",
      "metadata": {
        "id": "2Fttj02EekPA"
      },
      "source": [
        "Some of the transaction have a timespan over multiple days. In order to caption all the information we need to split those tranactions into separate rows depending on how long the session was. This is essential as our goal is to aggregate on the daily level."
      ]
    },
    {
      "cell_type": "code",
      "execution_count": null,
      "metadata": {
        "id": "8dcnpK3VzZxH"
      },
      "outputs": [],
      "source": [
        "from datetime import timedelta\n",
        "\n",
        "df_session['StartConnectionDateTime'] = pd.to_datetime(df_session['StartConnectionDateTime'], format='%Y-%m-%dT%H:%M:%S')\n",
        "df_session['EndConnectionDateTime'] = pd.to_datetime(df_session['EndConnectionDateTime'], format='%Y-%m-%dT%H:%M:%S')\n",
        "\n",
        "\n",
        "# Create a list to store the processed rows\n",
        "new_rows = []\n",
        "\n",
        "for _, row in df_session.iterrows():\n",
        "    start_date = row['StartConnectionDateTime'].date()\n",
        "    end_date = row['EndConnectionDateTime'].date()\n",
        "    total_hours = row['ConnectionTimeHours']\n",
        "    total_effective_charging = row['effective_charging_hrs']\n",
        "\n",
        "    date_range = pd.date_range(start_date, end_date, freq='D')\n",
        "    for i, date in enumerate(date_range):\n",
        "        new_row = row.copy()\n",
        "        new_row['Date'] = date\n",
        "\n",
        "        if i == 0:\n",
        "            new_row['StartConnectionDateTime'] = row['StartConnectionDateTime']\n",
        "            if len(date_range) > 1:\n",
        "                new_row['EndConnectionDateTime'] = date.replace(hour=23, minute=59, second=59)\n",
        "                new_row['effective_charging_hrs'] = min(total_effective_charging, 24)\n",
        "                total_effective_charging -= new_row['effective_charging_hrs']\n",
        "            else:\n",
        "                new_row['EndConnectionDateTime'] = row['EndConnectionDateTime']\n",
        "                new_row['effective_charging_hrs'] = total_effective_charging\n",
        "        elif i == len(date_range) - 1:\n",
        "            new_row['StartConnectionDateTime'] = date.replace(hour=0, minute=0)\n",
        "            new_row['EndConnectionDateTime'] = row['EndConnectionDateTime']\n",
        "            new_row['effective_charging_hrs'] = total_effective_charging\n",
        "        else:\n",
        "            new_row['StartConnectionDateTime'] = date.replace(hour=0, minute=0)\n",
        "            new_row['EndConnectionDateTime'] = date.replace(hour=23, minute=59, second = 59)\n",
        "            new_row['effective_charging_hrs'] = 0\n",
        "\n",
        "        new_rows.append(new_row.to_dict())\n",
        "\n",
        "# Create a new DataFrame with the updated rows\n",
        "df_session_updated = pd.DataFrame(new_rows)\n",
        "\n",
        "\n"
      ]
    },
    {
      "cell_type": "markdown",
      "metadata": {
        "id": "oxDWZ0DGhj5o"
      },
      "source": [
        "So far, we did not distribute the kWh usage over the transactions (for multi-day-charging). In the next step this is done by the help of the effective_charging column that has been created previously. With the help of the recalculated start and end times of the sessions, we can now also recalculate the connection times. Below an example of multi-day-charging can be found. "
      ]
    },
    {
      "cell_type": "code",
      "execution_count": null,
      "metadata": {
        "id": "EBB6WPwVwKom"
      },
      "outputs": [],
      "source": [
        "# Calculate the kWh for each row based on effective charging and power\n",
        "df_session_updated['kWh'] = df_session_updated['effective_charging_hrs'] * df_session_updated['power']"
      ]
    },
    {
      "cell_type": "code",
      "execution_count": null,
      "metadata": {
        "id": "7PFqJjDX5sV1"
      },
      "outputs": [],
      "source": [
        "# Calculate the connection time in hours for each row based on the new start and end times\n",
        "df_session_updated['ConnectionTimeHours'] = (\n",
        "    df_session_updated['EndConnectionDateTime'] - df_session_updated['StartConnectionDateTime']\n",
        ").dt.total_seconds() / 3600\n",
        "\n",
        "# Round the connection time to 2 decimal places\n",
        "df_session_updated['ConnectionTimeHours'] = df_session_updated['ConnectionTimeHours'].round(2)\n"
      ]
    },
    {
      "cell_type": "code",
      "execution_count": null,
      "metadata": {
        "colab": {
          "base_uri": "https://localhost:8080/",
          "height": 190
        },
        "id": "PwNOnmrJ7HuB",
        "outputId": "f5d4e175-e621-4209-d422-09f7f6ac1fcd"
      },
      "outputs": [
        {
          "output_type": "execute_result",
          "data": {
            "text/plain": [
              "                           Transaction_ID   kWh  power  \\\n",
              "128  4ad2b40e-2fd2-4846-8f38-c3a8dab3be25  6.46   5.52   \n",
              "129  4ad2b40e-2fd2-4846-8f38-c3a8dab3be25  0.00   5.52   \n",
              "\n",
              "     effective_charging_hrs StartConnectionDateTime  ConnectionTimeHours  \n",
              "128                 1.17029     2022-06-29 23:29:37                 0.51  \n",
              "129                 0.00000     2022-06-30 00:00:00                 7.31  "
            ],
            "text/html": [
              "\n",
              "  <div id=\"df-a3472590-3175-4da8-bee2-dae5ef0f3ee8\">\n",
              "    <div class=\"colab-df-container\">\n",
              "      <div>\n",
              "<style scoped>\n",
              "    .dataframe tbody tr th:only-of-type {\n",
              "        vertical-align: middle;\n",
              "    }\n",
              "\n",
              "    .dataframe tbody tr th {\n",
              "        vertical-align: top;\n",
              "    }\n",
              "\n",
              "    .dataframe thead th {\n",
              "        text-align: right;\n",
              "    }\n",
              "</style>\n",
              "<table border=\"1\" class=\"dataframe\">\n",
              "  <thead>\n",
              "    <tr style=\"text-align: right;\">\n",
              "      <th></th>\n",
              "      <th>Transaction_ID</th>\n",
              "      <th>kWh</th>\n",
              "      <th>power</th>\n",
              "      <th>effective_charging_hrs</th>\n",
              "      <th>StartConnectionDateTime</th>\n",
              "      <th>ConnectionTimeHours</th>\n",
              "    </tr>\n",
              "  </thead>\n",
              "  <tbody>\n",
              "    <tr>\n",
              "      <th>128</th>\n",
              "      <td>4ad2b40e-2fd2-4846-8f38-c3a8dab3be25</td>\n",
              "      <td>6.46</td>\n",
              "      <td>5.52</td>\n",
              "      <td>1.17029</td>\n",
              "      <td>2022-06-29 23:29:37</td>\n",
              "      <td>0.51</td>\n",
              "    </tr>\n",
              "    <tr>\n",
              "      <th>129</th>\n",
              "      <td>4ad2b40e-2fd2-4846-8f38-c3a8dab3be25</td>\n",
              "      <td>0.00</td>\n",
              "      <td>5.52</td>\n",
              "      <td>0.00000</td>\n",
              "      <td>2022-06-30 00:00:00</td>\n",
              "      <td>7.31</td>\n",
              "    </tr>\n",
              "  </tbody>\n",
              "</table>\n",
              "</div>\n",
              "      <button class=\"colab-df-convert\" onclick=\"convertToInteractive('df-a3472590-3175-4da8-bee2-dae5ef0f3ee8')\"\n",
              "              title=\"Convert this dataframe to an interactive table.\"\n",
              "              style=\"display:none;\">\n",
              "        \n",
              "  <svg xmlns=\"http://www.w3.org/2000/svg\" height=\"24px\"viewBox=\"0 0 24 24\"\n",
              "       width=\"24px\">\n",
              "    <path d=\"M0 0h24v24H0V0z\" fill=\"none\"/>\n",
              "    <path d=\"M18.56 5.44l.94 2.06.94-2.06 2.06-.94-2.06-.94-.94-2.06-.94 2.06-2.06.94zm-11 1L8.5 8.5l.94-2.06 2.06-.94-2.06-.94L8.5 2.5l-.94 2.06-2.06.94zm10 10l.94 2.06.94-2.06 2.06-.94-2.06-.94-.94-2.06-.94 2.06-2.06.94z\"/><path d=\"M17.41 7.96l-1.37-1.37c-.4-.4-.92-.59-1.43-.59-.52 0-1.04.2-1.43.59L10.3 9.45l-7.72 7.72c-.78.78-.78 2.05 0 2.83L4 21.41c.39.39.9.59 1.41.59.51 0 1.02-.2 1.41-.59l7.78-7.78 2.81-2.81c.8-.78.8-2.07 0-2.86zM5.41 20L4 18.59l7.72-7.72 1.47 1.35L5.41 20z\"/>\n",
              "  </svg>\n",
              "      </button>\n",
              "      \n",
              "  <style>\n",
              "    .colab-df-container {\n",
              "      display:flex;\n",
              "      flex-wrap:wrap;\n",
              "      gap: 12px;\n",
              "    }\n",
              "\n",
              "    .colab-df-convert {\n",
              "      background-color: #E8F0FE;\n",
              "      border: none;\n",
              "      border-radius: 50%;\n",
              "      cursor: pointer;\n",
              "      display: none;\n",
              "      fill: #1967D2;\n",
              "      height: 32px;\n",
              "      padding: 0 0 0 0;\n",
              "      width: 32px;\n",
              "    }\n",
              "\n",
              "    .colab-df-convert:hover {\n",
              "      background-color: #E2EBFA;\n",
              "      box-shadow: 0px 1px 2px rgba(60, 64, 67, 0.3), 0px 1px 3px 1px rgba(60, 64, 67, 0.15);\n",
              "      fill: #174EA6;\n",
              "    }\n",
              "\n",
              "    [theme=dark] .colab-df-convert {\n",
              "      background-color: #3B4455;\n",
              "      fill: #D2E3FC;\n",
              "    }\n",
              "\n",
              "    [theme=dark] .colab-df-convert:hover {\n",
              "      background-color: #434B5C;\n",
              "      box-shadow: 0px 1px 3px 1px rgba(0, 0, 0, 0.15);\n",
              "      filter: drop-shadow(0px 1px 2px rgba(0, 0, 0, 0.3));\n",
              "      fill: #FFFFFF;\n",
              "    }\n",
              "  </style>\n",
              "\n",
              "      <script>\n",
              "        const buttonEl =\n",
              "          document.querySelector('#df-a3472590-3175-4da8-bee2-dae5ef0f3ee8 button.colab-df-convert');\n",
              "        buttonEl.style.display =\n",
              "          google.colab.kernel.accessAllowed ? 'block' : 'none';\n",
              "\n",
              "        async function convertToInteractive(key) {\n",
              "          const element = document.querySelector('#df-a3472590-3175-4da8-bee2-dae5ef0f3ee8');\n",
              "          const dataTable =\n",
              "            await google.colab.kernel.invokeFunction('convertToInteractive',\n",
              "                                                     [key], {});\n",
              "          if (!dataTable) return;\n",
              "\n",
              "          const docLinkHtml = 'Like what you see? Visit the ' +\n",
              "            '<a target=\"_blank\" href=https://colab.research.google.com/notebooks/data_table.ipynb>data table notebook</a>'\n",
              "            + ' to learn more about interactive tables.';\n",
              "          element.innerHTML = '';\n",
              "          dataTable['output_type'] = 'display_data';\n",
              "          await google.colab.output.renderOutput(dataTable, element);\n",
              "          const docLink = document.createElement('div');\n",
              "          docLink.innerHTML = docLinkHtml;\n",
              "          element.appendChild(docLink);\n",
              "        }\n",
              "      </script>\n",
              "    </div>\n",
              "  </div>\n",
              "  "
            ]
          },
          "metadata": {},
          "execution_count": 33
        }
      ],
      "source": [
        "df_session_updated.loc[128:129,['Transaction_ID', 'kWh', 'power', 'effective_charging_hrs','StartConnectionDateTime', 'ConnectionTimeHours']]"
      ]
    },
    {
      "cell_type": "markdown",
      "metadata": {
        "id": "kj-yOYQEZ7Z6"
      },
      "source": [
        "## Feature Extraction \n",
        "### Extracting Provider Information\n",
        "In ordert to further be able to make use of the provider, we one-hot-encode them by creating a new column per provider. "
      ]
    },
    {
      "cell_type": "code",
      "execution_count": null,
      "metadata": {
        "id": "rnYAMOf4Z-s8"
      },
      "outputs": [],
      "source": [
        "# create a new column to hot encode the provider\n",
        "df_session_updated['Total'] = (df_session_updated['Provider'] == 'TOTAL').astype(int)\n",
        "df_session_updated['Vattenfall'] = (df_session_updated['Provider'] == 'VATTENFALL').astype(int)\n",
        "df_session_updated['Allego'] = (df_session_updated['Provider'] == 'ALLEGO').astype(int)\n",
        "df_session_updated['Equans'] = (df_session_updated['Provider'] == 'EQUANS').astype(int)\n",
        "df_session_updated['EvBox'] = (df_session_updated['Provider'] == 'EVBOX').astype(int)\n",
        "df_session_updated['Nuon'] = (df_session_updated['Provider'] == 'NUON').astype(int)\n",
        "df_session_updated['WDS'] = (df_session_updated['Provider'] == 'WE DRIVE SOLAR').astype(int)\n",
        "df_session_updated['Engie'] = (df_session_updated['Provider'] == 'ENGIE').astype(int)\n",
        "df_session_updated['Pitpoint'] = (df_session_updated['Provider'] == 'PITPOINT').astype(int)\n",
        "df_session_updated['Ecotap'] = (df_session_updated['Provider'] == 'ECOTAP').astype(int)\n"
      ]
    },
    {
      "cell_type": "markdown",
      "metadata": {
        "id": "e0lCRnaDikxZ"
      },
      "source": [
        "Furthermore, as we also want to look into peak hours, we create 24 new columns for each hour of the day and test if the charger has been occupied and how long (in hrs). The same is done for the hours of effective charging. "
      ]
    },
    {
      "cell_type": "code",
      "execution_count": null,
      "metadata": {
        "id": "lq6MZi219QhI"
      },
      "outputs": [],
      "source": [
        "# Create new columns for each hour of the day\n",
        "for i in range(24):\n",
        "    df_session_updated[f\"{i}-{i+1}\"] = 0\n",
        "\n",
        "# Calculate the occupancy for each hour\n",
        "for _, row in df_session_updated.iterrows():\n",
        "    start_hour = row['StartConnectionDateTime'].hour\n",
        "    end_hour = row['EndConnectionDateTime'].hour\n",
        "    day_hours = list(range(start_hour, end_hour+1))\n",
        "\n",
        "    for i in range(24):\n",
        "        if i in day_hours:\n",
        "            if i == start_hour:\n",
        "                time_occupied = 60 - row['StartConnectionDateTime'].minute\n",
        "            elif i == end_hour:\n",
        "                time_occupied = row['EndConnectionDateTime'].minute\n",
        "            else:\n",
        "                time_occupied = 60\n",
        "\n",
        "            time_occupied = time_occupied / 60\n",
        "            df_session_updated.at[_, f\"{i}-{i+1}\"] = time_occupied\n"
      ]
    },
    {
      "cell_type": "code",
      "execution_count": null,
      "metadata": {
        "id": "kwRd-hgStNLl"
      },
      "outputs": [],
      "source": [
        "# Do the same for effective charging\n",
        "# Create new columns for each hour of the day\n",
        "for i in range(24):\n",
        "    df_session_updated[f\"effective_charging_hrs{i}-{i+1}\"] = 0\n",
        "\n",
        "# Calculate the effective charging for each hour\n",
        "for _, row in df_session_updated.iterrows():\n",
        "    start_hour = row['StartConnectionDateTime'].hour\n",
        "    end_hour = row['EndConnectionDateTime'].hour\n",
        "    day_hours = list(range(start_hour, end_hour+1))\n",
        "    effective_charging = row['effective_charging']\n",
        "\n",
        "    for i in range(24):\n",
        "        if i in day_hours:\n",
        "            if i == start_hour:\n",
        "                time_occupied = 60 - row['StartConnectionDateTime'].minute\n",
        "            elif i == end_hour:\n",
        "                time_occupied = row['EndConnectionDateTime'].minute\n",
        "            else:\n",
        "                time_occupied = 60\n",
        "\n",
        "            time_occupied = time_occupied / 60\n",
        "            effective_charging_per_hour = min(time_occupied, effective_charging)\n",
        "            df_session_updated.at[_, f\"effective_charging_hrs{i}-{i+1}\"] = effective_charging_per_hour\n",
        "            effective_charging -= effective_charging_per_hour\n"
      ]
    },
    {
      "cell_type": "code",
      "execution_count": null,
      "metadata": {
        "id": "hgMh-_qAzevj"
      },
      "outputs": [],
      "source": [
        "# saving DF to google drive as a security step\n",
        "df_session_updated.to_csv('/content/drive/My Drive/df_session_updated_2022_1.csv', index=False)"
      ]
    },
    {
      "cell_type": "code",
      "execution_count": null,
      "metadata": {
        "colab": {
          "base_uri": "https://localhost:8080/"
        },
        "id": "-fujaUQfjSMt",
        "outputId": "1d149da4-7a2f-48e9-d0a7-f095747f7650"
      },
      "outputs": [
        {
          "output_type": "stream",
          "name": "stdout",
          "text": [
            "Index(['Transaction_ID', 'Provider', 'City', 'Address', 'District',\n",
            "       'SubDistrict', 'SubSubDistrict', 'SubSubSubDistrict', 'Latitude',\n",
            "       'Longitude', 'ChargePoint_ID', 'Socket_ID', 'IsFastCharger',\n",
            "       'IsAppPayment', 'StartConnectionDateTime', 'EndConnectionDateTime',\n",
            "       'ConnectionTimeHours', 'kWh', 'LoadDateTime', 'IsValid', 'Remark_skey',\n",
            "       'RemarkText', 'power', 'zipcode', 'ChargeSocket_ID',\n",
            "       'ChargeSocket_ID_count', 'power_charger', 'effective_charging_hrs',\n",
            "       'Date', 'effective_charging', 'Total', 'Vattenfall', 'Allego', 'Equans',\n",
            "       'EvBox', 'Nuon', 'WDS', 'Engie', 'Pitpoint', 'Ecotap', '0-1', '1-2',\n",
            "       '2-3', '3-4', '4-5', '5-6', '6-7', '7-8', '8-9', '9-10', '10-11',\n",
            "       '11-12', '12-13', '13-14', '14-15', '15-16', '16-17', '17-18', '18-19',\n",
            "       '19-20', '20-21', '21-22', '22-23', '23-24',\n",
            "       'effective_charging_hrs0-1', 'effective_charging_hrs1-2',\n",
            "       'effective_charging_hrs2-3', 'effective_charging_hrs3-4',\n",
            "       'effective_charging_hrs4-5', 'effective_charging_hrs5-6',\n",
            "       'effective_charging_hrs6-7', 'effective_charging_hrs7-8',\n",
            "       'effective_charging_hrs8-9', 'effective_charging_hrs9-10',\n",
            "       'effective_charging_hrs10-11', 'effective_charging_hrs11-12',\n",
            "       'effective_charging_hrs12-13', 'effective_charging_hrs13-14',\n",
            "       'effective_charging_hrs14-15', 'effective_charging_hrs15-16',\n",
            "       'effective_charging_hrs16-17', 'effective_charging_hrs17-18',\n",
            "       'effective_charging_hrs18-19', 'effective_charging_hrs19-20',\n",
            "       'effective_charging_hrs20-21', 'effective_charging_hrs21-22',\n",
            "       'effective_charging_hrs22-23', 'effective_charging_hrs23-24'],\n",
            "      dtype='object')\n"
          ]
        }
      ],
      "source": [
        "print(df_session_updated.columns)\n"
      ]
    },
    {
      "cell_type": "markdown",
      "metadata": {
        "id": "lkAGoMZkl87d"
      },
      "source": [
        "## Aggregation\n",
        "In order to further analyze our data, we need to aggregate it to the daily level. The first aggregation that we are executing is by date and Charge_Socket_ID, so therefore on the socket level. "
      ]
    },
    {
      "cell_type": "code",
      "execution_count": null,
      "metadata": {
        "id": "G24lIlA7zG09"
      },
      "outputs": [],
      "source": [
        "# group the data frame by ChargerSocket_ID and Date\n",
        "grouped_df = df_session_updated.groupby(['ChargeSocket_ID', 'Date']).agg({\n",
        "    'Transaction_ID': 'count',\n",
        "    'Provider': 'first',\n",
        "    'City': 'first',\n",
        "    'Address': 'first',\n",
        "    'District': 'first',\n",
        "    'ChargePoint_ID': 'first',\n",
        "    'Socket_ID': 'first',\n",
        "    'IsFastCharger': 'first',\n",
        "    'IsAppPayment': 'first',\n",
        "    'ConnectionTimeHours': 'sum',\n",
        "    'kWh': 'sum',\n",
        "    'Total': 'first',\n",
        "    'Vattenfall': 'first',\n",
        "    'Allego': 'first',\n",
        "    'Equans': 'first',\n",
        "    'EvBox': 'first',\n",
        "    'Nuon': 'first',\n",
        "    'WDS': 'first',\n",
        "    'Engie': 'first', \n",
        "    'Pitpoint': 'first',\n",
        "    'Ecotap': 'first',\n",
        "    'power': 'mean',\n",
        "    'zipcode': 'first',\n",
        "    'effective_charging_hrs': 'sum',\n",
        "    **{f\"{i}-{i+1}\": 'sum' for i in range(24)},\n",
        "    **{f\"effective_charging_hrs{i}-{i+1}\": 'sum' for i in range(24)}\n",
        "})\n",
        "\n",
        "# Reset the index to flatten the DataFrame\n",
        "grouped_df.reset_index(inplace=True)\n"
      ]
    },
    {
      "cell_type": "code",
      "execution_count": null,
      "metadata": {
        "id": "qcbxAf0czvXi",
        "colab": {
          "base_uri": "https://localhost:8080/",
          "height": 765
        },
        "outputId": "0777cb08-8c9f-4549-b333-80b01099d8ef"
      },
      "outputs": [
        {
          "output_type": "execute_result",
          "data": {
            "text/plain": [
              "             ChargeSocket_ID       Date  Transaction_ID    Provider  \\\n",
              "0              ALF-0002080_1 2022-01-01               1  VATTENFALL   \n",
              "1              ALF-0002080_1 2022-01-02               1  VATTENFALL   \n",
              "2              ALF-0002080_1 2022-01-03               2  VATTENFALL   \n",
              "3              ALF-0002080_1 2022-01-04               2  VATTENFALL   \n",
              "4              ALF-0002080_1 2022-01-05               2  VATTENFALL   \n",
              "...                      ...        ...             ...         ...   \n",
              "807637  TOTAL-NN001858-015_3 2022-03-01               1       TOTAL   \n",
              "807638  TOTAL-NN001858-015_3 2022-03-11               1       TOTAL   \n",
              "807639  TOTAL-NN001858-015_3 2022-03-14               1       TOTAL   \n",
              "807640  TOTAL-NN001858-015_3 2022-03-15               1       TOTAL   \n",
              "807641  TOTAL-NN001858-015_3 2022-03-17               1       TOTAL   \n",
              "\n",
              "             City                    Address    District      ChargePoint_ID  \\\n",
              "0       Amsterdam  Johan van Kuyckstraat 111  Nieuw West         ALF-0002080   \n",
              "1       Amsterdam  Johan van Kuyckstraat 111  Nieuw West         ALF-0002080   \n",
              "2       Amsterdam  Johan van Kuyckstraat 111  Nieuw West         ALF-0002080   \n",
              "3       Amsterdam  Johan van Kuyckstraat 111  Nieuw West         ALF-0002080   \n",
              "4       Amsterdam  Johan van Kuyckstraat 111  Nieuw West         ALF-0002080   \n",
              "...           ...                        ...         ...                 ...   \n",
              "807637  Amsterdam            Vorticellaweg 2       Noord  TOTAL-NN001858-015   \n",
              "807638  Amsterdam            Vorticellaweg 2       Noord  TOTAL-NN001858-015   \n",
              "807639  Amsterdam            Vorticellaweg 2       Noord  TOTAL-NN001858-015   \n",
              "807640  Amsterdam            Vorticellaweg 2       Noord  TOTAL-NN001858-015   \n",
              "807641  Amsterdam            Vorticellaweg 2       Noord  TOTAL-NN001858-015   \n",
              "\n",
              "       Socket_ID  IsFastCharger  ...  effective_charging_hrs14-15  \\\n",
              "0              1          False  ...                          0.0   \n",
              "1              1          False  ...                          1.0   \n",
              "2              1          False  ...                          1.0   \n",
              "3              1          False  ...                          0.0   \n",
              "4              1          False  ...                          0.0   \n",
              "...          ...            ...  ...                          ...   \n",
              "807637         3          False  ...                          0.0   \n",
              "807638         3          False  ...                          0.0   \n",
              "807639         3          False  ...                          0.0   \n",
              "807640         3          False  ...                          0.0   \n",
              "807641         3          False  ...                          0.0   \n",
              "\n",
              "        effective_charging_hrs15-16  effective_charging_hrs16-17  \\\n",
              "0                               0.0                          0.0   \n",
              "1                               1.0                          1.0   \n",
              "2                               1.0                          1.0   \n",
              "3                               0.0                          0.0   \n",
              "4                               0.0                          0.0   \n",
              "...                             ...                          ...   \n",
              "807637                          0.0                          0.0   \n",
              "807638                          0.0                          0.0   \n",
              "807639                          0.0                          0.0   \n",
              "807640                          0.0                          0.0   \n",
              "807641                          0.0                          0.0   \n",
              "\n",
              "        effective_charging_hrs17-18  effective_charging_hrs18-19  \\\n",
              "0                          0.000000                     0.000000   \n",
              "1                          1.000000                     1.000000   \n",
              "2                          1.000000                     0.750000   \n",
              "3                          0.572464                     0.000000   \n",
              "4                          0.633333                     0.466304   \n",
              "...                             ...                          ...   \n",
              "807637                     0.000000                     0.000000   \n",
              "807638                     0.000000                     0.000000   \n",
              "807639                     0.000000                     0.000000   \n",
              "807640                     0.000000                     0.000000   \n",
              "807641                     0.000000                     0.000000   \n",
              "\n",
              "        effective_charging_hrs19-20  effective_charging_hrs20-21  \\\n",
              "0                          0.000000                          0.0   \n",
              "1                          1.000000                          1.0   \n",
              "2                          0.750725                          0.0   \n",
              "3                          0.000000                          0.0   \n",
              "4                          0.000000                          0.0   \n",
              "...                             ...                          ...   \n",
              "807637                     0.000000                          0.0   \n",
              "807638                     0.000000                          0.0   \n",
              "807639                     0.000000                          0.0   \n",
              "807640                     0.000000                          0.0   \n",
              "807641                     0.000000                          0.0   \n",
              "\n",
              "        effective_charging_hrs21-22  effective_charging_hrs22-23  \\\n",
              "0                               0.0                          0.5   \n",
              "1                               1.0                          1.0   \n",
              "2                               0.0                          0.0   \n",
              "3                               0.0                          0.0   \n",
              "4                               0.0                          0.0   \n",
              "...                             ...                          ...   \n",
              "807637                          0.0                          0.0   \n",
              "807638                          0.0                          0.0   \n",
              "807639                          0.0                          0.0   \n",
              "807640                          0.0                          0.0   \n",
              "807641                          0.0                          0.0   \n",
              "\n",
              "        effective_charging_hrs23-24  \n",
              "0                          0.983333  \n",
              "1                          0.983333  \n",
              "2                          0.000000  \n",
              "3                          0.000000  \n",
              "4                          0.000000  \n",
              "...                             ...  \n",
              "807637                     0.000000  \n",
              "807638                     0.000000  \n",
              "807639                     0.000000  \n",
              "807640                     0.000000  \n",
              "807641                     0.000000  \n",
              "\n",
              "[807642 rows x 74 columns]"
            ],
            "text/html": [
              "\n",
              "  <div id=\"df-4b22701c-0e0d-40ce-869a-ed27d7feda88\">\n",
              "    <div class=\"colab-df-container\">\n",
              "      <div>\n",
              "<style scoped>\n",
              "    .dataframe tbody tr th:only-of-type {\n",
              "        vertical-align: middle;\n",
              "    }\n",
              "\n",
              "    .dataframe tbody tr th {\n",
              "        vertical-align: top;\n",
              "    }\n",
              "\n",
              "    .dataframe thead th {\n",
              "        text-align: right;\n",
              "    }\n",
              "</style>\n",
              "<table border=\"1\" class=\"dataframe\">\n",
              "  <thead>\n",
              "    <tr style=\"text-align: right;\">\n",
              "      <th></th>\n",
              "      <th>ChargeSocket_ID</th>\n",
              "      <th>Date</th>\n",
              "      <th>Transaction_ID</th>\n",
              "      <th>Provider</th>\n",
              "      <th>City</th>\n",
              "      <th>Address</th>\n",
              "      <th>District</th>\n",
              "      <th>ChargePoint_ID</th>\n",
              "      <th>Socket_ID</th>\n",
              "      <th>IsFastCharger</th>\n",
              "      <th>...</th>\n",
              "      <th>effective_charging_hrs14-15</th>\n",
              "      <th>effective_charging_hrs15-16</th>\n",
              "      <th>effective_charging_hrs16-17</th>\n",
              "      <th>effective_charging_hrs17-18</th>\n",
              "      <th>effective_charging_hrs18-19</th>\n",
              "      <th>effective_charging_hrs19-20</th>\n",
              "      <th>effective_charging_hrs20-21</th>\n",
              "      <th>effective_charging_hrs21-22</th>\n",
              "      <th>effective_charging_hrs22-23</th>\n",
              "      <th>effective_charging_hrs23-24</th>\n",
              "    </tr>\n",
              "  </thead>\n",
              "  <tbody>\n",
              "    <tr>\n",
              "      <th>0</th>\n",
              "      <td>ALF-0002080_1</td>\n",
              "      <td>2022-01-01</td>\n",
              "      <td>1</td>\n",
              "      <td>VATTENFALL</td>\n",
              "      <td>Amsterdam</td>\n",
              "      <td>Johan van Kuyckstraat 111</td>\n",
              "      <td>Nieuw West</td>\n",
              "      <td>ALF-0002080</td>\n",
              "      <td>1</td>\n",
              "      <td>False</td>\n",
              "      <td>...</td>\n",
              "      <td>0.0</td>\n",
              "      <td>0.0</td>\n",
              "      <td>0.0</td>\n",
              "      <td>0.000000</td>\n",
              "      <td>0.000000</td>\n",
              "      <td>0.000000</td>\n",
              "      <td>0.0</td>\n",
              "      <td>0.0</td>\n",
              "      <td>0.5</td>\n",
              "      <td>0.983333</td>\n",
              "    </tr>\n",
              "    <tr>\n",
              "      <th>1</th>\n",
              "      <td>ALF-0002080_1</td>\n",
              "      <td>2022-01-02</td>\n",
              "      <td>1</td>\n",
              "      <td>VATTENFALL</td>\n",
              "      <td>Amsterdam</td>\n",
              "      <td>Johan van Kuyckstraat 111</td>\n",
              "      <td>Nieuw West</td>\n",
              "      <td>ALF-0002080</td>\n",
              "      <td>1</td>\n",
              "      <td>False</td>\n",
              "      <td>...</td>\n",
              "      <td>1.0</td>\n",
              "      <td>1.0</td>\n",
              "      <td>1.0</td>\n",
              "      <td>1.000000</td>\n",
              "      <td>1.000000</td>\n",
              "      <td>1.000000</td>\n",
              "      <td>1.0</td>\n",
              "      <td>1.0</td>\n",
              "      <td>1.0</td>\n",
              "      <td>0.983333</td>\n",
              "    </tr>\n",
              "    <tr>\n",
              "      <th>2</th>\n",
              "      <td>ALF-0002080_1</td>\n",
              "      <td>2022-01-03</td>\n",
              "      <td>2</td>\n",
              "      <td>VATTENFALL</td>\n",
              "      <td>Amsterdam</td>\n",
              "      <td>Johan van Kuyckstraat 111</td>\n",
              "      <td>Nieuw West</td>\n",
              "      <td>ALF-0002080</td>\n",
              "      <td>1</td>\n",
              "      <td>False</td>\n",
              "      <td>...</td>\n",
              "      <td>1.0</td>\n",
              "      <td>1.0</td>\n",
              "      <td>1.0</td>\n",
              "      <td>1.000000</td>\n",
              "      <td>0.750000</td>\n",
              "      <td>0.750725</td>\n",
              "      <td>0.0</td>\n",
              "      <td>0.0</td>\n",
              "      <td>0.0</td>\n",
              "      <td>0.000000</td>\n",
              "    </tr>\n",
              "    <tr>\n",
              "      <th>3</th>\n",
              "      <td>ALF-0002080_1</td>\n",
              "      <td>2022-01-04</td>\n",
              "      <td>2</td>\n",
              "      <td>VATTENFALL</td>\n",
              "      <td>Amsterdam</td>\n",
              "      <td>Johan van Kuyckstraat 111</td>\n",
              "      <td>Nieuw West</td>\n",
              "      <td>ALF-0002080</td>\n",
              "      <td>1</td>\n",
              "      <td>False</td>\n",
              "      <td>...</td>\n",
              "      <td>0.0</td>\n",
              "      <td>0.0</td>\n",
              "      <td>0.0</td>\n",
              "      <td>0.572464</td>\n",
              "      <td>0.000000</td>\n",
              "      <td>0.000000</td>\n",
              "      <td>0.0</td>\n",
              "      <td>0.0</td>\n",
              "      <td>0.0</td>\n",
              "      <td>0.000000</td>\n",
              "    </tr>\n",
              "    <tr>\n",
              "      <th>4</th>\n",
              "      <td>ALF-0002080_1</td>\n",
              "      <td>2022-01-05</td>\n",
              "      <td>2</td>\n",
              "      <td>VATTENFALL</td>\n",
              "      <td>Amsterdam</td>\n",
              "      <td>Johan van Kuyckstraat 111</td>\n",
              "      <td>Nieuw West</td>\n",
              "      <td>ALF-0002080</td>\n",
              "      <td>1</td>\n",
              "      <td>False</td>\n",
              "      <td>...</td>\n",
              "      <td>0.0</td>\n",
              "      <td>0.0</td>\n",
              "      <td>0.0</td>\n",
              "      <td>0.633333</td>\n",
              "      <td>0.466304</td>\n",
              "      <td>0.000000</td>\n",
              "      <td>0.0</td>\n",
              "      <td>0.0</td>\n",
              "      <td>0.0</td>\n",
              "      <td>0.000000</td>\n",
              "    </tr>\n",
              "    <tr>\n",
              "      <th>...</th>\n",
              "      <td>...</td>\n",
              "      <td>...</td>\n",
              "      <td>...</td>\n",
              "      <td>...</td>\n",
              "      <td>...</td>\n",
              "      <td>...</td>\n",
              "      <td>...</td>\n",
              "      <td>...</td>\n",
              "      <td>...</td>\n",
              "      <td>...</td>\n",
              "      <td>...</td>\n",
              "      <td>...</td>\n",
              "      <td>...</td>\n",
              "      <td>...</td>\n",
              "      <td>...</td>\n",
              "      <td>...</td>\n",
              "      <td>...</td>\n",
              "      <td>...</td>\n",
              "      <td>...</td>\n",
              "      <td>...</td>\n",
              "      <td>...</td>\n",
              "    </tr>\n",
              "    <tr>\n",
              "      <th>807637</th>\n",
              "      <td>TOTAL-NN001858-015_3</td>\n",
              "      <td>2022-03-01</td>\n",
              "      <td>1</td>\n",
              "      <td>TOTAL</td>\n",
              "      <td>Amsterdam</td>\n",
              "      <td>Vorticellaweg 2</td>\n",
              "      <td>Noord</td>\n",
              "      <td>TOTAL-NN001858-015</td>\n",
              "      <td>3</td>\n",
              "      <td>False</td>\n",
              "      <td>...</td>\n",
              "      <td>0.0</td>\n",
              "      <td>0.0</td>\n",
              "      <td>0.0</td>\n",
              "      <td>0.000000</td>\n",
              "      <td>0.000000</td>\n",
              "      <td>0.000000</td>\n",
              "      <td>0.0</td>\n",
              "      <td>0.0</td>\n",
              "      <td>0.0</td>\n",
              "      <td>0.000000</td>\n",
              "    </tr>\n",
              "    <tr>\n",
              "      <th>807638</th>\n",
              "      <td>TOTAL-NN001858-015_3</td>\n",
              "      <td>2022-03-11</td>\n",
              "      <td>1</td>\n",
              "      <td>TOTAL</td>\n",
              "      <td>Amsterdam</td>\n",
              "      <td>Vorticellaweg 2</td>\n",
              "      <td>Noord</td>\n",
              "      <td>TOTAL-NN001858-015</td>\n",
              "      <td>3</td>\n",
              "      <td>False</td>\n",
              "      <td>...</td>\n",
              "      <td>0.0</td>\n",
              "      <td>0.0</td>\n",
              "      <td>0.0</td>\n",
              "      <td>0.000000</td>\n",
              "      <td>0.000000</td>\n",
              "      <td>0.000000</td>\n",
              "      <td>0.0</td>\n",
              "      <td>0.0</td>\n",
              "      <td>0.0</td>\n",
              "      <td>0.000000</td>\n",
              "    </tr>\n",
              "    <tr>\n",
              "      <th>807639</th>\n",
              "      <td>TOTAL-NN001858-015_3</td>\n",
              "      <td>2022-03-14</td>\n",
              "      <td>1</td>\n",
              "      <td>TOTAL</td>\n",
              "      <td>Amsterdam</td>\n",
              "      <td>Vorticellaweg 2</td>\n",
              "      <td>Noord</td>\n",
              "      <td>TOTAL-NN001858-015</td>\n",
              "      <td>3</td>\n",
              "      <td>False</td>\n",
              "      <td>...</td>\n",
              "      <td>0.0</td>\n",
              "      <td>0.0</td>\n",
              "      <td>0.0</td>\n",
              "      <td>0.000000</td>\n",
              "      <td>0.000000</td>\n",
              "      <td>0.000000</td>\n",
              "      <td>0.0</td>\n",
              "      <td>0.0</td>\n",
              "      <td>0.0</td>\n",
              "      <td>0.000000</td>\n",
              "    </tr>\n",
              "    <tr>\n",
              "      <th>807640</th>\n",
              "      <td>TOTAL-NN001858-015_3</td>\n",
              "      <td>2022-03-15</td>\n",
              "      <td>1</td>\n",
              "      <td>TOTAL</td>\n",
              "      <td>Amsterdam</td>\n",
              "      <td>Vorticellaweg 2</td>\n",
              "      <td>Noord</td>\n",
              "      <td>TOTAL-NN001858-015</td>\n",
              "      <td>3</td>\n",
              "      <td>False</td>\n",
              "      <td>...</td>\n",
              "      <td>0.0</td>\n",
              "      <td>0.0</td>\n",
              "      <td>0.0</td>\n",
              "      <td>0.000000</td>\n",
              "      <td>0.000000</td>\n",
              "      <td>0.000000</td>\n",
              "      <td>0.0</td>\n",
              "      <td>0.0</td>\n",
              "      <td>0.0</td>\n",
              "      <td>0.000000</td>\n",
              "    </tr>\n",
              "    <tr>\n",
              "      <th>807641</th>\n",
              "      <td>TOTAL-NN001858-015_3</td>\n",
              "      <td>2022-03-17</td>\n",
              "      <td>1</td>\n",
              "      <td>TOTAL</td>\n",
              "      <td>Amsterdam</td>\n",
              "      <td>Vorticellaweg 2</td>\n",
              "      <td>Noord</td>\n",
              "      <td>TOTAL-NN001858-015</td>\n",
              "      <td>3</td>\n",
              "      <td>False</td>\n",
              "      <td>...</td>\n",
              "      <td>0.0</td>\n",
              "      <td>0.0</td>\n",
              "      <td>0.0</td>\n",
              "      <td>0.000000</td>\n",
              "      <td>0.000000</td>\n",
              "      <td>0.000000</td>\n",
              "      <td>0.0</td>\n",
              "      <td>0.0</td>\n",
              "      <td>0.0</td>\n",
              "      <td>0.000000</td>\n",
              "    </tr>\n",
              "  </tbody>\n",
              "</table>\n",
              "<p>807642 rows × 74 columns</p>\n",
              "</div>\n",
              "      <button class=\"colab-df-convert\" onclick=\"convertToInteractive('df-4b22701c-0e0d-40ce-869a-ed27d7feda88')\"\n",
              "              title=\"Convert this dataframe to an interactive table.\"\n",
              "              style=\"display:none;\">\n",
              "        \n",
              "  <svg xmlns=\"http://www.w3.org/2000/svg\" height=\"24px\"viewBox=\"0 0 24 24\"\n",
              "       width=\"24px\">\n",
              "    <path d=\"M0 0h24v24H0V0z\" fill=\"none\"/>\n",
              "    <path d=\"M18.56 5.44l.94 2.06.94-2.06 2.06-.94-2.06-.94-.94-2.06-.94 2.06-2.06.94zm-11 1L8.5 8.5l.94-2.06 2.06-.94-2.06-.94L8.5 2.5l-.94 2.06-2.06.94zm10 10l.94 2.06.94-2.06 2.06-.94-2.06-.94-.94-2.06-.94 2.06-2.06.94z\"/><path d=\"M17.41 7.96l-1.37-1.37c-.4-.4-.92-.59-1.43-.59-.52 0-1.04.2-1.43.59L10.3 9.45l-7.72 7.72c-.78.78-.78 2.05 0 2.83L4 21.41c.39.39.9.59 1.41.59.51 0 1.02-.2 1.41-.59l7.78-7.78 2.81-2.81c.8-.78.8-2.07 0-2.86zM5.41 20L4 18.59l7.72-7.72 1.47 1.35L5.41 20z\"/>\n",
              "  </svg>\n",
              "      </button>\n",
              "      \n",
              "  <style>\n",
              "    .colab-df-container {\n",
              "      display:flex;\n",
              "      flex-wrap:wrap;\n",
              "      gap: 12px;\n",
              "    }\n",
              "\n",
              "    .colab-df-convert {\n",
              "      background-color: #E8F0FE;\n",
              "      border: none;\n",
              "      border-radius: 50%;\n",
              "      cursor: pointer;\n",
              "      display: none;\n",
              "      fill: #1967D2;\n",
              "      height: 32px;\n",
              "      padding: 0 0 0 0;\n",
              "      width: 32px;\n",
              "    }\n",
              "\n",
              "    .colab-df-convert:hover {\n",
              "      background-color: #E2EBFA;\n",
              "      box-shadow: 0px 1px 2px rgba(60, 64, 67, 0.3), 0px 1px 3px 1px rgba(60, 64, 67, 0.15);\n",
              "      fill: #174EA6;\n",
              "    }\n",
              "\n",
              "    [theme=dark] .colab-df-convert {\n",
              "      background-color: #3B4455;\n",
              "      fill: #D2E3FC;\n",
              "    }\n",
              "\n",
              "    [theme=dark] .colab-df-convert:hover {\n",
              "      background-color: #434B5C;\n",
              "      box-shadow: 0px 1px 3px 1px rgba(0, 0, 0, 0.15);\n",
              "      filter: drop-shadow(0px 1px 2px rgba(0, 0, 0, 0.3));\n",
              "      fill: #FFFFFF;\n",
              "    }\n",
              "  </style>\n",
              "\n",
              "      <script>\n",
              "        const buttonEl =\n",
              "          document.querySelector('#df-4b22701c-0e0d-40ce-869a-ed27d7feda88 button.colab-df-convert');\n",
              "        buttonEl.style.display =\n",
              "          google.colab.kernel.accessAllowed ? 'block' : 'none';\n",
              "\n",
              "        async function convertToInteractive(key) {\n",
              "          const element = document.querySelector('#df-4b22701c-0e0d-40ce-869a-ed27d7feda88');\n",
              "          const dataTable =\n",
              "            await google.colab.kernel.invokeFunction('convertToInteractive',\n",
              "                                                     [key], {});\n",
              "          if (!dataTable) return;\n",
              "\n",
              "          const docLinkHtml = 'Like what you see? Visit the ' +\n",
              "            '<a target=\"_blank\" href=https://colab.research.google.com/notebooks/data_table.ipynb>data table notebook</a>'\n",
              "            + ' to learn more about interactive tables.';\n",
              "          element.innerHTML = '';\n",
              "          dataTable['output_type'] = 'display_data';\n",
              "          await google.colab.output.renderOutput(dataTable, element);\n",
              "          const docLink = document.createElement('div');\n",
              "          docLink.innerHTML = docLinkHtml;\n",
              "          element.appendChild(docLink);\n",
              "        }\n",
              "      </script>\n",
              "    </div>\n",
              "  </div>\n",
              "  "
            ]
          },
          "metadata": {},
          "execution_count": 40
        }
      ],
      "source": [
        "grouped_df"
      ]
    },
    {
      "cell_type": "markdown",
      "metadata": {
        "id": "dfLiEkbcmg53"
      },
      "source": [
        "We want to find out at what time the chargers are mostly occupied (not necessarily with active charging but just occupied). Furthermore, in the second plot we can see the distribution of the hours of effective charging. "
      ]
    },
    {
      "cell_type": "code",
      "execution_count": null,
      "metadata": {
        "colab": {
          "base_uri": "https://localhost:8080/"
        },
        "id": "01EFN-1S0_Ni",
        "outputId": "fa0f3313-f349-494e-b69f-0bd666509820"
      },
      "outputs": [
        {
          "output_type": "stream",
          "name": "stdout",
          "text": [
            "       zipcode   time  occupancy_sum\n",
            "0      1011 AC    0-1     214.150000\n",
            "1      1011 BG    0-1       6.000000\n",
            "2      1011 CB    0-1      51.233333\n",
            "3      1011 EG    0-1     274.866667\n",
            "4      1011 GT    0-1     301.233333\n",
            "...        ...    ...            ...\n",
            "55795  1384 AJ  23-24     365.050000\n",
            "55796  1384 AK  23-24     190.616667\n",
            "55797  1384 AL  23-24     210.650000\n",
            "55798  1384 AM  23-24     217.100000\n",
            "55799  3114 VP  23-24     217.716667\n",
            "\n",
            "[55800 rows x 3 columns]\n"
          ]
        }
      ],
      "source": [
        "# Group the DataFrame by the 'zipcode' column and sum the occupancies\n",
        "peak_df = df_session_updated.groupby('zipcode')[[f\"{i}-{i+1}\" for i in range(24)]].sum()\n",
        "\n",
        "# Reset the index to flatten the DataFrame\n",
        "peak_df.reset_index(inplace=True)\n",
        "\n",
        "# Melt the DataFrame to reshape it\n",
        "melted_df = peak_df.melt(id_vars='zipcode', var_name='time', value_name='occupancy_sum')\n",
        "\n",
        "# Print the melted DataFrame\n",
        "print(melted_df)\n",
        "\n"
      ]
    },
    {
      "cell_type": "code",
      "execution_count": null,
      "metadata": {
        "colab": {
          "base_uri": "https://localhost:8080/",
          "height": 494
        },
        "id": "zBoNz5vV1G6V",
        "outputId": "d765a537-9de2-40c5-f618-ed78acb74c96"
      },
      "outputs": [
        {
          "output_type": "display_data",
          "data": {
            "text/plain": [
              "<Figure size 1200x600 with 1 Axes>"
            ],
            "image/png": "[encoded data removed]"
          },
          "metadata": {}
        }
      ],
      "source": [
        "import matplotlib.pyplot as plt\n",
        "\n",
        "# Group the melted_df by 'time' and sum the occupancy\n",
        "time_grouped = melted_df.groupby('time')['occupancy_sum'].sum()\n",
        "\n",
        "# Sort the group in descending order\n",
        "time_grouped_sorted = time_grouped.sort_values(ascending=False)\n",
        "\n",
        "# Create a bar plot\n",
        "time_grouped_sorted.plot(kind='bar', figsize=(12, 6))\n",
        "\n",
        "# Set the plot title and axis labels\n",
        "plt.title('Occupancy Sum per Time')\n",
        "plt.xlabel('Time (hours)')\n",
        "plt.ylabel('Occupancy Sum')\n",
        "\n",
        "# Display the plot\n",
        "plt.show()"
      ]
    },
    {
      "cell_type": "code",
      "execution_count": null,
      "metadata": {
        "colab": {
          "base_uri": "https://localhost:8080/"
        },
        "id": "kuZ0Abrm1dpr",
        "outputId": "a8a0926e-2e3a-4777-9549-4be794c30af6"
      },
      "outputs": [
        {
          "output_type": "stream",
          "name": "stdout",
          "text": [
            "       zipcode                         time  effective_sum\n",
            "0      1011 AC    effective_charging_hrs0-1     214.150000\n",
            "1      1011 BG    effective_charging_hrs0-1       6.000000\n",
            "2      1011 CB    effective_charging_hrs0-1      51.233333\n",
            "3      1011 EG    effective_charging_hrs0-1     274.866667\n",
            "4      1011 GT    effective_charging_hrs0-1     301.233333\n",
            "...        ...                          ...            ...\n",
            "55795  1384 AJ  effective_charging_hrs23-24     114.637228\n",
            "55796  1384 AK  effective_charging_hrs23-24      93.297464\n",
            "55797  1384 AL  effective_charging_hrs23-24      59.778986\n",
            "55798  1384 AM  effective_charging_hrs23-24      75.458514\n",
            "55799  3114 VP  effective_charging_hrs23-24      29.911232\n",
            "\n",
            "[55800 rows x 3 columns]\n"
          ]
        }
      ],
      "source": [
        "# Group the DataFrame by the 'zipcode' column and sum the occupancies\n",
        "peak_effective_df = df_session_updated.groupby('zipcode')[[f\"effective_charging_hrs{i}-{i+1}\" for i in range(24)]].sum()\n",
        "\n",
        "# Reset the index to flatten the DataFrame\n",
        "peak_effective_df.reset_index(inplace=True)\n",
        "\n",
        "# Melt the DataFrame to reshape it\n",
        "melted_effective_df = peak_effective_df.melt(id_vars='zipcode', var_name='time', value_name='effective_sum')\n",
        "\n",
        "# Print the melted DataFrame\n",
        "print(melted_effective_df)\n"
      ]
    },
    {
      "cell_type": "code",
      "execution_count": null,
      "metadata": {
        "colab": {
          "base_uri": "https://localhost:8080/",
          "height": 626
        },
        "id": "LaphA3V92dtU",
        "outputId": "e903e65a-99e2-4bf9-c9e2-a6d95280fae6"
      },
      "outputs": [
        {
          "output_type": "display_data",
          "data": {
            "text/plain": [
              "<Figure size 1200x600 with 1 Axes>"
            ],
            "image/png": "[encoded data removed]"
          },
          "metadata": {}
        }
      ],
      "source": [
        "# Group the melted_df by 'time' and sum the occupancy\n",
        "time_grouped_eff = melted_effective_df.groupby('time')['effective_sum'].sum()\n",
        "\n",
        "# Sort the group in descending order\n",
        "time_grouped_eff_sorted = time_grouped_eff.sort_values(ascending=False)\n",
        "\n",
        "# Create a bar plot\n",
        "time_grouped_eff_sorted.plot(kind='bar', figsize=(12, 6))\n",
        "\n",
        "# Set the plot title and axis labels\n",
        "plt.title('Effective Sum per Time')\n",
        "plt.xlabel('Time (hours)')\n",
        "plt.ylabel('Effective Sum')\n",
        "\n",
        "# Display the plot\n",
        "plt.show()"
      ]
    },
    {
      "cell_type": "markdown",
      "metadata": {
        "id": "R3niIBP4nRy4"
      },
      "source": [
        "In the next step we are setting up our KPIs for the model. Therefore, we first declare a maximum occupancy in hrs of 24 for each socket on each day. Then to calculate the max power we are multiplying the \"power\" by 24. This is the amount of kWh that the socket can potentially provide in one day. Our first KPI, the **blocked kWh** shows how much of the max power was blocked by a charger on a certain day. From this we can derive the **spare capacity in kWh**, taking the **effective charging** into account. However, the effective charging tells us only how long a car was charging. The spare capacity might be high because most of the times after being charged the car is still parked at the charger. Another approach is to display the **spare capacity in kWh** by taking the **occupany** into account. The amount of kWh that was used in a day does not display the truth but the capacity that is left does. The last version of the sparce capacity is the **spare capacity in hours**, showing *how much time was still left* on that day. "
      ]
    },
    {
      "cell_type": "code",
      "execution_count": null,
      "metadata": {
        "id": "HEOcNxaz7aKh"
      },
      "outputs": [],
      "source": [
        "# add max occupancy\n",
        "grouped_df['MaxOccupancy'] = 24\n",
        "\n",
        "# add max power\n",
        "grouped_df['MaxPower'] = grouped_df['MaxOccupancy'] * grouped_df['power']\n",
        "\n",
        "# add blocked kwh \n",
        "grouped_df['Blocked_kWh'] = grouped_df['power'] * grouped_df['ConnectionTimeHours']\n",
        "\n",
        "# add spare capacity in kwh regarding effective charging\n",
        "grouped_df['SpareCap_Effective'] = grouped_df['MaxPower'] - grouped_df['kWh']\n",
        "\n",
        "# add spare capacity in kwh regarding occupancy\n",
        "grouped_df['SpareCap_Occup_kWh'] = grouped_df['MaxPower'] - grouped_df['power'] * grouped_df['ConnectionTimeHours']\n",
        "\n",
        "# add spare capacity in h regarding occupancy \n",
        "grouped_df['SpareCap_Hrs'] = grouped_df['MaxOccupancy'] - grouped_df['ConnectionTimeHours']\n",
        "\n",
        "# add % effective charging\n",
        "grouped_df['Effective%'] = grouped_df['kWh'] / grouped_df['MaxPower']\n",
        "\n",
        "# add % occupancy kwh\n",
        "grouped_df['Occupancy_kwh%'] = (grouped_df['power'] * grouped_df['ConnectionTimeHours']) / grouped_df['MaxPower']\n",
        "\n",
        "# add % occupancy h \n",
        "grouped_df['Occupancy_h%'] = grouped_df['ConnectionTimeHours'] / grouped_df['MaxOccupancy'] \n",
        "\n",
        "# add country for power BI visualization\n",
        "grouped_df['Country'] = 'Netherlands'"
      ]
    },
    {
      "cell_type": "code",
      "execution_count": null,
      "metadata": {
        "colab": {
          "base_uri": "https://localhost:8080/",
          "height": 748
        },
        "id": "i1iViVvo954G",
        "outputId": "0b6c6594-ffcb-4068-9fdd-127b6fd5e886"
      },
      "outputs": [
        {
          "output_type": "execute_result",
          "data": {
            "text/plain": [
              "             ChargeSocket_ID       Date  Transaction_ID    Provider  \\\n",
              "0              ALF-0002080_1 2022-01-01               1  VATTENFALL   \n",
              "1              ALF-0002080_1 2022-01-02               1  VATTENFALL   \n",
              "2              ALF-0002080_1 2022-01-03               2  VATTENFALL   \n",
              "3              ALF-0002080_1 2022-01-04               2  VATTENFALL   \n",
              "4              ALF-0002080_1 2022-01-05               2  VATTENFALL   \n",
              "...                      ...        ...             ...         ...   \n",
              "807637  TOTAL-NN001858-015_3 2022-03-01               1       TOTAL   \n",
              "807638  TOTAL-NN001858-015_3 2022-03-11               1       TOTAL   \n",
              "807639  TOTAL-NN001858-015_3 2022-03-14               1       TOTAL   \n",
              "807640  TOTAL-NN001858-015_3 2022-03-15               1       TOTAL   \n",
              "807641  TOTAL-NN001858-015_3 2022-03-17               1       TOTAL   \n",
              "\n",
              "             City                    Address    District      ChargePoint_ID  \\\n",
              "0       Amsterdam  Johan van Kuyckstraat 111  Nieuw West         ALF-0002080   \n",
              "1       Amsterdam  Johan van Kuyckstraat 111  Nieuw West         ALF-0002080   \n",
              "2       Amsterdam  Johan van Kuyckstraat 111  Nieuw West         ALF-0002080   \n",
              "3       Amsterdam  Johan van Kuyckstraat 111  Nieuw West         ALF-0002080   \n",
              "4       Amsterdam  Johan van Kuyckstraat 111  Nieuw West         ALF-0002080   \n",
              "...           ...                        ...         ...                 ...   \n",
              "807637  Amsterdam            Vorticellaweg 2       Noord  TOTAL-NN001858-015   \n",
              "807638  Amsterdam            Vorticellaweg 2       Noord  TOTAL-NN001858-015   \n",
              "807639  Amsterdam            Vorticellaweg 2       Noord  TOTAL-NN001858-015   \n",
              "807640  Amsterdam            Vorticellaweg 2       Noord  TOTAL-NN001858-015   \n",
              "807641  Amsterdam            Vorticellaweg 2       Noord  TOTAL-NN001858-015   \n",
              "\n",
              "       Socket_ID  IsFastCharger  ...  MaxOccupancy  MaxPower  Blocked_kWh  \\\n",
              "0              1          False  ...            24    132.48       8.2800   \n",
              "1              1          False  ...            24    132.48     132.4800   \n",
              "2              1          False  ...            24    132.48     131.1000   \n",
              "3              1          False  ...            24    132.48      58.7880   \n",
              "4              1          False  ...            24    132.48      61.6032   \n",
              "...          ...            ...  ...           ...       ...          ...   \n",
              "807637         3          False  ...            24    176.64       4.5632   \n",
              "807638         3          False  ...            24    176.64       4.7840   \n",
              "807639         3          False  ...            24    176.64       3.0176   \n",
              "807640         3          False  ...            24    176.64       2.0608   \n",
              "807641         3          False  ...            24    176.64       5.5200   \n",
              "\n",
              "        SpareCap_Effective  SpareCap_Occup_kWh  SpareCap_Hrs  Effective%  \\\n",
              "0                  111.540            124.2000         22.50    0.158062   \n",
              "1                  132.480              0.0000          0.00    0.000000   \n",
              "2                  126.220              1.3800          0.25    0.047252   \n",
              "3                  129.320             73.6920         13.35    0.023853   \n",
              "4                  126.410             70.8768         12.84    0.045818   \n",
              "...                    ...                 ...           ...         ...   \n",
              "807637             151.021            172.0768         23.38    0.145035   \n",
              "807638             154.776            171.8560         23.35    0.123777   \n",
              "807639             172.826            173.6224         23.59    0.021592   \n",
              "807640             172.501            174.5792         23.72    0.023432   \n",
              "807641             153.355            171.1200         23.25    0.131822   \n",
              "\n",
              "        Occupancy_kwh%  Occupancy_h%      Country  \n",
              "0             0.062500      0.062500  Netherlands  \n",
              "1             1.000000      1.000000  Netherlands  \n",
              "2             0.989583      0.989583  Netherlands  \n",
              "3             0.443750      0.443750  Netherlands  \n",
              "4             0.465000      0.465000  Netherlands  \n",
              "...                ...           ...          ...  \n",
              "807637        0.025833      0.025833  Netherlands  \n",
              "807638        0.027083      0.027083  Netherlands  \n",
              "807639        0.017083      0.017083  Netherlands  \n",
              "807640        0.011667      0.011667  Netherlands  \n",
              "807641        0.031250      0.031250  Netherlands  \n",
              "\n",
              "[807642 rows x 84 columns]"
            ],
            "text/html": [
              "\n",
              "  <div id=\"df-5be4e11e-3711-450a-a881-c1543dc136f9\">\n",
              "    <div class=\"colab-df-container\">\n",
              "      <div>\n",
              "<style scoped>\n",
              "    .dataframe tbody tr th:only-of-type {\n",
              "        vertical-align: middle;\n",
              "    }\n",
              "\n",
              "    .dataframe tbody tr th {\n",
              "        vertical-align: top;\n",
              "    }\n",
              "\n",
              "    .dataframe thead th {\n",
              "        text-align: right;\n",
              "    }\n",
              "</style>\n",
              "<table border=\"1\" class=\"dataframe\">\n",
              "  <thead>\n",
              "    <tr style=\"text-align: right;\">\n",
              "      <th></th>\n",
              "      <th>ChargeSocket_ID</th>\n",
              "      <th>Date</th>\n",
              "      <th>Transaction_ID</th>\n",
              "      <th>Provider</th>\n",
              "      <th>City</th>\n",
              "      <th>Address</th>\n",
              "      <th>District</th>\n",
              "      <th>ChargePoint_ID</th>\n",
              "      <th>Socket_ID</th>\n",
              "      <th>IsFastCharger</th>\n",
              "      <th>...</th>\n",
              "      <th>MaxOccupancy</th>\n",
              "      <th>MaxPower</th>\n",
              "      <th>Blocked_kWh</th>\n",
              "      <th>SpareCap_Effective</th>\n",
              "      <th>SpareCap_Occup_kWh</th>\n",
              "      <th>SpareCap_Hrs</th>\n",
              "      <th>Effective%</th>\n",
              "      <th>Occupancy_kwh%</th>\n",
              "      <th>Occupancy_h%</th>\n",
              "      <th>Country</th>\n",
              "    </tr>\n",
              "  </thead>\n",
              "  <tbody>\n",
              "    <tr>\n",
              "      <th>0</th>\n",
              "      <td>ALF-0002080_1</td>\n",
              "      <td>2022-01-01</td>\n",
              "      <td>1</td>\n",
              "      <td>VATTENFALL</td>\n",
              "      <td>Amsterdam</td>\n",
              "      <td>Johan van Kuyckstraat 111</td>\n",
              "      <td>Nieuw West</td>\n",
              "      <td>ALF-0002080</td>\n",
              "      <td>1</td>\n",
              "      <td>False</td>\n",
              "      <td>...</td>\n",
              "      <td>24</td>\n",
              "      <td>132.48</td>\n",
              "      <td>8.2800</td>\n",
              "      <td>111.540</td>\n",
              "      <td>124.2000</td>\n",
              "      <td>22.50</td>\n",
              "      <td>0.158062</td>\n",
              "      <td>0.062500</td>\n",
              "      <td>0.062500</td>\n",
              "      <td>Netherlands</td>\n",
              "    </tr>\n",
              "    <tr>\n",
              "      <th>1</th>\n",
              "      <td>ALF-0002080_1</td>\n",
              "      <td>2022-01-02</td>\n",
              "      <td>1</td>\n",
              "      <td>VATTENFALL</td>\n",
              "      <td>Amsterdam</td>\n",
              "      <td>Johan van Kuyckstraat 111</td>\n",
              "      <td>Nieuw West</td>\n",
              "      <td>ALF-0002080</td>\n",
              "      <td>1</td>\n",
              "      <td>False</td>\n",
              "      <td>...</td>\n",
              "      <td>24</td>\n",
              "      <td>132.48</td>\n",
              "      <td>132.4800</td>\n",
              "      <td>132.480</td>\n",
              "      <td>0.0000</td>\n",
              "      <td>0.00</td>\n",
              "      <td>0.000000</td>\n",
              "      <td>1.000000</td>\n",
              "      <td>1.000000</td>\n",
              "      <td>Netherlands</td>\n",
              "    </tr>\n",
              "    <tr>\n",
              "      <th>2</th>\n",
              "      <td>ALF-0002080_1</td>\n",
              "      <td>2022-01-03</td>\n",
              "      <td>2</td>\n",
              "      <td>VATTENFALL</td>\n",
              "      <td>Amsterdam</td>\n",
              "      <td>Johan van Kuyckstraat 111</td>\n",
              "      <td>Nieuw West</td>\n",
              "      <td>ALF-0002080</td>\n",
              "      <td>1</td>\n",
              "      <td>False</td>\n",
              "      <td>...</td>\n",
              "      <td>24</td>\n",
              "      <td>132.48</td>\n",
              "      <td>131.1000</td>\n",
              "      <td>126.220</td>\n",
              "      <td>1.3800</td>\n",
              "      <td>0.25</td>\n",
              "      <td>0.047252</td>\n",
              "      <td>0.989583</td>\n",
              "      <td>0.989583</td>\n",
              "      <td>Netherlands</td>\n",
              "    </tr>\n",
              "    <tr>\n",
              "      <th>3</th>\n",
              "      <td>ALF-0002080_1</td>\n",
              "      <td>2022-01-04</td>\n",
              "      <td>2</td>\n",
              "      <td>VATTENFALL</td>\n",
              "      <td>Amsterdam</td>\n",
              "      <td>Johan van Kuyckstraat 111</td>\n",
              "      <td>Nieuw West</td>\n",
              "      <td>ALF-0002080</td>\n",
              "      <td>1</td>\n",
              "      <td>False</td>\n",
              "      <td>...</td>\n",
              "      <td>24</td>\n",
              "      <td>132.48</td>\n",
              "      <td>58.7880</td>\n",
              "      <td>129.320</td>\n",
              "      <td>73.6920</td>\n",
              "      <td>13.35</td>\n",
              "      <td>0.023853</td>\n",
              "      <td>0.443750</td>\n",
              "      <td>0.443750</td>\n",
              "      <td>Netherlands</td>\n",
              "    </tr>\n",
              "    <tr>\n",
              "      <th>4</th>\n",
              "      <td>ALF-0002080_1</td>\n",
              "      <td>2022-01-05</td>\n",
              "      <td>2</td>\n",
              "      <td>VATTENFALL</td>\n",
              "      <td>Amsterdam</td>\n",
              "      <td>Johan van Kuyckstraat 111</td>\n",
              "      <td>Nieuw West</td>\n",
              "      <td>ALF-0002080</td>\n",
              "      <td>1</td>\n",
              "      <td>False</td>\n",
              "      <td>...</td>\n",
              "      <td>24</td>\n",
              "      <td>132.48</td>\n",
              "      <td>61.6032</td>\n",
              "      <td>126.410</td>\n",
              "      <td>70.8768</td>\n",
              "      <td>12.84</td>\n",
              "      <td>0.045818</td>\n",
              "      <td>0.465000</td>\n",
              "      <td>0.465000</td>\n",
              "      <td>Netherlands</td>\n",
              "    </tr>\n",
              "    <tr>\n",
              "      <th>...</th>\n",
              "      <td>...</td>\n",
              "      <td>...</td>\n",
              "      <td>...</td>\n",
              "      <td>...</td>\n",
              "      <td>...</td>\n",
              "      <td>...</td>\n",
              "      <td>...</td>\n",
              "      <td>...</td>\n",
              "      <td>...</td>\n",
              "      <td>...</td>\n",
              "      <td>...</td>\n",
              "      <td>...</td>\n",
              "      <td>...</td>\n",
              "      <td>...</td>\n",
              "      <td>...</td>\n",
              "      <td>...</td>\n",
              "      <td>...</td>\n",
              "      <td>...</td>\n",
              "      <td>...</td>\n",
              "      <td>...</td>\n",
              "      <td>...</td>\n",
              "    </tr>\n",
              "    <tr>\n",
              "      <th>807637</th>\n",
              "      <td>TOTAL-NN001858-015_3</td>\n",
              "      <td>2022-03-01</td>\n",
              "      <td>1</td>\n",
              "      <td>TOTAL</td>\n",
              "      <td>Amsterdam</td>\n",
              "      <td>Vorticellaweg 2</td>\n",
              "      <td>Noord</td>\n",
              "      <td>TOTAL-NN001858-015</td>\n",
              "      <td>3</td>\n",
              "      <td>False</td>\n",
              "      <td>...</td>\n",
              "      <td>24</td>\n",
              "      <td>176.64</td>\n",
              "      <td>4.5632</td>\n",
              "      <td>151.021</td>\n",
              "      <td>172.0768</td>\n",
              "      <td>23.38</td>\n",
              "      <td>0.145035</td>\n",
              "      <td>0.025833</td>\n",
              "      <td>0.025833</td>\n",
              "      <td>Netherlands</td>\n",
              "    </tr>\n",
              "    <tr>\n",
              "      <th>807638</th>\n",
              "      <td>TOTAL-NN001858-015_3</td>\n",
              "      <td>2022-03-11</td>\n",
              "      <td>1</td>\n",
              "      <td>TOTAL</td>\n",
              "      <td>Amsterdam</td>\n",
              "      <td>Vorticellaweg 2</td>\n",
              "      <td>Noord</td>\n",
              "      <td>TOTAL-NN001858-015</td>\n",
              "      <td>3</td>\n",
              "      <td>False</td>\n",
              "      <td>...</td>\n",
              "      <td>24</td>\n",
              "      <td>176.64</td>\n",
              "      <td>4.7840</td>\n",
              "      <td>154.776</td>\n",
              "      <td>171.8560</td>\n",
              "      <td>23.35</td>\n",
              "      <td>0.123777</td>\n",
              "      <td>0.027083</td>\n",
              "      <td>0.027083</td>\n",
              "      <td>Netherlands</td>\n",
              "    </tr>\n",
              "    <tr>\n",
              "      <th>807639</th>\n",
              "      <td>TOTAL-NN001858-015_3</td>\n",
              "      <td>2022-03-14</td>\n",
              "      <td>1</td>\n",
              "      <td>TOTAL</td>\n",
              "      <td>Amsterdam</td>\n",
              "      <td>Vorticellaweg 2</td>\n",
              "      <td>Noord</td>\n",
              "      <td>TOTAL-NN001858-015</td>\n",
              "      <td>3</td>\n",
              "      <td>False</td>\n",
              "      <td>...</td>\n",
              "      <td>24</td>\n",
              "      <td>176.64</td>\n",
              "      <td>3.0176</td>\n",
              "      <td>172.826</td>\n",
              "      <td>173.6224</td>\n",
              "      <td>23.59</td>\n",
              "      <td>0.021592</td>\n",
              "      <td>0.017083</td>\n",
              "      <td>0.017083</td>\n",
              "      <td>Netherlands</td>\n",
              "    </tr>\n",
              "    <tr>\n",
              "      <th>807640</th>\n",
              "      <td>TOTAL-NN001858-015_3</td>\n",
              "      <td>2022-03-15</td>\n",
              "      <td>1</td>\n",
              "      <td>TOTAL</td>\n",
              "      <td>Amsterdam</td>\n",
              "      <td>Vorticellaweg 2</td>\n",
              "      <td>Noord</td>\n",
              "      <td>TOTAL-NN001858-015</td>\n",
              "      <td>3</td>\n",
              "      <td>False</td>\n",
              "      <td>...</td>\n",
              "      <td>24</td>\n",
              "      <td>176.64</td>\n",
              "      <td>2.0608</td>\n",
              "      <td>172.501</td>\n",
              "      <td>174.5792</td>\n",
              "      <td>23.72</td>\n",
              "      <td>0.023432</td>\n",
              "      <td>0.011667</td>\n",
              "      <td>0.011667</td>\n",
              "      <td>Netherlands</td>\n",
              "    </tr>\n",
              "    <tr>\n",
              "      <th>807641</th>\n",
              "      <td>TOTAL-NN001858-015_3</td>\n",
              "      <td>2022-03-17</td>\n",
              "      <td>1</td>\n",
              "      <td>TOTAL</td>\n",
              "      <td>Amsterdam</td>\n",
              "      <td>Vorticellaweg 2</td>\n",
              "      <td>Noord</td>\n",
              "      <td>TOTAL-NN001858-015</td>\n",
              "      <td>3</td>\n",
              "      <td>False</td>\n",
              "      <td>...</td>\n",
              "      <td>24</td>\n",
              "      <td>176.64</td>\n",
              "      <td>5.5200</td>\n",
              "      <td>153.355</td>\n",
              "      <td>171.1200</td>\n",
              "      <td>23.25</td>\n",
              "      <td>0.131822</td>\n",
              "      <td>0.031250</td>\n",
              "      <td>0.031250</td>\n",
              "      <td>Netherlands</td>\n",
              "    </tr>\n",
              "  </tbody>\n",
              "</table>\n",
              "<p>807642 rows × 84 columns</p>\n",
              "</div>\n",
              "      <button class=\"colab-df-convert\" onclick=\"convertToInteractive('df-5be4e11e-3711-450a-a881-c1543dc136f9')\"\n",
              "              title=\"Convert this dataframe to an interactive table.\"\n",
              "              style=\"display:none;\">\n",
              "        \n",
              "  <svg xmlns=\"http://www.w3.org/2000/svg\" height=\"24px\"viewBox=\"0 0 24 24\"\n",
              "       width=\"24px\">\n",
              "    <path d=\"M0 0h24v24H0V0z\" fill=\"none\"/>\n",
              "    <path d=\"M18.56 5.44l.94 2.06.94-2.06 2.06-.94-2.06-.94-.94-2.06-.94 2.06-2.06.94zm-11 1L8.5 8.5l.94-2.06 2.06-.94-2.06-.94L8.5 2.5l-.94 2.06-2.06.94zm10 10l.94 2.06.94-2.06 2.06-.94-2.06-.94-.94-2.06-.94 2.06-2.06.94z\"/><path d=\"M17.41 7.96l-1.37-1.37c-.4-.4-.92-.59-1.43-.59-.52 0-1.04.2-1.43.59L10.3 9.45l-7.72 7.72c-.78.78-.78 2.05 0 2.83L4 21.41c.39.39.9.59 1.41.59.51 0 1.02-.2 1.41-.59l7.78-7.78 2.81-2.81c.8-.78.8-2.07 0-2.86zM5.41 20L4 18.59l7.72-7.72 1.47 1.35L5.41 20z\"/>\n",
              "  </svg>\n",
              "      </button>\n",
              "      \n",
              "  <style>\n",
              "    .colab-df-container {\n",
              "      display:flex;\n",
              "      flex-wrap:wrap;\n",
              "      gap: 12px;\n",
              "    }\n",
              "\n",
              "    .colab-df-convert {\n",
              "      background-color: #E8F0FE;\n",
              "      border: none;\n",
              "      border-radius: 50%;\n",
              "      cursor: pointer;\n",
              "      display: none;\n",
              "      fill: #1967D2;\n",
              "      height: 32px;\n",
              "      padding: 0 0 0 0;\n",
              "      width: 32px;\n",
              "    }\n",
              "\n",
              "    .colab-df-convert:hover {\n",
              "      background-color: #E2EBFA;\n",
              "      box-shadow: 0px 1px 2px rgba(60, 64, 67, 0.3), 0px 1px 3px 1px rgba(60, 64, 67, 0.15);\n",
              "      fill: #174EA6;\n",
              "    }\n",
              "\n",
              "    [theme=dark] .colab-df-convert {\n",
              "      background-color: #3B4455;\n",
              "      fill: #D2E3FC;\n",
              "    }\n",
              "\n",
              "    [theme=dark] .colab-df-convert:hover {\n",
              "      background-color: #434B5C;\n",
              "      box-shadow: 0px 1px 3px 1px rgba(0, 0, 0, 0.15);\n",
              "      filter: drop-shadow(0px 1px 2px rgba(0, 0, 0, 0.3));\n",
              "      fill: #FFFFFF;\n",
              "    }\n",
              "  </style>\n",
              "\n",
              "      <script>\n",
              "        const buttonEl =\n",
              "          document.querySelector('#df-5be4e11e-3711-450a-a881-c1543dc136f9 button.colab-df-convert');\n",
              "        buttonEl.style.display =\n",
              "          google.colab.kernel.accessAllowed ? 'block' : 'none';\n",
              "\n",
              "        async function convertToInteractive(key) {\n",
              "          const element = document.querySelector('#df-5be4e11e-3711-450a-a881-c1543dc136f9');\n",
              "          const dataTable =\n",
              "            await google.colab.kernel.invokeFunction('convertToInteractive',\n",
              "                                                     [key], {});\n",
              "          if (!dataTable) return;\n",
              "\n",
              "          const docLinkHtml = 'Like what you see? Visit the ' +\n",
              "            '<a target=\"_blank\" href=https://colab.research.google.com/notebooks/data_table.ipynb>data table notebook</a>'\n",
              "            + ' to learn more about interactive tables.';\n",
              "          element.innerHTML = '';\n",
              "          dataTable['output_type'] = 'display_data';\n",
              "          await google.colab.output.renderOutput(dataTable, element);\n",
              "          const docLink = document.createElement('div');\n",
              "          docLink.innerHTML = docLinkHtml;\n",
              "          element.appendChild(docLink);\n",
              "        }\n",
              "      </script>\n",
              "    </div>\n",
              "  </div>\n",
              "  "
            ]
          },
          "metadata": {},
          "execution_count": 46
        }
      ],
      "source": [
        "grouped_df"
      ]
    },
    {
      "cell_type": "code",
      "execution_count": null,
      "metadata": {
        "id": "SZqKGARH3kBh"
      },
      "outputs": [],
      "source": [
        "# saving DF to google drive\n",
        "grouped_df.to_csv('/content/drive/My Drive/grouped_df_2022_1.csv', index=False)"
      ]
    },
    {
      "cell_type": "markdown",
      "metadata": {
        "id": "Rgwr69LEvkjh"
      },
      "source": [
        "The next aggregation will be on charger level. This is the actual aggregation we furhter want to continure with. "
      ]
    },
    {
      "cell_type": "code",
      "execution_count": null,
      "metadata": {
        "id": "k0gC7Vc7qGYM"
      },
      "outputs": [],
      "source": [
        "# group the data frame by ChargePoint_ID and Date\n",
        "# caution, we still use the power per socket as we are summing up the hours used;\n",
        "# if we would both increase the hours and the kwh it would not match the socket data \n",
        "# anymore\n",
        "grouped_df_charger = df_session_updated.groupby(['ChargePoint_ID', 'Date']).agg({\n",
        "    'Transaction_ID': 'count',\n",
        "    'Provider': 'first',\n",
        "    'City': 'first',\n",
        "    'Address': 'first',\n",
        "    'District': 'first',\n",
        "    'IsFastCharger': 'first',\n",
        "    'IsAppPayment': 'first',\n",
        "    'ConnectionTimeHours': 'sum',\n",
        "    'kWh': 'sum',\n",
        "    'Total': 'first',\n",
        "    'Vattenfall': 'first',\n",
        "    'Allego': 'first',\n",
        "    'Equans': 'first',\n",
        "    'EvBox': 'first',\n",
        "    'Nuon': 'first',\n",
        "    'WDS': 'first',\n",
        "    'Engie': 'first', \n",
        "    'Pitpoint': 'first',\n",
        "    'Ecotap': 'first',\n",
        "    'ChargeSocket_ID_count': 'first',\n",
        "    'power': 'mean',  \n",
        "    'zipcode': 'first',\n",
        "    'effective_charging_hrs': 'sum',\n",
        "    **{f\"{i}-{i+1}\": 'sum' for i in range(24)},\n",
        "    **{f\"effective_charging_hrs{i}-{i+1}\": 'sum' for i in range(24)}\n",
        "})\n",
        "\n",
        "# Reset the index to flatten the DataFrame\n",
        "grouped_df_charger.reset_index(inplace=True)"
      ]
    },
    {
      "cell_type": "code",
      "execution_count": null,
      "metadata": {
        "id": "JDuUJTEmwKVd"
      },
      "outputs": [],
      "source": [
        "# add max occupancy; here we need to pay attention how many sockets a chargers has\n",
        "grouped_df_charger['MaxOccupancy'] = grouped_df_charger['ChargeSocket_ID_count'].apply(lambda count: 24 * count)\n",
        "\n",
        "# add max power\n",
        "grouped_df_charger['MaxPower'] = grouped_df_charger['MaxOccupancy'] * grouped_df_charger['power']\n",
        "\n",
        "# add blocked kwh \n",
        "grouped_df_charger['Blocked_kWh'] = grouped_df_charger['power'] * grouped_df_charger['ConnectionTimeHours']\n",
        "\n",
        "# add spare capacity in kwh regarding effective charging\n",
        "grouped_df_charger['SpareCap_Effective'] = grouped_df_charger['MaxPower'] - grouped_df_charger['kWh']\n",
        "\n",
        "# add spare capacity in kwh regarding occupancy\n",
        "grouped_df_charger['SpareCap_Occup_kWh'] = grouped_df_charger['MaxPower'] - (grouped_df_charger['power'] * grouped_df_charger['ConnectionTimeHours'])\n",
        "\n",
        "# add spare capacity in h regarding occupancy \n",
        "grouped_df_charger['SpareCap_Hrs'] = grouped_df_charger['MaxOccupancy'] - grouped_df_charger['ConnectionTimeHours']\n",
        "\n",
        "# add % effective charging\n",
        "grouped_df_charger['Effective%'] = grouped_df_charger['kWh'] / grouped_df_charger['MaxPower']\n",
        "\n",
        "# add % occupancy kwh\n",
        "grouped_df_charger['Occupancy_kwh%'] = (grouped_df_charger['power'] * grouped_df_charger['ConnectionTimeHours']) / grouped_df_charger['MaxPower']\n",
        "\n",
        "# add % occupancy h \n",
        "grouped_df_charger['Occupancy_h%'] = grouped_df_charger['ConnectionTimeHours'] / grouped_df_charger['MaxOccupancy'] \n",
        "\n",
        "# add country for power BI visualization\n",
        "grouped_df_charger['Country'] = 'Netherlands'"
      ]
    },
    {
      "cell_type": "code",
      "execution_count": null,
      "metadata": {
        "id": "QTP-V3fU8jTy"
      },
      "outputs": [],
      "source": [
        "# saving DF to google drive\n",
        "grouped_df_charger.to_csv('/content/drive/My Drive/grouped_df_charger_2022.csv', index=False)"
      ]
    },
    {
      "cell_type": "code",
      "execution_count": null,
      "metadata": {
        "id": "84YJo3Cs8rTh"
      },
      "outputs": [],
      "source": [
        "# saving grouped dfs by zipcode\n",
        "melted_df.to_csv('/content/drive/My Drive/melted_df_2022.csv', index=False)\n",
        "\n",
        "melted_effective_df.to_csv('/content/drive/My Drive/melted_df_eff_2022.csv', index=False)"
      ]
    },
    {
      "cell_type": "markdown",
      "source": [
        "As a next step we retrieve again all the data frames that we have saved on google drive and merge them into one. As mentioned in the beginning, in the end we only merge part 1 of 2022, part 2 of 2022 and the first quarter of 2023. "
      ],
      "metadata": {
        "id": "UYCMJDZMnHHe"
      }
    },
    {
      "cell_type": "code",
      "source": [
        "# merging all the years\n",
        "import pandas as pd\n",
        "\n",
        "file_path_2022a = '/content/drive/My Drive/grouped_df_charger_2022.csv'\n",
        "df_session_2022a = pd.read_csv(file_path_2022a)\n",
        "\n",
        "file_path_2022b = '/content/drive/My Drive/grouped_df_charger_2022_1.csv'\n",
        "df_session_2022b = pd.read_csv(file_path_2022b)\n",
        "\n",
        "file_path_2023 = '/content/drive/My Drive/grouped_df_charger.csv'\n",
        "df_session_2023 = pd.read_csv(file_path_2023)\n",
        "\n",
        "# file_path_2021 = '/content/drive/My Drive/grouped_df_charger_2021.csv'\n",
        "# df_session_2021 = pd.read_csv(file_path_2021)\n",
        "\n",
        "# file_path_2020 = '/content/drive/My Drive/grouped_df_charger_2020.csv'\n",
        "# df_session_2020 = pd.read_csv(file_path_2021)\n",
        "\n",
        "# file_path_2019 = '/content/drive/My Drive/grouped_df_charger_2019.csv'\n",
        "# df_session_2019 = pd.read_csv(file_path_2019)\n",
        "\n",
        "# merge them \n",
        "# frames = [df_session_2019, df_session_2020, df_session_2021, df_session_2022a, df_session_2022b, df_session_2023]\n",
        "# df_all = pd.concat(frames)\n",
        "\n",
        "# merge 2022 - 2023\n",
        "frames_23 = [df_session_2022a, df_session_2022b, df_session_2023]\n",
        "df_23 = pd.concat(frames_23)\n",
        "\n",
        "# saving DF to google drive\n",
        "df_23.to_csv('/content/drive/My Drive/df_charger_22_23.csv', index=False)"
      ],
      "metadata": {
        "id": "QfmTiSD_mvAy"
      },
      "execution_count": null,
      "outputs": []
    },
    {
      "cell_type": "markdown",
      "metadata": {
        "id": "44VO2y5troor"
      },
      "source": [
        "As a last step we want to further aggregate on a zipcode, weekly level.\n",
        "Caution: This happens now in separate Google Colab file (\"weekly_aggregation.ipynb\")."
      ]
    }
  ],
  "metadata": {
    "accelerator": "GPU",
    "colab": {
      "toc_visible": true,
      "provenance": [],
      "gpuType": "T4",
      "gpuClass": "premium"
    },
    "gpuClass": "premium",
    "kernelspec": {
      "display_name": "Python 3",
      "name": "python3"
    },
    "language_info": {
      "name": "python"
    }
  },
  "nbformat": 4,
  "nbformat_minor": 0
}
