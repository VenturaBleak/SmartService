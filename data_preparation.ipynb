{
 "cells": [
  {
   "cell_type": "code",
   "execution_count": 26,
   "metadata": {
    "collapsed": true
   },
   "outputs": [],
   "source": [
    "# import libraries\n",
    "import pandas as pd\n",
    "import numpy as np"
   ]
  },
  {
   "cell_type": "code",
   "execution_count": null,
   "outputs": [],
   "source": [
    "# specify name of csv file\n",
    "filename = 'final_data.csv'\n",
    "\n",
    "# open csv file\n",
    "df = pd.read_csv(filename)\n",
    "\n",
    "df.head()"
   ],
   "metadata": {
    "collapsed": false,
    "pycharm": {
     "is_executing": true
    }
   }
  },
  {
   "cell_type": "code",
   "execution_count": null,
   "outputs": [],
   "source": [
    "# print first 5 rows\n",
    "df.rename(columns={df.columns[0]: 'index_to_drop', df.columns[1]: 'RowIndex', df.columns[2]: 'WeekIndex'},inplace=True)\n",
    "\n",
    "# remove \"index\" column, since this is not the correct index\n",
    "df.drop(columns=[\"index_to_drop\"], inplace=True)"
   ],
   "metadata": {
    "collapsed": false,
    "pycharm": {
     "is_executing": true
    }
   }
  },
  {
   "cell_type": "code",
   "execution_count": null,
   "outputs": [],
   "source": [
    "# unit test that each row has a unique index\n",
    "assert df['RowIndex'].nunique() == len(df.index)\n",
    "\n",
    "# convert 'RowIndex' column to integer\n",
    "df['RowIndex'] = df['RowIndex'].astype(int)\n",
    "\n",
    "# set the 'RowIndex' column to index\n",
    "df = df.set_index(\"RowIndex\")"
   ],
   "metadata": {
    "collapsed": false,
    "pycharm": {
     "is_executing": true
    }
   }
  },
  {
   "cell_type": "code",
   "execution_count": null,
   "outputs": [],
   "source": [
    "# cut district column and insert as last column\n",
    "df['District'] = df['District'].str[0:2]\n",
    "\n",
    "# count unique categories in District column -> 11\n",
    "print(df[\"District\"].nunique())\n",
    "\n",
    "# encode categorical variable \"District\" with binary encoding\n",
    "# documentation: https://contrib.scikit-learn.org/category_encoders/binary.html\n",
    "from category_encoders.binary import BinaryEncoder\n",
    "encoder = BinaryEncoder(cols=['District'])\n",
    "encoder.fit(df)\n",
    "df = encoder.transform(df)"
   ],
   "metadata": {
    "collapsed": false,
    "pycharm": {
     "is_executing": true
    }
   }
  },
  {
   "cell_type": "code",
   "execution_count": null,
   "outputs": [],
   "source": [
    "# count unique categories in ZipCode \"PC6\" column\n",
    "print(df[\"PC6\"].nunique())\n",
    "\n",
    "# retrieve PC4 from PC6, that is the first 4 digits of the 6 digit zip code\n",
    "df[\"PC4\"] = df[\"PC6\"].astype(str).str[:4]\n",
    "print(df[\"PC4\"].nunique())\n",
    "\n",
    "# encode categorical variable \"PC4\" with binary encoding\n",
    "encoder = BinaryEncoder(cols=['PC4'])\n",
    "encoder.fit(df)\n",
    "df = encoder.transform(df)"
   ],
   "metadata": {
    "collapsed": false,
    "pycharm": {
     "is_executing": true
    }
   }
  },
  {
   "cell_type": "code",
   "execution_count": null,
   "outputs": [],
   "source": [
    "df.head()"
   ],
   "metadata": {
    "collapsed": false,
    "pycharm": {
     "is_executing": true
    }
   }
  },
  {
   "cell_type": "code",
   "execution_count": null,
   "outputs": [],
   "source": [
    "# all columns (including provider columns) that are not in the above lists are unknown variables\n",
    "providers = [\"Total\", \"Vattenfall\", \"Allego\", \"Equans\", \"EvBox\", \"Nuon\", \"WDS\", \"Pitpoint\", \"Ecotap\", \"Engie\"]\n",
    "\n",
    "# create a new column called \"number of chargers\" which is the sum of the values of the columns which names are stored in the providers list\n",
    "df['number_of_chargers'] = df[providers].sum(axis=1)\n",
    "\n",
    "providers.append(\"number_of_chargers\")\n",
    "\n",
    "# reverse list\n",
    "providers = providers[::-1]"
   ],
   "metadata": {
    "collapsed": false,
    "pycharm": {
     "is_executing": true
    }
   }
  },
  {
   "cell_type": "code",
   "execution_count": null,
   "outputs": [],
   "source": [
    "# split columns into several groups: identifiers, target variables, know_variables, unknown_variables, purely_descriptive_variables\n",
    "\n",
    "# reorder columns in the following order:\n",
    "identifiers = [\"PC6\", \"Date\"]\n",
    "know_variables = [\"WeekIndex\", \"MaxPower\"]\n",
    "target_variables = [\"kWh\", \"Blocked_kWh\"]\n",
    "\n",
    "purely_descriptive_variables = [\"ChargeSocket_ID_count\", \"ConnectionTimeHours\", \"power\", \"effective_charging_hrs\", \"MaxOccupancy\", \"SpareCap_Effective\", \"SpareCap_Occup_kWh\", \"SpareCap_Hrs\", \"Effective%\", \"Occupancy_kwh%\"]\n",
    "\n",
    "\n",
    "unknown_variables = [col for col in df.columns if col not in identifiers + target_variables + know_variables + providers+ purely_descriptive_variables]\n",
    "unknown_variables = providers + unknown_variables\n",
    "\n",
    "print(len(identifiers + target_variables + know_variables + purely_descriptive_variables + unknown_variables))"
   ],
   "metadata": {
    "collapsed": false,
    "pycharm": {
     "is_executing": true
    }
   }
  },
  {
   "cell_type": "code",
   "execution_count": null,
   "outputs": [],
   "source": [
    "# sort df columns in the following order: identifiers, target variables, know_variables, unknown_variables, purely_descriptive_variables\n",
    "df = df[identifiers + know_variables + target_variables + unknown_variables + purely_descriptive_variables]"
   ],
   "metadata": {
    "collapsed": false,
    "pycharm": {
     "is_executing": true
    }
   }
  },
  {
   "cell_type": "code",
   "execution_count": null,
   "outputs": [],
   "source": [
    "# inspect df without the purely_descriptive_variables\n",
    "df[identifiers + know_variables + target_variables + unknown_variables].head()"
   ],
   "metadata": {
    "collapsed": false,
    "pycharm": {
     "is_executing": true
    }
   }
  },
  {
   "cell_type": "code",
   "execution_count": null,
   "outputs": [],
   "source": [
    "# check missing values: show only columns where missing values >0 and their count per column\n",
    "print(df.isna().sum()[df.isna().sum() > 0])"
   ],
   "metadata": {
    "collapsed": false,
    "pycharm": {
     "is_executing": true
    }
   }
  },
  {
   "cell_type": "code",
   "execution_count": null,
   "outputs": [],
   "source": [
    "# sort df by date column\n",
    "df['Date'] = pd.to_datetime(df['Date'])\n",
    "df = df.sort_values(by=['PC6', 'Date'])"
   ],
   "metadata": {
    "collapsed": false,
    "pycharm": {
     "is_executing": true
    }
   }
  },
  {
   "cell_type": "code",
   "execution_count": null,
   "outputs": [],
   "source": [
    "# add week of year column, extracted from date column\n",
    "df[\"WeekOfYear\"] = pd.to_datetime(df['Date']).dt.isocalendar().week\n",
    "\n",
    "# month of year\n",
    "df[\"MonthOfYear\"] = pd.to_datetime(df['Date']).dt.month\n",
    "\n",
    "# sine and cosine week of year -> to introduce cyclical nature of months\n",
    "# sine & cosine week of year\n",
    "# cosine week of year\n",
    "df[\"CosWeekOfYear\"] = np.cos(2*np.pi*df[\"WeekOfYear\"]/52)\n",
    "\n",
    "# sine week of year\n",
    "df[\"SinWeekOfYear\"] = np.sin(2*np.pi*df[\"WeekOfYear\"]/52)\n",
    "\n",
    "# cosine month of year\n",
    "df[\"CosMonthOfYear\"] = np.cos(2*np.pi*df[\"MonthOfYear\"]/12)\n",
    "\n",
    "# sine month of year\n",
    "df[\"SinMonthOfYear\"] = np.sin(2*np.pi*df[\"MonthOfYear\"]/12)"
   ],
   "metadata": {
    "collapsed": false,
    "pycharm": {
     "is_executing": true
    }
   }
  },
  {
   "cell_type": "code",
   "execution_count": null,
   "outputs": [],
   "source": [
    "df.head()"
   ],
   "metadata": {
    "collapsed": false,
    "pycharm": {
     "is_executing": true
    }
   }
  },
  {
   "cell_type": "code",
   "execution_count": null,
   "outputs": [],
   "source": [
    "# count number of remaining rows\n",
    "print(df.shape)"
   ],
   "metadata": {
    "collapsed": false,
    "pycharm": {
     "is_executing": true
    }
   }
  },
  {
   "cell_type": "code",
   "execution_count": null,
   "outputs": [],
   "source": [
    "# load cleaned data\n",
    "# df = pd.read_csv(filename.split('.')[0] + '_cleaned.csv')\n",
    "\n",
    "# create new column as concatenation of PC6 and WeekIndex columns\n",
    "df['PC6_WeekIndex'] = df['PC6'].astype(str) + df['WeekIndex'].astype(str)\n",
    "\n",
    "# move this column to the first position\n",
    "cols = df.columns.tolist()\n",
    "cols = cols[-1:] + cols[:-1]\n",
    "\n",
    "# count duplicates in PC6_WeekIndex column\n",
    "df['PC6_WeekIndex'].duplicated().sum()"
   ],
   "metadata": {
    "collapsed": false,
    "pycharm": {
     "is_executing": true
    }
   }
  },
  {
   "cell_type": "code",
   "execution_count": null,
   "outputs": [],
   "source": [
    "# keep only first 10000 rows for testing purposes\n",
    "# df = df.head(10000)\n",
    "\n",
    "# inspect data\n",
    "df.head()"
   ],
   "metadata": {
    "collapsed": false,
    "pycharm": {
     "is_executing": true
    }
   }
  },
  {
   "cell_type": "code",
   "execution_count": null,
   "outputs": [],
   "source": [
    "# save to new csv file named original name + _cleaned\n",
    "df.to_csv(filename.split('.')[0] + '_cleaned.csv', index=False)"
   ],
   "metadata": {
    "collapsed": false,
    "pycharm": {
     "is_executing": true
    }
   }
  }
 ],
 "metadata": {
  "kernelspec": {
   "display_name": "Python 3",
   "language": "python",
   "name": "python3"
  },
  "language_info": {
   "codemirror_mode": {
    "name": "ipython",
    "version": 2
   },
   "file_extension": ".py",
   "mimetype": "text/x-python",
   "name": "python",
   "nbconvert_exporter": "python",
   "pygments_lexer": "ipython2",
   "version": "2.7.6"
  }
 },
 "nbformat": 4,
 "nbformat_minor": 0
}
