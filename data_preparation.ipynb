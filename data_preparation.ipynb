{
 "cells": [
  {
   "cell_type": "code",
   "execution_count": 1,
   "metadata": {
    "collapsed": true
   },
   "outputs": [],
   "source": [
    "# import libraries\n",
    "import pandas as pd"
   ]
  },
  {
   "cell_type": "code",
   "execution_count": 2,
   "outputs": [
    {
     "data": {
      "text/plain": "         Unnamed: 0.1  Unnamed: 0  index     PC6        Date District   \n0                   0           0      1  1011AB  2022-01-03  Centrum  \\\n1                   1          66      1  1011AC  2022-01-03     Zuid   \n2                   2         132      1  1011AD  2022-01-03     Zuid   \n3                   3         198      1  1011AE  2022-01-03     Zuid   \n4                   4         264      1  1011AG  2022-01-03     Zuid   \n...               ...         ...    ...     ...         ...      ...   \n1219807       1219807     1219547     66  1109CB  2023-04-03     Zuid   \n1219808       1219808     1219613     66  1109CD  2023-04-03     Zuid   \n1219809       1219809     1219679     66  1109CE  2023-04-03     Zuid   \n1219810       1219810     1219745     66  1109CH  2023-04-03     Zuid   \n1219811       1219811     1219811     66  1109CJ  2023-04-03     Zuid   \n\n         ConnectionTimeHours    kWh  power  effective_charging_hrs  ...   \n0                      67.59  125.8   5.52               22.789855  ...  \\\n1                       0.00    0.0   5.52                0.000000  ...   \n2                       0.00    0.0   5.52                0.000000  ...   \n3                       0.00    0.0   5.52                0.000000  ...   \n4                       0.00    0.0   5.52                0.000000  ...   \n...                      ...    ...    ...                     ...  ...   \n1219807                 0.00    0.0   5.52                0.000000  ...   \n1219808                 0.00    0.0   5.52                0.000000  ...   \n1219809                 0.00    0.0   5.52                0.000000  ...   \n1219810                 0.00    0.0   5.52                0.000000  ...   \n1219811                 0.00    0.0   5.52                0.000000  ...   \n\n         2019.0_household  2019.0_income_1_to_40_percent   \n0                  6200.0                           45.0  \\\n1                  6200.0                           45.0   \n2                  6200.0                           45.0   \n3                  6200.0                           45.0   \n4                  6200.0                           45.0   \n...                   ...                            ...   \n1219807             700.0                           34.3   \n1219808             700.0                           34.3   \n1219809             700.0                           34.3   \n1219810             700.0                           34.3   \n1219811             700.0                           34.3   \n\n         2019.0_income_41_to_80_percent  2019.0_income_81_to_100_percent   \n0                                  28.0                             27.1  \\\n1                                  28.0                             27.1   \n2                                  28.0                             27.1   \n3                                  28.0                             27.1   \n4                                  28.0                             27.1   \n...                                 ...                              ...   \n1219807                            40.7                             25.0   \n1219808                            40.7                             25.0   \n1219809                            40.7                             25.0   \n1219810                            40.7                             25.0   \n1219811                            40.7                             25.0   \n\n         2019.0_income_average  2019.0_assets_1_to_40_percent   \n0                         49.3                           50.8  \\\n1                         49.3                           50.8   \n2                         49.3                           50.8   \n3                         49.3                           50.8   \n4                         49.3                           50.8   \n...                        ...                            ...   \n1219807                   55.7                           34.6   \n1219808                   55.7                           34.6   \n1219809                   55.7                           34.6   \n1219810                   55.7                           34.6   \n1219811                   55.7                           34.6   \n\n         2019.0_assets_41_to_80_percent  2019.0_assets_81_to_100_percent   \n0                                  23.0                             26.2  \\\n1                                  23.0                             26.2   \n2                                  23.0                             26.2   \n3                                  23.0                             26.2   \n4                                  23.0                             26.2   \n...                                 ...                              ...   \n1219807                            40.7                             24.7   \n1219808                            40.7                             24.7   \n1219809                            40.7                             24.7   \n1219810                            40.7                             24.7   \n1219811                            40.7                             24.7   \n\n         2019.0_assets_average  2019.0_Gemiddelde SES WOA totaalscore  \n0                         47.6                                  0.034  \n1                         47.6                                  0.034  \n2                         47.6                                  0.034  \n3                         47.6                                  0.034  \n4                         47.6                                  0.034  \n...                        ...                                    ...  \n1219807                   54.9                                  0.157  \n1219808                   54.9                                  0.157  \n1219809                   54.9                                  0.157  \n1219810                   54.9                                  0.157  \n1219811                   54.9                                  0.157  \n\n[1219812 rows x 105 columns]",
      "text/html": "<div>\n<style scoped>\n    .dataframe tbody tr th:only-of-type {\n        vertical-align: middle;\n    }\n\n    .dataframe tbody tr th {\n        vertical-align: top;\n    }\n\n    .dataframe thead th {\n        text-align: right;\n    }\n</style>\n<table border=\"1\" class=\"dataframe\">\n  <thead>\n    <tr style=\"text-align: right;\">\n      <th></th>\n      <th>Unnamed: 0.1</th>\n      <th>Unnamed: 0</th>\n      <th>index</th>\n      <th>PC6</th>\n      <th>Date</th>\n      <th>District</th>\n      <th>ConnectionTimeHours</th>\n      <th>kWh</th>\n      <th>power</th>\n      <th>effective_charging_hrs</th>\n      <th>...</th>\n      <th>2019.0_household</th>\n      <th>2019.0_income_1_to_40_percent</th>\n      <th>2019.0_income_41_to_80_percent</th>\n      <th>2019.0_income_81_to_100_percent</th>\n      <th>2019.0_income_average</th>\n      <th>2019.0_assets_1_to_40_percent</th>\n      <th>2019.0_assets_41_to_80_percent</th>\n      <th>2019.0_assets_81_to_100_percent</th>\n      <th>2019.0_assets_average</th>\n      <th>2019.0_Gemiddelde SES WOA totaalscore</th>\n    </tr>\n  </thead>\n  <tbody>\n    <tr>\n      <th>0</th>\n      <td>0</td>\n      <td>0</td>\n      <td>1</td>\n      <td>1011AB</td>\n      <td>2022-01-03</td>\n      <td>Centrum</td>\n      <td>67.59</td>\n      <td>125.8</td>\n      <td>5.52</td>\n      <td>22.789855</td>\n      <td>...</td>\n      <td>6200.0</td>\n      <td>45.0</td>\n      <td>28.0</td>\n      <td>27.1</td>\n      <td>49.3</td>\n      <td>50.8</td>\n      <td>23.0</td>\n      <td>26.2</td>\n      <td>47.6</td>\n      <td>0.034</td>\n    </tr>\n    <tr>\n      <th>1</th>\n      <td>1</td>\n      <td>66</td>\n      <td>1</td>\n      <td>1011AC</td>\n      <td>2022-01-03</td>\n      <td>Zuid</td>\n      <td>0.00</td>\n      <td>0.0</td>\n      <td>5.52</td>\n      <td>0.000000</td>\n      <td>...</td>\n      <td>6200.0</td>\n      <td>45.0</td>\n      <td>28.0</td>\n      <td>27.1</td>\n      <td>49.3</td>\n      <td>50.8</td>\n      <td>23.0</td>\n      <td>26.2</td>\n      <td>47.6</td>\n      <td>0.034</td>\n    </tr>\n    <tr>\n      <th>2</th>\n      <td>2</td>\n      <td>132</td>\n      <td>1</td>\n      <td>1011AD</td>\n      <td>2022-01-03</td>\n      <td>Zuid</td>\n      <td>0.00</td>\n      <td>0.0</td>\n      <td>5.52</td>\n      <td>0.000000</td>\n      <td>...</td>\n      <td>6200.0</td>\n      <td>45.0</td>\n      <td>28.0</td>\n      <td>27.1</td>\n      <td>49.3</td>\n      <td>50.8</td>\n      <td>23.0</td>\n      <td>26.2</td>\n      <td>47.6</td>\n      <td>0.034</td>\n    </tr>\n    <tr>\n      <th>3</th>\n      <td>3</td>\n      <td>198</td>\n      <td>1</td>\n      <td>1011AE</td>\n      <td>2022-01-03</td>\n      <td>Zuid</td>\n      <td>0.00</td>\n      <td>0.0</td>\n      <td>5.52</td>\n      <td>0.000000</td>\n      <td>...</td>\n      <td>6200.0</td>\n      <td>45.0</td>\n      <td>28.0</td>\n      <td>27.1</td>\n      <td>49.3</td>\n      <td>50.8</td>\n      <td>23.0</td>\n      <td>26.2</td>\n      <td>47.6</td>\n      <td>0.034</td>\n    </tr>\n    <tr>\n      <th>4</th>\n      <td>4</td>\n      <td>264</td>\n      <td>1</td>\n      <td>1011AG</td>\n      <td>2022-01-03</td>\n      <td>Zuid</td>\n      <td>0.00</td>\n      <td>0.0</td>\n      <td>5.52</td>\n      <td>0.000000</td>\n      <td>...</td>\n      <td>6200.0</td>\n      <td>45.0</td>\n      <td>28.0</td>\n      <td>27.1</td>\n      <td>49.3</td>\n      <td>50.8</td>\n      <td>23.0</td>\n      <td>26.2</td>\n      <td>47.6</td>\n      <td>0.034</td>\n    </tr>\n    <tr>\n      <th>...</th>\n      <td>...</td>\n      <td>...</td>\n      <td>...</td>\n      <td>...</td>\n      <td>...</td>\n      <td>...</td>\n      <td>...</td>\n      <td>...</td>\n      <td>...</td>\n      <td>...</td>\n      <td>...</td>\n      <td>...</td>\n      <td>...</td>\n      <td>...</td>\n      <td>...</td>\n      <td>...</td>\n      <td>...</td>\n      <td>...</td>\n      <td>...</td>\n      <td>...</td>\n      <td>...</td>\n    </tr>\n    <tr>\n      <th>1219807</th>\n      <td>1219807</td>\n      <td>1219547</td>\n      <td>66</td>\n      <td>1109CB</td>\n      <td>2023-04-03</td>\n      <td>Zuid</td>\n      <td>0.00</td>\n      <td>0.0</td>\n      <td>5.52</td>\n      <td>0.000000</td>\n      <td>...</td>\n      <td>700.0</td>\n      <td>34.3</td>\n      <td>40.7</td>\n      <td>25.0</td>\n      <td>55.7</td>\n      <td>34.6</td>\n      <td>40.7</td>\n      <td>24.7</td>\n      <td>54.9</td>\n      <td>0.157</td>\n    </tr>\n    <tr>\n      <th>1219808</th>\n      <td>1219808</td>\n      <td>1219613</td>\n      <td>66</td>\n      <td>1109CD</td>\n      <td>2023-04-03</td>\n      <td>Zuid</td>\n      <td>0.00</td>\n      <td>0.0</td>\n      <td>5.52</td>\n      <td>0.000000</td>\n      <td>...</td>\n      <td>700.0</td>\n      <td>34.3</td>\n      <td>40.7</td>\n      <td>25.0</td>\n      <td>55.7</td>\n      <td>34.6</td>\n      <td>40.7</td>\n      <td>24.7</td>\n      <td>54.9</td>\n      <td>0.157</td>\n    </tr>\n    <tr>\n      <th>1219809</th>\n      <td>1219809</td>\n      <td>1219679</td>\n      <td>66</td>\n      <td>1109CE</td>\n      <td>2023-04-03</td>\n      <td>Zuid</td>\n      <td>0.00</td>\n      <td>0.0</td>\n      <td>5.52</td>\n      <td>0.000000</td>\n      <td>...</td>\n      <td>700.0</td>\n      <td>34.3</td>\n      <td>40.7</td>\n      <td>25.0</td>\n      <td>55.7</td>\n      <td>34.6</td>\n      <td>40.7</td>\n      <td>24.7</td>\n      <td>54.9</td>\n      <td>0.157</td>\n    </tr>\n    <tr>\n      <th>1219810</th>\n      <td>1219810</td>\n      <td>1219745</td>\n      <td>66</td>\n      <td>1109CH</td>\n      <td>2023-04-03</td>\n      <td>Zuid</td>\n      <td>0.00</td>\n      <td>0.0</td>\n      <td>5.52</td>\n      <td>0.000000</td>\n      <td>...</td>\n      <td>700.0</td>\n      <td>34.3</td>\n      <td>40.7</td>\n      <td>25.0</td>\n      <td>55.7</td>\n      <td>34.6</td>\n      <td>40.7</td>\n      <td>24.7</td>\n      <td>54.9</td>\n      <td>0.157</td>\n    </tr>\n    <tr>\n      <th>1219811</th>\n      <td>1219811</td>\n      <td>1219811</td>\n      <td>66</td>\n      <td>1109CJ</td>\n      <td>2023-04-03</td>\n      <td>Zuid</td>\n      <td>0.00</td>\n      <td>0.0</td>\n      <td>5.52</td>\n      <td>0.000000</td>\n      <td>...</td>\n      <td>700.0</td>\n      <td>34.3</td>\n      <td>40.7</td>\n      <td>25.0</td>\n      <td>55.7</td>\n      <td>34.6</td>\n      <td>40.7</td>\n      <td>24.7</td>\n      <td>54.9</td>\n      <td>0.157</td>\n    </tr>\n  </tbody>\n</table>\n<p>1219812 rows × 105 columns</p>\n</div>"
     },
     "execution_count": 2,
     "metadata": {},
     "output_type": "execute_result"
    }
   ],
   "source": [
    "# specify name of csv file\n",
    "filename = 'final_data_SE.csv'\n",
    "\n",
    "# open csv file\n",
    "df = pd.read_csv(filename)\n",
    "\n",
    "df.head()"
   ],
   "metadata": {
    "collapsed": false
   }
  },
  {
   "cell_type": "code",
   "execution_count": 3,
   "outputs": [],
   "source": [
    "# print first 5 rows\n",
    "df.rename(columns={df.columns[0]: 'index_to_drop', df.columns[1]: 'RowIndex', df.columns[2]: 'WeekIndex'},inplace=True)\n",
    "\n",
    "# remove \"index\" column, since this is not the correct index\n",
    "df.drop(columns=[\"index_to_drop\"], inplace=True)"
   ],
   "metadata": {
    "collapsed": false
   }
  },
  {
   "cell_type": "code",
   "execution_count": 4,
   "outputs": [],
   "source": [
    "# unit test that each row has a unique index\n",
    "assert df['RowIndex'].nunique() == len(df.index)\n",
    "\n",
    "# convert 'RowIndex' column to integer\n",
    "df['RowIndex'] = df['RowIndex'].astype(int)\n",
    "\n",
    "# set the 'RowIndex' column to index\n",
    "df = df.set_index(\"RowIndex\")"
   ],
   "metadata": {
    "collapsed": false
   }
  },
  {
   "cell_type": "code",
   "execution_count": 5,
   "outputs": [
    {
     "name": "stdout",
     "output_type": "stream",
     "text": [
      "8\n"
     ]
    }
   ],
   "source": [
    "# cut district column and insert as last column\n",
    "df['District'] = df['District'].str[0:2]\n",
    "\n",
    "# count unique categories in District column -> 11\n",
    "print(df[\"District\"].nunique())\n",
    "\n",
    "# encode categorical variable \"District\" with binary encoding\n",
    "# documentation: https://contrib.scikit-learn.org/category_encoders/binary.html\n",
    "from category_encoders.binary import BinaryEncoder\n",
    "encoder = BinaryEncoder(cols=['District'])\n",
    "encoder.fit(df)\n",
    "df = encoder.transform(df)"
   ],
   "metadata": {
    "collapsed": false
   }
  },
  {
   "cell_type": "code",
   "execution_count": 6,
   "outputs": [
    {
     "name": "stdout",
     "output_type": "stream",
     "text": [
      "18482\n",
      "81\n"
     ]
    }
   ],
   "source": [
    "# count unique categories in ZipCode \"PC6\" column\n",
    "print(df[\"PC6\"].nunique())\n",
    "\n",
    "# retrieve PC4 from PC6, that is the first 4 digits of the 6 digit zip code\n",
    "df[\"PC4\"] = df[\"PC6\"].astype(str).str[:4]\n",
    "print(df[\"PC4\"].nunique())\n",
    "\n",
    "# encode categorical variable \"PC4\" with binary encoding\n",
    "encoder = BinaryEncoder(cols=['PC4'])\n",
    "encoder.fit(df)\n",
    "df = encoder.transform(df)"
   ],
   "metadata": {
    "collapsed": false
   }
  },
  {
   "cell_type": "code",
   "execution_count": 7,
   "outputs": [
    {
     "data": {
      "text/plain": "          WeekIndex     PC6        Date  District_0  District_1  District_2   \nRowIndex                                                                      \n0                 1  1011AB  2022-01-03           0           0           0  \\\n66                1  1011AC  2022-01-03           0           0           1   \n132               1  1011AD  2022-01-03           0           0           1   \n198               1  1011AE  2022-01-03           0           0           1   \n264               1  1011AG  2022-01-03           0           0           1   \n...             ...     ...         ...         ...         ...         ...   \n1219547          66  1109CB  2023-04-03           0           0           1   \n1219613          66  1109CD  2023-04-03           0           0           1   \n1219679          66  1109CE  2023-04-03           0           0           1   \n1219745          66  1109CH  2023-04-03           0           0           1   \n1219811          66  1109CJ  2023-04-03           0           0           1   \n\n          District_3  ConnectionTimeHours    kWh  power  ...   \nRowIndex                                                 ...   \n0                  1                67.59  125.8   5.52  ...  \\\n66                 0                 0.00    0.0   5.52  ...   \n132                0                 0.00    0.0   5.52  ...   \n198                0                 0.00    0.0   5.52  ...   \n264                0                 0.00    0.0   5.52  ...   \n...              ...                  ...    ...    ...  ...   \n1219547            0                 0.00    0.0   5.52  ...   \n1219613            0                 0.00    0.0   5.52  ...   \n1219679            0                 0.00    0.0   5.52  ...   \n1219745            0                 0.00    0.0   5.52  ...   \n1219811            0                 0.00    0.0   5.52  ...   \n\n          2019.0_assets_81_to_100_percent  2019.0_assets_average   \nRowIndex                                                           \n0                                    26.2                   47.6  \\\n66                                   26.2                   47.6   \n132                                  26.2                   47.6   \n198                                  26.2                   47.6   \n264                                  26.2                   47.6   \n...                                   ...                    ...   \n1219547                              24.7                   54.9   \n1219613                              24.7                   54.9   \n1219679                              24.7                   54.9   \n1219745                              24.7                   54.9   \n1219811                              24.7                   54.9   \n\n          2019.0_Gemiddelde SES WOA totaalscore  PC4_0  PC4_1  PC4_2  PC4_3   \nRowIndex                                                                      \n0                                         0.034      0      0      0      0  \\\n66                                        0.034      0      0      0      0   \n132                                       0.034      0      0      0      0   \n198                                       0.034      0      0      0      0   \n264                                       0.034      0      0      0      0   \n...                                         ...    ...    ...    ...    ...   \n1219547                                   0.157      1      0      1      0   \n1219613                                   0.157      1      0      1      0   \n1219679                                   0.157      1      0      1      0   \n1219745                                   0.157      1      0      1      0   \n1219811                                   0.157      1      0      1      0   \n\n          PC4_4  PC4_5  PC4_6  \nRowIndex                       \n0             0      0      1  \n66            0      0      1  \n132           0      0      1  \n198           0      0      1  \n264           0      0      1  \n...         ...    ...    ...  \n1219547       0      0      1  \n1219613       0      0      1  \n1219679       0      0      1  \n1219745       0      0      1  \n1219811       0      0      1  \n\n[1219812 rows x 113 columns]",
      "text/html": "<div>\n<style scoped>\n    .dataframe tbody tr th:only-of-type {\n        vertical-align: middle;\n    }\n\n    .dataframe tbody tr th {\n        vertical-align: top;\n    }\n\n    .dataframe thead th {\n        text-align: right;\n    }\n</style>\n<table border=\"1\" class=\"dataframe\">\n  <thead>\n    <tr style=\"text-align: right;\">\n      <th></th>\n      <th>WeekIndex</th>\n      <th>PC6</th>\n      <th>Date</th>\n      <th>District_0</th>\n      <th>District_1</th>\n      <th>District_2</th>\n      <th>District_3</th>\n      <th>ConnectionTimeHours</th>\n      <th>kWh</th>\n      <th>power</th>\n      <th>...</th>\n      <th>2019.0_assets_81_to_100_percent</th>\n      <th>2019.0_assets_average</th>\n      <th>2019.0_Gemiddelde SES WOA totaalscore</th>\n      <th>PC4_0</th>\n      <th>PC4_1</th>\n      <th>PC4_2</th>\n      <th>PC4_3</th>\n      <th>PC4_4</th>\n      <th>PC4_5</th>\n      <th>PC4_6</th>\n    </tr>\n    <tr>\n      <th>RowIndex</th>\n      <th></th>\n      <th></th>\n      <th></th>\n      <th></th>\n      <th></th>\n      <th></th>\n      <th></th>\n      <th></th>\n      <th></th>\n      <th></th>\n      <th></th>\n      <th></th>\n      <th></th>\n      <th></th>\n      <th></th>\n      <th></th>\n      <th></th>\n      <th></th>\n      <th></th>\n      <th></th>\n      <th></th>\n    </tr>\n  </thead>\n  <tbody>\n    <tr>\n      <th>0</th>\n      <td>1</td>\n      <td>1011AB</td>\n      <td>2022-01-03</td>\n      <td>0</td>\n      <td>0</td>\n      <td>0</td>\n      <td>1</td>\n      <td>67.59</td>\n      <td>125.8</td>\n      <td>5.52</td>\n      <td>...</td>\n      <td>26.2</td>\n      <td>47.6</td>\n      <td>0.034</td>\n      <td>0</td>\n      <td>0</td>\n      <td>0</td>\n      <td>0</td>\n      <td>0</td>\n      <td>0</td>\n      <td>1</td>\n    </tr>\n    <tr>\n      <th>66</th>\n      <td>1</td>\n      <td>1011AC</td>\n      <td>2022-01-03</td>\n      <td>0</td>\n      <td>0</td>\n      <td>1</td>\n      <td>0</td>\n      <td>0.00</td>\n      <td>0.0</td>\n      <td>5.52</td>\n      <td>...</td>\n      <td>26.2</td>\n      <td>47.6</td>\n      <td>0.034</td>\n      <td>0</td>\n      <td>0</td>\n      <td>0</td>\n      <td>0</td>\n      <td>0</td>\n      <td>0</td>\n      <td>1</td>\n    </tr>\n    <tr>\n      <th>132</th>\n      <td>1</td>\n      <td>1011AD</td>\n      <td>2022-01-03</td>\n      <td>0</td>\n      <td>0</td>\n      <td>1</td>\n      <td>0</td>\n      <td>0.00</td>\n      <td>0.0</td>\n      <td>5.52</td>\n      <td>...</td>\n      <td>26.2</td>\n      <td>47.6</td>\n      <td>0.034</td>\n      <td>0</td>\n      <td>0</td>\n      <td>0</td>\n      <td>0</td>\n      <td>0</td>\n      <td>0</td>\n      <td>1</td>\n    </tr>\n    <tr>\n      <th>198</th>\n      <td>1</td>\n      <td>1011AE</td>\n      <td>2022-01-03</td>\n      <td>0</td>\n      <td>0</td>\n      <td>1</td>\n      <td>0</td>\n      <td>0.00</td>\n      <td>0.0</td>\n      <td>5.52</td>\n      <td>...</td>\n      <td>26.2</td>\n      <td>47.6</td>\n      <td>0.034</td>\n      <td>0</td>\n      <td>0</td>\n      <td>0</td>\n      <td>0</td>\n      <td>0</td>\n      <td>0</td>\n      <td>1</td>\n    </tr>\n    <tr>\n      <th>264</th>\n      <td>1</td>\n      <td>1011AG</td>\n      <td>2022-01-03</td>\n      <td>0</td>\n      <td>0</td>\n      <td>1</td>\n      <td>0</td>\n      <td>0.00</td>\n      <td>0.0</td>\n      <td>5.52</td>\n      <td>...</td>\n      <td>26.2</td>\n      <td>47.6</td>\n      <td>0.034</td>\n      <td>0</td>\n      <td>0</td>\n      <td>0</td>\n      <td>0</td>\n      <td>0</td>\n      <td>0</td>\n      <td>1</td>\n    </tr>\n    <tr>\n      <th>...</th>\n      <td>...</td>\n      <td>...</td>\n      <td>...</td>\n      <td>...</td>\n      <td>...</td>\n      <td>...</td>\n      <td>...</td>\n      <td>...</td>\n      <td>...</td>\n      <td>...</td>\n      <td>...</td>\n      <td>...</td>\n      <td>...</td>\n      <td>...</td>\n      <td>...</td>\n      <td>...</td>\n      <td>...</td>\n      <td>...</td>\n      <td>...</td>\n      <td>...</td>\n      <td>...</td>\n    </tr>\n    <tr>\n      <th>1219547</th>\n      <td>66</td>\n      <td>1109CB</td>\n      <td>2023-04-03</td>\n      <td>0</td>\n      <td>0</td>\n      <td>1</td>\n      <td>0</td>\n      <td>0.00</td>\n      <td>0.0</td>\n      <td>5.52</td>\n      <td>...</td>\n      <td>24.7</td>\n      <td>54.9</td>\n      <td>0.157</td>\n      <td>1</td>\n      <td>0</td>\n      <td>1</td>\n      <td>0</td>\n      <td>0</td>\n      <td>0</td>\n      <td>1</td>\n    </tr>\n    <tr>\n      <th>1219613</th>\n      <td>66</td>\n      <td>1109CD</td>\n      <td>2023-04-03</td>\n      <td>0</td>\n      <td>0</td>\n      <td>1</td>\n      <td>0</td>\n      <td>0.00</td>\n      <td>0.0</td>\n      <td>5.52</td>\n      <td>...</td>\n      <td>24.7</td>\n      <td>54.9</td>\n      <td>0.157</td>\n      <td>1</td>\n      <td>0</td>\n      <td>1</td>\n      <td>0</td>\n      <td>0</td>\n      <td>0</td>\n      <td>1</td>\n    </tr>\n    <tr>\n      <th>1219679</th>\n      <td>66</td>\n      <td>1109CE</td>\n      <td>2023-04-03</td>\n      <td>0</td>\n      <td>0</td>\n      <td>1</td>\n      <td>0</td>\n      <td>0.00</td>\n      <td>0.0</td>\n      <td>5.52</td>\n      <td>...</td>\n      <td>24.7</td>\n      <td>54.9</td>\n      <td>0.157</td>\n      <td>1</td>\n      <td>0</td>\n      <td>1</td>\n      <td>0</td>\n      <td>0</td>\n      <td>0</td>\n      <td>1</td>\n    </tr>\n    <tr>\n      <th>1219745</th>\n      <td>66</td>\n      <td>1109CH</td>\n      <td>2023-04-03</td>\n      <td>0</td>\n      <td>0</td>\n      <td>1</td>\n      <td>0</td>\n      <td>0.00</td>\n      <td>0.0</td>\n      <td>5.52</td>\n      <td>...</td>\n      <td>24.7</td>\n      <td>54.9</td>\n      <td>0.157</td>\n      <td>1</td>\n      <td>0</td>\n      <td>1</td>\n      <td>0</td>\n      <td>0</td>\n      <td>0</td>\n      <td>1</td>\n    </tr>\n    <tr>\n      <th>1219811</th>\n      <td>66</td>\n      <td>1109CJ</td>\n      <td>2023-04-03</td>\n      <td>0</td>\n      <td>0</td>\n      <td>1</td>\n      <td>0</td>\n      <td>0.00</td>\n      <td>0.0</td>\n      <td>5.52</td>\n      <td>...</td>\n      <td>24.7</td>\n      <td>54.9</td>\n      <td>0.157</td>\n      <td>1</td>\n      <td>0</td>\n      <td>1</td>\n      <td>0</td>\n      <td>0</td>\n      <td>0</td>\n      <td>1</td>\n    </tr>\n  </tbody>\n</table>\n<p>1219812 rows × 113 columns</p>\n</div>"
     },
     "execution_count": 7,
     "metadata": {},
     "output_type": "execute_result"
    }
   ],
   "source": [
    "df.head()"
   ],
   "metadata": {
    "collapsed": false
   }
  },
  {
   "cell_type": "code",
   "execution_count": 8,
   "outputs": [],
   "source": [
    "# all columns (including provider columns) that are not in the above lists are unknown variables\n",
    "providers = [\"Total\", \"Vattenfall\", \"Allego\", \"Equans\", \"EvBox\", \"Nuon\", \"WDS\", \"Pitpoint\", \"Ecotap\", \"Engie\"]\n",
    "\n",
    "# create a new column called \"number of chargers\" which is the sum of the values of the columns which names are stored in the providers list\n",
    "df['number_of_chargers'] = df[providers].sum(axis=1)\n",
    "\n",
    "providers.append(\"number_of_chargers\")\n",
    "\n",
    "# reverse list\n",
    "providers = providers[::-1]"
   ],
   "metadata": {
    "collapsed": false
   }
  },
  {
   "cell_type": "code",
   "execution_count": 9,
   "outputs": [
    {
     "name": "stdout",
     "output_type": "stream",
     "text": [
      "114\n"
     ]
    }
   ],
   "source": [
    "# split columns into several groups: identifiers, target variables, know_variables, unknown_variables, purely_descriptive_variables\n",
    "\n",
    "# reorder columns in the following order:\n",
    "identifiers = [\"PC6\", \"Date\"]\n",
    "know_variables = [\"WeekIndex\", \"MaxPower\"]\n",
    "target_variables = [\"kWh\", \"Blocked_kWh\"]\n",
    "\n",
    "purely_descriptive_variables = [\"ChargeSocket_ID_count\", \"ConnectionTimeHours\", \"power\", \"effective_charging_hrs\", \"MaxOccupancy\", \"SpareCap_Effective\", \"SpareCap_Occup_kWh\", \"SpareCap_Hrs\", \"Effective%\", \"Occupancy_kwh%\"]\n",
    "\n",
    "\n",
    "unknown_variables = [col for col in df.columns if col not in identifiers + target_variables + know_variables + providers+ purely_descriptive_variables]\n",
    "unknown_variables = providers + unknown_variables\n",
    "\n",
    "print(len(identifiers + target_variables + know_variables + purely_descriptive_variables + unknown_variables))"
   ],
   "metadata": {
    "collapsed": false
   }
  },
  {
   "cell_type": "code",
   "execution_count": 10,
   "outputs": [],
   "source": [
    "# sort df columns in the following order: identifiers, target variables, know_variables, unknown_variables, purely_descriptive_variables\n",
    "df = df[identifiers + know_variables + target_variables + unknown_variables + purely_descriptive_variables]"
   ],
   "metadata": {
    "collapsed": false
   }
  },
  {
   "cell_type": "code",
   "execution_count": 11,
   "outputs": [
    {
     "data": {
      "text/plain": "             PC6        Date  WeekIndex  MaxPower    kWh  Blocked_kWh   \nRowIndex                                                                \n0         1011AB  2022-01-03          1   1324.80  125.8     373.0968  \\\n66        1011AC  2022-01-03          1   1854.72    0.0       0.0000   \n132       1011AD  2022-01-03          1   1854.72    0.0       0.0000   \n198       1011AE  2022-01-03          1   1854.72    0.0       0.0000   \n264       1011AG  2022-01-03          1   1854.72    0.0       0.0000   \n...          ...         ...        ...       ...    ...          ...   \n1219547   1109CB  2023-04-03         66   1854.72    0.0       0.0000   \n1219613   1109CD  2023-04-03         66   1854.72    0.0       0.0000   \n1219679   1109CE  2023-04-03         66   1854.72    0.0       0.0000   \n1219745   1109CH  2023-04-03         66   1854.72    0.0       0.0000   \n1219811   1109CJ  2023-04-03         66   1854.72    0.0       0.0000   \n\n          number_of_chargers  Engie  Ecotap  Pitpoint  ...   \nRowIndex                                               ...   \n0                        5.0    0.0     0.0       0.0  ...  \\\n66                       0.0    0.0     0.0       0.0  ...   \n132                      0.0    0.0     0.0       0.0  ...   \n198                      0.0    0.0     0.0       0.0  ...   \n264                      0.0    0.0     0.0       0.0  ...   \n...                      ...    ...     ...       ...  ...   \n1219547                  0.0    0.0     0.0       0.0  ...   \n1219613                  0.0    0.0     0.0       0.0  ...   \n1219679                  0.0    0.0     0.0       0.0  ...   \n1219745                  0.0    0.0     0.0       0.0  ...   \n1219811                  0.0    0.0     0.0       0.0  ...   \n\n          2019.0_assets_81_to_100_percent  2019.0_assets_average   \nRowIndex                                                           \n0                                    26.2                   47.6  \\\n66                                   26.2                   47.6   \n132                                  26.2                   47.6   \n198                                  26.2                   47.6   \n264                                  26.2                   47.6   \n...                                   ...                    ...   \n1219547                              24.7                   54.9   \n1219613                              24.7                   54.9   \n1219679                              24.7                   54.9   \n1219745                              24.7                   54.9   \n1219811                              24.7                   54.9   \n\n          2019.0_Gemiddelde SES WOA totaalscore  PC4_0  PC4_1  PC4_2  PC4_3   \nRowIndex                                                                      \n0                                         0.034      0      0      0      0  \\\n66                                        0.034      0      0      0      0   \n132                                       0.034      0      0      0      0   \n198                                       0.034      0      0      0      0   \n264                                       0.034      0      0      0      0   \n...                                         ...    ...    ...    ...    ...   \n1219547                                   0.157      1      0      1      0   \n1219613                                   0.157      1      0      1      0   \n1219679                                   0.157      1      0      1      0   \n1219745                                   0.157      1      0      1      0   \n1219811                                   0.157      1      0      1      0   \n\n          PC4_4  PC4_5  PC4_6  \nRowIndex                       \n0             0      0      1  \n66            0      0      1  \n132           0      0      1  \n198           0      0      1  \n264           0      0      1  \n...         ...    ...    ...  \n1219547       0      0      1  \n1219613       0      0      1  \n1219679       0      0      1  \n1219745       0      0      1  \n1219811       0      0      1  \n\n[1219812 rows x 104 columns]",
      "text/html": "<div>\n<style scoped>\n    .dataframe tbody tr th:only-of-type {\n        vertical-align: middle;\n    }\n\n    .dataframe tbody tr th {\n        vertical-align: top;\n    }\n\n    .dataframe thead th {\n        text-align: right;\n    }\n</style>\n<table border=\"1\" class=\"dataframe\">\n  <thead>\n    <tr style=\"text-align: right;\">\n      <th></th>\n      <th>PC6</th>\n      <th>Date</th>\n      <th>WeekIndex</th>\n      <th>MaxPower</th>\n      <th>kWh</th>\n      <th>Blocked_kWh</th>\n      <th>number_of_chargers</th>\n      <th>Engie</th>\n      <th>Ecotap</th>\n      <th>Pitpoint</th>\n      <th>...</th>\n      <th>2019.0_assets_81_to_100_percent</th>\n      <th>2019.0_assets_average</th>\n      <th>2019.0_Gemiddelde SES WOA totaalscore</th>\n      <th>PC4_0</th>\n      <th>PC4_1</th>\n      <th>PC4_2</th>\n      <th>PC4_3</th>\n      <th>PC4_4</th>\n      <th>PC4_5</th>\n      <th>PC4_6</th>\n    </tr>\n    <tr>\n      <th>RowIndex</th>\n      <th></th>\n      <th></th>\n      <th></th>\n      <th></th>\n      <th></th>\n      <th></th>\n      <th></th>\n      <th></th>\n      <th></th>\n      <th></th>\n      <th></th>\n      <th></th>\n      <th></th>\n      <th></th>\n      <th></th>\n      <th></th>\n      <th></th>\n      <th></th>\n      <th></th>\n      <th></th>\n      <th></th>\n    </tr>\n  </thead>\n  <tbody>\n    <tr>\n      <th>0</th>\n      <td>1011AB</td>\n      <td>2022-01-03</td>\n      <td>1</td>\n      <td>1324.80</td>\n      <td>125.8</td>\n      <td>373.0968</td>\n      <td>5.0</td>\n      <td>0.0</td>\n      <td>0.0</td>\n      <td>0.0</td>\n      <td>...</td>\n      <td>26.2</td>\n      <td>47.6</td>\n      <td>0.034</td>\n      <td>0</td>\n      <td>0</td>\n      <td>0</td>\n      <td>0</td>\n      <td>0</td>\n      <td>0</td>\n      <td>1</td>\n    </tr>\n    <tr>\n      <th>66</th>\n      <td>1011AC</td>\n      <td>2022-01-03</td>\n      <td>1</td>\n      <td>1854.72</td>\n      <td>0.0</td>\n      <td>0.0000</td>\n      <td>0.0</td>\n      <td>0.0</td>\n      <td>0.0</td>\n      <td>0.0</td>\n      <td>...</td>\n      <td>26.2</td>\n      <td>47.6</td>\n      <td>0.034</td>\n      <td>0</td>\n      <td>0</td>\n      <td>0</td>\n      <td>0</td>\n      <td>0</td>\n      <td>0</td>\n      <td>1</td>\n    </tr>\n    <tr>\n      <th>132</th>\n      <td>1011AD</td>\n      <td>2022-01-03</td>\n      <td>1</td>\n      <td>1854.72</td>\n      <td>0.0</td>\n      <td>0.0000</td>\n      <td>0.0</td>\n      <td>0.0</td>\n      <td>0.0</td>\n      <td>0.0</td>\n      <td>...</td>\n      <td>26.2</td>\n      <td>47.6</td>\n      <td>0.034</td>\n      <td>0</td>\n      <td>0</td>\n      <td>0</td>\n      <td>0</td>\n      <td>0</td>\n      <td>0</td>\n      <td>1</td>\n    </tr>\n    <tr>\n      <th>198</th>\n      <td>1011AE</td>\n      <td>2022-01-03</td>\n      <td>1</td>\n      <td>1854.72</td>\n      <td>0.0</td>\n      <td>0.0000</td>\n      <td>0.0</td>\n      <td>0.0</td>\n      <td>0.0</td>\n      <td>0.0</td>\n      <td>...</td>\n      <td>26.2</td>\n      <td>47.6</td>\n      <td>0.034</td>\n      <td>0</td>\n      <td>0</td>\n      <td>0</td>\n      <td>0</td>\n      <td>0</td>\n      <td>0</td>\n      <td>1</td>\n    </tr>\n    <tr>\n      <th>264</th>\n      <td>1011AG</td>\n      <td>2022-01-03</td>\n      <td>1</td>\n      <td>1854.72</td>\n      <td>0.0</td>\n      <td>0.0000</td>\n      <td>0.0</td>\n      <td>0.0</td>\n      <td>0.0</td>\n      <td>0.0</td>\n      <td>...</td>\n      <td>26.2</td>\n      <td>47.6</td>\n      <td>0.034</td>\n      <td>0</td>\n      <td>0</td>\n      <td>0</td>\n      <td>0</td>\n      <td>0</td>\n      <td>0</td>\n      <td>1</td>\n    </tr>\n    <tr>\n      <th>...</th>\n      <td>...</td>\n      <td>...</td>\n      <td>...</td>\n      <td>...</td>\n      <td>...</td>\n      <td>...</td>\n      <td>...</td>\n      <td>...</td>\n      <td>...</td>\n      <td>...</td>\n      <td>...</td>\n      <td>...</td>\n      <td>...</td>\n      <td>...</td>\n      <td>...</td>\n      <td>...</td>\n      <td>...</td>\n      <td>...</td>\n      <td>...</td>\n      <td>...</td>\n      <td>...</td>\n    </tr>\n    <tr>\n      <th>1219547</th>\n      <td>1109CB</td>\n      <td>2023-04-03</td>\n      <td>66</td>\n      <td>1854.72</td>\n      <td>0.0</td>\n      <td>0.0000</td>\n      <td>0.0</td>\n      <td>0.0</td>\n      <td>0.0</td>\n      <td>0.0</td>\n      <td>...</td>\n      <td>24.7</td>\n      <td>54.9</td>\n      <td>0.157</td>\n      <td>1</td>\n      <td>0</td>\n      <td>1</td>\n      <td>0</td>\n      <td>0</td>\n      <td>0</td>\n      <td>1</td>\n    </tr>\n    <tr>\n      <th>1219613</th>\n      <td>1109CD</td>\n      <td>2023-04-03</td>\n      <td>66</td>\n      <td>1854.72</td>\n      <td>0.0</td>\n      <td>0.0000</td>\n      <td>0.0</td>\n      <td>0.0</td>\n      <td>0.0</td>\n      <td>0.0</td>\n      <td>...</td>\n      <td>24.7</td>\n      <td>54.9</td>\n      <td>0.157</td>\n      <td>1</td>\n      <td>0</td>\n      <td>1</td>\n      <td>0</td>\n      <td>0</td>\n      <td>0</td>\n      <td>1</td>\n    </tr>\n    <tr>\n      <th>1219679</th>\n      <td>1109CE</td>\n      <td>2023-04-03</td>\n      <td>66</td>\n      <td>1854.72</td>\n      <td>0.0</td>\n      <td>0.0000</td>\n      <td>0.0</td>\n      <td>0.0</td>\n      <td>0.0</td>\n      <td>0.0</td>\n      <td>...</td>\n      <td>24.7</td>\n      <td>54.9</td>\n      <td>0.157</td>\n      <td>1</td>\n      <td>0</td>\n      <td>1</td>\n      <td>0</td>\n      <td>0</td>\n      <td>0</td>\n      <td>1</td>\n    </tr>\n    <tr>\n      <th>1219745</th>\n      <td>1109CH</td>\n      <td>2023-04-03</td>\n      <td>66</td>\n      <td>1854.72</td>\n      <td>0.0</td>\n      <td>0.0000</td>\n      <td>0.0</td>\n      <td>0.0</td>\n      <td>0.0</td>\n      <td>0.0</td>\n      <td>...</td>\n      <td>24.7</td>\n      <td>54.9</td>\n      <td>0.157</td>\n      <td>1</td>\n      <td>0</td>\n      <td>1</td>\n      <td>0</td>\n      <td>0</td>\n      <td>0</td>\n      <td>1</td>\n    </tr>\n    <tr>\n      <th>1219811</th>\n      <td>1109CJ</td>\n      <td>2023-04-03</td>\n      <td>66</td>\n      <td>1854.72</td>\n      <td>0.0</td>\n      <td>0.0000</td>\n      <td>0.0</td>\n      <td>0.0</td>\n      <td>0.0</td>\n      <td>0.0</td>\n      <td>...</td>\n      <td>24.7</td>\n      <td>54.9</td>\n      <td>0.157</td>\n      <td>1</td>\n      <td>0</td>\n      <td>1</td>\n      <td>0</td>\n      <td>0</td>\n      <td>0</td>\n      <td>1</td>\n    </tr>\n  </tbody>\n</table>\n<p>1219812 rows × 104 columns</p>\n</div>"
     },
     "execution_count": 11,
     "metadata": {},
     "output_type": "execute_result"
    }
   ],
   "source": [
    "# inspect df without the purely_descriptive_variables\n",
    "df[identifiers + know_variables + target_variables + unknown_variables].head()"
   ],
   "metadata": {
    "collapsed": false
   }
  },
  {
   "cell_type": "code",
   "execution_count": 12,
   "outputs": [
    {
     "name": "stdout",
     "output_type": "stream",
     "text": [
      "Effective%        3867\n",
      "Occupancy_kwh%    3867\n",
      "dtype: int64\n"
     ]
    }
   ],
   "source": [
    "# check missing values: show only columns where missing values >0 and their count per column\n",
    "print(df.isna().sum()[df.isna().sum() > 0])"
   ],
   "metadata": {
    "collapsed": false
   }
  },
  {
   "cell_type": "code",
   "execution_count": 13,
   "outputs": [],
   "source": [
    "# sort df by date column\n",
    "df['Date'] = pd.to_datetime(df['Date'])\n",
    "df = df.sort_values(by=['PC6', 'Date'])"
   ],
   "metadata": {
    "collapsed": false
   }
  },
  {
   "cell_type": "code",
   "execution_count": 14,
   "outputs": [
    {
     "data": {
      "text/plain": "             PC6       Date  WeekIndex  MaxPower     kWh  Blocked_kWh   \nRowIndex                                                                \n0         1011AB 2022-01-03          1   1324.80  125.80     373.0968  \\\n1         1011AB 2022-01-10          2   3444.48  457.95     904.3416   \n2         1011AB 2022-01-17          3   3709.44  525.80    1298.3040   \n3         1011AB 2022-01-24          4   3709.44  707.90    1855.3824   \n4         1011AB 2022-01-31          5   3709.44  571.31    1433.9304   \n...          ...        ...        ...       ...     ...          ...   \n1219807   1109CJ 2023-03-06         62   1854.72    0.00       0.0000   \n1219808   1109CJ 2023-03-13         63   1854.72    0.00       0.0000   \n1219809   1109CJ 2023-03-20         64   1854.72    0.00       0.0000   \n1219810   1109CJ 2023-03-27         65   1854.72    0.00       0.0000   \n1219811   1109CJ 2023-04-03         66   1854.72    0.00       0.0000   \n\n          number_of_chargers  Engie  Ecotap  Pitpoint  ...   \nRowIndex                                               ...   \n0                        5.0    0.0     0.0       0.0  ...  \\\n1                       13.0    0.0     0.0       0.0  ...   \n2                       14.0    0.0     0.0       0.0  ...   \n3                       14.0    0.0     0.0       0.0  ...   \n4                       14.0    0.0     0.0       0.0  ...   \n...                      ...    ...     ...       ...  ...   \n1219807                  0.0    0.0     0.0       0.0  ...   \n1219808                  0.0    0.0     0.0       0.0  ...   \n1219809                  0.0    0.0     0.0       0.0  ...   \n1219810                  0.0    0.0     0.0       0.0  ...   \n1219811                  0.0    0.0     0.0       0.0  ...   \n\n          ChargeSocket_ID_count  ConnectionTimeHours  power   \nRowIndex                                                      \n0                          10.0                67.59   5.52  \\\n1                          26.0               163.83   5.52   \n2                          28.0               235.20   5.52   \n3                          28.0               336.12   5.52   \n4                          28.0               259.77   5.52   \n...                         ...                  ...    ...   \n1219807                     0.0                 0.00   5.52   \n1219808                     0.0                 0.00   5.52   \n1219809                     0.0                 0.00   5.52   \n1219810                     0.0                 0.00   5.52   \n1219811                     0.0                 0.00   5.52   \n\n          effective_charging_hrs  MaxOccupancy  SpareCap_Effective   \nRowIndex                                                             \n0                      22.789855         240.0             1199.00  \\\n1                      82.961957         624.0             2986.53   \n2                      95.253623         672.0             3183.64   \n3                     128.242754         672.0             3001.54   \n4                     103.498188         672.0             3138.13   \n...                          ...           ...                 ...   \n1219807                 0.000000         336.0             1854.72   \n1219808                 0.000000         336.0             1854.72   \n1219809                 0.000000         336.0             1854.72   \n1219810                 0.000000         336.0             1854.72   \n1219811                 0.000000         336.0             1854.72   \n\n          SpareCap_Occup_kWh  SpareCap_Hrs  Effective%  Occupancy_kwh%  \nRowIndex                                                                \n0                   951.7032        172.41    0.094958        0.281625  \n1                  2540.1384        460.17    0.132952        0.262548  \n2                  2411.1360        436.80    0.141746        0.350000  \n3                  1854.0576        335.88    0.190837        0.500179  \n4                  2275.5096        412.23    0.154015        0.386562  \n...                      ...           ...         ...             ...  \n1219807            1854.7200        336.00    0.000000        0.000000  \n1219808            1854.7200        336.00    0.000000        0.000000  \n1219809            1854.7200        336.00    0.000000        0.000000  \n1219810            1854.7200        336.00    0.000000        0.000000  \n1219811            1854.7200        336.00    0.000000        0.000000  \n\n[1219812 rows x 114 columns]",
      "text/html": "<div>\n<style scoped>\n    .dataframe tbody tr th:only-of-type {\n        vertical-align: middle;\n    }\n\n    .dataframe tbody tr th {\n        vertical-align: top;\n    }\n\n    .dataframe thead th {\n        text-align: right;\n    }\n</style>\n<table border=\"1\" class=\"dataframe\">\n  <thead>\n    <tr style=\"text-align: right;\">\n      <th></th>\n      <th>PC6</th>\n      <th>Date</th>\n      <th>WeekIndex</th>\n      <th>MaxPower</th>\n      <th>kWh</th>\n      <th>Blocked_kWh</th>\n      <th>number_of_chargers</th>\n      <th>Engie</th>\n      <th>Ecotap</th>\n      <th>Pitpoint</th>\n      <th>...</th>\n      <th>ChargeSocket_ID_count</th>\n      <th>ConnectionTimeHours</th>\n      <th>power</th>\n      <th>effective_charging_hrs</th>\n      <th>MaxOccupancy</th>\n      <th>SpareCap_Effective</th>\n      <th>SpareCap_Occup_kWh</th>\n      <th>SpareCap_Hrs</th>\n      <th>Effective%</th>\n      <th>Occupancy_kwh%</th>\n    </tr>\n    <tr>\n      <th>RowIndex</th>\n      <th></th>\n      <th></th>\n      <th></th>\n      <th></th>\n      <th></th>\n      <th></th>\n      <th></th>\n      <th></th>\n      <th></th>\n      <th></th>\n      <th></th>\n      <th></th>\n      <th></th>\n      <th></th>\n      <th></th>\n      <th></th>\n      <th></th>\n      <th></th>\n      <th></th>\n      <th></th>\n      <th></th>\n    </tr>\n  </thead>\n  <tbody>\n    <tr>\n      <th>0</th>\n      <td>1011AB</td>\n      <td>2022-01-03</td>\n      <td>1</td>\n      <td>1324.80</td>\n      <td>125.80</td>\n      <td>373.0968</td>\n      <td>5.0</td>\n      <td>0.0</td>\n      <td>0.0</td>\n      <td>0.0</td>\n      <td>...</td>\n      <td>10.0</td>\n      <td>67.59</td>\n      <td>5.52</td>\n      <td>22.789855</td>\n      <td>240.0</td>\n      <td>1199.00</td>\n      <td>951.7032</td>\n      <td>172.41</td>\n      <td>0.094958</td>\n      <td>0.281625</td>\n    </tr>\n    <tr>\n      <th>1</th>\n      <td>1011AB</td>\n      <td>2022-01-10</td>\n      <td>2</td>\n      <td>3444.48</td>\n      <td>457.95</td>\n      <td>904.3416</td>\n      <td>13.0</td>\n      <td>0.0</td>\n      <td>0.0</td>\n      <td>0.0</td>\n      <td>...</td>\n      <td>26.0</td>\n      <td>163.83</td>\n      <td>5.52</td>\n      <td>82.961957</td>\n      <td>624.0</td>\n      <td>2986.53</td>\n      <td>2540.1384</td>\n      <td>460.17</td>\n      <td>0.132952</td>\n      <td>0.262548</td>\n    </tr>\n    <tr>\n      <th>2</th>\n      <td>1011AB</td>\n      <td>2022-01-17</td>\n      <td>3</td>\n      <td>3709.44</td>\n      <td>525.80</td>\n      <td>1298.3040</td>\n      <td>14.0</td>\n      <td>0.0</td>\n      <td>0.0</td>\n      <td>0.0</td>\n      <td>...</td>\n      <td>28.0</td>\n      <td>235.20</td>\n      <td>5.52</td>\n      <td>95.253623</td>\n      <td>672.0</td>\n      <td>3183.64</td>\n      <td>2411.1360</td>\n      <td>436.80</td>\n      <td>0.141746</td>\n      <td>0.350000</td>\n    </tr>\n    <tr>\n      <th>3</th>\n      <td>1011AB</td>\n      <td>2022-01-24</td>\n      <td>4</td>\n      <td>3709.44</td>\n      <td>707.90</td>\n      <td>1855.3824</td>\n      <td>14.0</td>\n      <td>0.0</td>\n      <td>0.0</td>\n      <td>0.0</td>\n      <td>...</td>\n      <td>28.0</td>\n      <td>336.12</td>\n      <td>5.52</td>\n      <td>128.242754</td>\n      <td>672.0</td>\n      <td>3001.54</td>\n      <td>1854.0576</td>\n      <td>335.88</td>\n      <td>0.190837</td>\n      <td>0.500179</td>\n    </tr>\n    <tr>\n      <th>4</th>\n      <td>1011AB</td>\n      <td>2022-01-31</td>\n      <td>5</td>\n      <td>3709.44</td>\n      <td>571.31</td>\n      <td>1433.9304</td>\n      <td>14.0</td>\n      <td>0.0</td>\n      <td>0.0</td>\n      <td>0.0</td>\n      <td>...</td>\n      <td>28.0</td>\n      <td>259.77</td>\n      <td>5.52</td>\n      <td>103.498188</td>\n      <td>672.0</td>\n      <td>3138.13</td>\n      <td>2275.5096</td>\n      <td>412.23</td>\n      <td>0.154015</td>\n      <td>0.386562</td>\n    </tr>\n    <tr>\n      <th>...</th>\n      <td>...</td>\n      <td>...</td>\n      <td>...</td>\n      <td>...</td>\n      <td>...</td>\n      <td>...</td>\n      <td>...</td>\n      <td>...</td>\n      <td>...</td>\n      <td>...</td>\n      <td>...</td>\n      <td>...</td>\n      <td>...</td>\n      <td>...</td>\n      <td>...</td>\n      <td>...</td>\n      <td>...</td>\n      <td>...</td>\n      <td>...</td>\n      <td>...</td>\n      <td>...</td>\n    </tr>\n    <tr>\n      <th>1219807</th>\n      <td>1109CJ</td>\n      <td>2023-03-06</td>\n      <td>62</td>\n      <td>1854.72</td>\n      <td>0.00</td>\n      <td>0.0000</td>\n      <td>0.0</td>\n      <td>0.0</td>\n      <td>0.0</td>\n      <td>0.0</td>\n      <td>...</td>\n      <td>0.0</td>\n      <td>0.00</td>\n      <td>5.52</td>\n      <td>0.000000</td>\n      <td>336.0</td>\n      <td>1854.72</td>\n      <td>1854.7200</td>\n      <td>336.00</td>\n      <td>0.000000</td>\n      <td>0.000000</td>\n    </tr>\n    <tr>\n      <th>1219808</th>\n      <td>1109CJ</td>\n      <td>2023-03-13</td>\n      <td>63</td>\n      <td>1854.72</td>\n      <td>0.00</td>\n      <td>0.0000</td>\n      <td>0.0</td>\n      <td>0.0</td>\n      <td>0.0</td>\n      <td>0.0</td>\n      <td>...</td>\n      <td>0.0</td>\n      <td>0.00</td>\n      <td>5.52</td>\n      <td>0.000000</td>\n      <td>336.0</td>\n      <td>1854.72</td>\n      <td>1854.7200</td>\n      <td>336.00</td>\n      <td>0.000000</td>\n      <td>0.000000</td>\n    </tr>\n    <tr>\n      <th>1219809</th>\n      <td>1109CJ</td>\n      <td>2023-03-20</td>\n      <td>64</td>\n      <td>1854.72</td>\n      <td>0.00</td>\n      <td>0.0000</td>\n      <td>0.0</td>\n      <td>0.0</td>\n      <td>0.0</td>\n      <td>0.0</td>\n      <td>...</td>\n      <td>0.0</td>\n      <td>0.00</td>\n      <td>5.52</td>\n      <td>0.000000</td>\n      <td>336.0</td>\n      <td>1854.72</td>\n      <td>1854.7200</td>\n      <td>336.00</td>\n      <td>0.000000</td>\n      <td>0.000000</td>\n    </tr>\n    <tr>\n      <th>1219810</th>\n      <td>1109CJ</td>\n      <td>2023-03-27</td>\n      <td>65</td>\n      <td>1854.72</td>\n      <td>0.00</td>\n      <td>0.0000</td>\n      <td>0.0</td>\n      <td>0.0</td>\n      <td>0.0</td>\n      <td>0.0</td>\n      <td>...</td>\n      <td>0.0</td>\n      <td>0.00</td>\n      <td>5.52</td>\n      <td>0.000000</td>\n      <td>336.0</td>\n      <td>1854.72</td>\n      <td>1854.7200</td>\n      <td>336.00</td>\n      <td>0.000000</td>\n      <td>0.000000</td>\n    </tr>\n    <tr>\n      <th>1219811</th>\n      <td>1109CJ</td>\n      <td>2023-04-03</td>\n      <td>66</td>\n      <td>1854.72</td>\n      <td>0.00</td>\n      <td>0.0000</td>\n      <td>0.0</td>\n      <td>0.0</td>\n      <td>0.0</td>\n      <td>0.0</td>\n      <td>...</td>\n      <td>0.0</td>\n      <td>0.00</td>\n      <td>5.52</td>\n      <td>0.000000</td>\n      <td>336.0</td>\n      <td>1854.72</td>\n      <td>1854.7200</td>\n      <td>336.00</td>\n      <td>0.000000</td>\n      <td>0.000000</td>\n    </tr>\n  </tbody>\n</table>\n<p>1219812 rows × 114 columns</p>\n</div>"
     },
     "execution_count": 14,
     "metadata": {},
     "output_type": "execute_result"
    }
   ],
   "source": [
    "df.head()"
   ],
   "metadata": {
    "collapsed": false
   }
  },
  {
   "cell_type": "code",
   "execution_count": 15,
   "outputs": [
    {
     "name": "stdout",
     "output_type": "stream",
     "text": [
      "(1219812, 114)\n"
     ]
    }
   ],
   "source": [
    "# count number of remaining rows\n",
    "print(df.shape)"
   ],
   "metadata": {
    "collapsed": false
   }
  },
  {
   "cell_type": "code",
   "execution_count": 16,
   "outputs": [
    {
     "data": {
      "text/plain": "0"
     },
     "execution_count": 16,
     "metadata": {},
     "output_type": "execute_result"
    }
   ],
   "source": [
    "# load cleaned data\n",
    "# df = pd.read_csv(filename.split('.')[0] + '_cleaned.csv')\n",
    "\n",
    "# create new column as concatenation of PC6 and WeekIndex columns\n",
    "df['PC6_WeekIndex'] = df['PC6'].astype(str) + df['WeekIndex'].astype(str)\n",
    "\n",
    "# move this column to the first position\n",
    "cols = df.columns.tolist()\n",
    "cols = cols[-1:] + cols[:-1]\n",
    "\n",
    "# count duplicates in PC6_WeekIndex column\n",
    "df['PC6_WeekIndex'].duplicated().sum()"
   ],
   "metadata": {
    "collapsed": false
   }
  },
  {
   "cell_type": "code",
   "execution_count": 17,
   "outputs": [
    {
     "data": {
      "text/plain": "             PC6       Date  WeekIndex  MaxPower     kWh  Blocked_kWh   \nRowIndex                                                                \n0         1011AB 2022-01-03          1   1324.80  125.80     373.0968  \\\n1         1011AB 2022-01-10          2   3444.48  457.95     904.3416   \n2         1011AB 2022-01-17          3   3709.44  525.80    1298.3040   \n3         1011AB 2022-01-24          4   3709.44  707.90    1855.3824   \n4         1011AB 2022-01-31          5   3709.44  571.31    1433.9304   \n\n          number_of_chargers  Engie  Ecotap  Pitpoint  ...   \nRowIndex                                               ...   \n0                        5.0    0.0     0.0       0.0  ...  \\\n1                       13.0    0.0     0.0       0.0  ...   \n2                       14.0    0.0     0.0       0.0  ...   \n3                       14.0    0.0     0.0       0.0  ...   \n4                       14.0    0.0     0.0       0.0  ...   \n\n          ConnectionTimeHours  power  effective_charging_hrs  MaxOccupancy   \nRowIndex                                                                     \n0                       67.59   5.52               22.789855         240.0  \\\n1                      163.83   5.52               82.961957         624.0   \n2                      235.20   5.52               95.253623         672.0   \n3                      336.12   5.52              128.242754         672.0   \n4                      259.77   5.52              103.498188         672.0   \n\n          SpareCap_Effective  SpareCap_Occup_kWh  SpareCap_Hrs  Effective%   \nRowIndex                                                                     \n0                    1199.00            951.7032        172.41    0.094958  \\\n1                    2986.53           2540.1384        460.17    0.132952   \n2                    3183.64           2411.1360        436.80    0.141746   \n3                    3001.54           1854.0576        335.88    0.190837   \n4                    3138.13           2275.5096        412.23    0.154015   \n\n          Occupancy_kwh%  PC6_WeekIndex  \nRowIndex                                 \n0               0.281625        1011AB1  \n1               0.262548        1011AB2  \n2               0.350000        1011AB3  \n3               0.500179        1011AB4  \n4               0.386562        1011AB5  \n\n[5 rows x 115 columns]",
      "text/html": "<div>\n<style scoped>\n    .dataframe tbody tr th:only-of-type {\n        vertical-align: middle;\n    }\n\n    .dataframe tbody tr th {\n        vertical-align: top;\n    }\n\n    .dataframe thead th {\n        text-align: right;\n    }\n</style>\n<table border=\"1\" class=\"dataframe\">\n  <thead>\n    <tr style=\"text-align: right;\">\n      <th></th>\n      <th>PC6</th>\n      <th>Date</th>\n      <th>WeekIndex</th>\n      <th>MaxPower</th>\n      <th>kWh</th>\n      <th>Blocked_kWh</th>\n      <th>number_of_chargers</th>\n      <th>Engie</th>\n      <th>Ecotap</th>\n      <th>Pitpoint</th>\n      <th>...</th>\n      <th>ConnectionTimeHours</th>\n      <th>power</th>\n      <th>effective_charging_hrs</th>\n      <th>MaxOccupancy</th>\n      <th>SpareCap_Effective</th>\n      <th>SpareCap_Occup_kWh</th>\n      <th>SpareCap_Hrs</th>\n      <th>Effective%</th>\n      <th>Occupancy_kwh%</th>\n      <th>PC6_WeekIndex</th>\n    </tr>\n    <tr>\n      <th>RowIndex</th>\n      <th></th>\n      <th></th>\n      <th></th>\n      <th></th>\n      <th></th>\n      <th></th>\n      <th></th>\n      <th></th>\n      <th></th>\n      <th></th>\n      <th></th>\n      <th></th>\n      <th></th>\n      <th></th>\n      <th></th>\n      <th></th>\n      <th></th>\n      <th></th>\n      <th></th>\n      <th></th>\n      <th></th>\n    </tr>\n  </thead>\n  <tbody>\n    <tr>\n      <th>0</th>\n      <td>1011AB</td>\n      <td>2022-01-03</td>\n      <td>1</td>\n      <td>1324.80</td>\n      <td>125.80</td>\n      <td>373.0968</td>\n      <td>5.0</td>\n      <td>0.0</td>\n      <td>0.0</td>\n      <td>0.0</td>\n      <td>...</td>\n      <td>67.59</td>\n      <td>5.52</td>\n      <td>22.789855</td>\n      <td>240.0</td>\n      <td>1199.00</td>\n      <td>951.7032</td>\n      <td>172.41</td>\n      <td>0.094958</td>\n      <td>0.281625</td>\n      <td>1011AB1</td>\n    </tr>\n    <tr>\n      <th>1</th>\n      <td>1011AB</td>\n      <td>2022-01-10</td>\n      <td>2</td>\n      <td>3444.48</td>\n      <td>457.95</td>\n      <td>904.3416</td>\n      <td>13.0</td>\n      <td>0.0</td>\n      <td>0.0</td>\n      <td>0.0</td>\n      <td>...</td>\n      <td>163.83</td>\n      <td>5.52</td>\n      <td>82.961957</td>\n      <td>624.0</td>\n      <td>2986.53</td>\n      <td>2540.1384</td>\n      <td>460.17</td>\n      <td>0.132952</td>\n      <td>0.262548</td>\n      <td>1011AB2</td>\n    </tr>\n    <tr>\n      <th>2</th>\n      <td>1011AB</td>\n      <td>2022-01-17</td>\n      <td>3</td>\n      <td>3709.44</td>\n      <td>525.80</td>\n      <td>1298.3040</td>\n      <td>14.0</td>\n      <td>0.0</td>\n      <td>0.0</td>\n      <td>0.0</td>\n      <td>...</td>\n      <td>235.20</td>\n      <td>5.52</td>\n      <td>95.253623</td>\n      <td>672.0</td>\n      <td>3183.64</td>\n      <td>2411.1360</td>\n      <td>436.80</td>\n      <td>0.141746</td>\n      <td>0.350000</td>\n      <td>1011AB3</td>\n    </tr>\n    <tr>\n      <th>3</th>\n      <td>1011AB</td>\n      <td>2022-01-24</td>\n      <td>4</td>\n      <td>3709.44</td>\n      <td>707.90</td>\n      <td>1855.3824</td>\n      <td>14.0</td>\n      <td>0.0</td>\n      <td>0.0</td>\n      <td>0.0</td>\n      <td>...</td>\n      <td>336.12</td>\n      <td>5.52</td>\n      <td>128.242754</td>\n      <td>672.0</td>\n      <td>3001.54</td>\n      <td>1854.0576</td>\n      <td>335.88</td>\n      <td>0.190837</td>\n      <td>0.500179</td>\n      <td>1011AB4</td>\n    </tr>\n    <tr>\n      <th>4</th>\n      <td>1011AB</td>\n      <td>2022-01-31</td>\n      <td>5</td>\n      <td>3709.44</td>\n      <td>571.31</td>\n      <td>1433.9304</td>\n      <td>14.0</td>\n      <td>0.0</td>\n      <td>0.0</td>\n      <td>0.0</td>\n      <td>...</td>\n      <td>259.77</td>\n      <td>5.52</td>\n      <td>103.498188</td>\n      <td>672.0</td>\n      <td>3138.13</td>\n      <td>2275.5096</td>\n      <td>412.23</td>\n      <td>0.154015</td>\n      <td>0.386562</td>\n      <td>1011AB5</td>\n    </tr>\n  </tbody>\n</table>\n<p>5 rows × 115 columns</p>\n</div>"
     },
     "execution_count": 17,
     "metadata": {},
     "output_type": "execute_result"
    }
   ],
   "source": [
    "# keep only first 10000 rows for testing purposes\n",
    "df = df.head(10000)\n",
    "\n",
    "# inspect data\n",
    "df.head()"
   ],
   "metadata": {
    "collapsed": false
   }
  },
  {
   "cell_type": "code",
   "execution_count": 18,
   "outputs": [],
   "source": [
    "# save to new csv file named original name + _cleaned\n",
    "df.to_csv(filename.split('.')[0] + '_cleaned.csv', index=False)"
   ],
   "metadata": {
    "collapsed": false
   }
  }
 ],
 "metadata": {
  "kernelspec": {
   "display_name": "Python 3",
   "language": "python",
   "name": "python3"
  },
  "language_info": {
   "codemirror_mode": {
    "name": "ipython",
    "version": 2
   },
   "file_extension": ".py",
   "mimetype": "text/x-python",
   "name": "python",
   "nbconvert_exporter": "python",
   "pygments_lexer": "ipython2",
   "version": "2.7.6"
  }
 },
 "nbformat": 4,
 "nbformat_minor": 0
}
