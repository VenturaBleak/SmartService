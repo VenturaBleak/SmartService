{
 "cells": [
  {
   "cell_type": "code",
   "execution_count": 1,
   "metadata": {
    "collapsed": true
   },
   "outputs": [],
   "source": [
    "# import libraries\n",
    "import pandas as pd"
   ]
  },
  {
   "cell_type": "code",
   "execution_count": 2,
   "outputs": [
    {
     "data": {
      "text/plain": "         Unnamed: 0.1  Unnamed: 0  index     PC6        Date District   \n0                   0           0      1  1011AB  2022-01-03  Centrum  \\\n1                   1          66      1  1011AC  2022-01-03     Zuid   \n2                   2         132      1  1011AD  2022-01-03     Zuid   \n3                   3         198      1  1011AE  2022-01-03     Zuid   \n4                   4         264      1  1011AG  2022-01-03     Zuid   \n...               ...         ...    ...     ...         ...      ...   \n1219807       1219807     1219547     66  1109CB  2023-04-03     Zuid   \n1219808       1219808     1219613     66  1109CD  2023-04-03     Zuid   \n1219809       1219809     1219679     66  1109CE  2023-04-03     Zuid   \n1219810       1219810     1219745     66  1109CH  2023-04-03     Zuid   \n1219811       1219811     1219811     66  1109CJ  2023-04-03     Zuid   \n\n         ConnectionTimeHours    kWh  power  effective_charging_hrs  ...   \n0                      67.59  125.8   5.52               22.789855  ...  \\\n1                       0.00    0.0   5.52                0.000000  ...   \n2                       0.00    0.0   5.52                0.000000  ...   \n3                       0.00    0.0   5.52                0.000000  ...   \n4                       0.00    0.0   5.52                0.000000  ...   \n...                      ...    ...    ...                     ...  ...   \n1219807                 0.00    0.0   5.52                0.000000  ...   \n1219808                 0.00    0.0   5.52                0.000000  ...   \n1219809                 0.00    0.0   5.52                0.000000  ...   \n1219810                 0.00    0.0   5.52                0.000000  ...   \n1219811                 0.00    0.0   5.52                0.000000  ...   \n\n         2019.0_household  2019.0_income_1_to_40_percent   \n0                  6200.0                           45.0  \\\n1                  6200.0                           45.0   \n2                  6200.0                           45.0   \n3                  6200.0                           45.0   \n4                  6200.0                           45.0   \n...                   ...                            ...   \n1219807             700.0                           34.3   \n1219808             700.0                           34.3   \n1219809             700.0                           34.3   \n1219810             700.0                           34.3   \n1219811             700.0                           34.3   \n\n         2019.0_income_41_to_80_percent  2019.0_income_81_to_100_percent   \n0                                  28.0                             27.1  \\\n1                                  28.0                             27.1   \n2                                  28.0                             27.1   \n3                                  28.0                             27.1   \n4                                  28.0                             27.1   \n...                                 ...                              ...   \n1219807                            40.7                             25.0   \n1219808                            40.7                             25.0   \n1219809                            40.7                             25.0   \n1219810                            40.7                             25.0   \n1219811                            40.7                             25.0   \n\n         2019.0_income_average  2019.0_assets_1_to_40_percent   \n0                         49.3                           50.8  \\\n1                         49.3                           50.8   \n2                         49.3                           50.8   \n3                         49.3                           50.8   \n4                         49.3                           50.8   \n...                        ...                            ...   \n1219807                   55.7                           34.6   \n1219808                   55.7                           34.6   \n1219809                   55.7                           34.6   \n1219810                   55.7                           34.6   \n1219811                   55.7                           34.6   \n\n         2019.0_assets_41_to_80_percent  2019.0_assets_81_to_100_percent   \n0                                  23.0                             26.2  \\\n1                                  23.0                             26.2   \n2                                  23.0                             26.2   \n3                                  23.0                             26.2   \n4                                  23.0                             26.2   \n...                                 ...                              ...   \n1219807                            40.7                             24.7   \n1219808                            40.7                             24.7   \n1219809                            40.7                             24.7   \n1219810                            40.7                             24.7   \n1219811                            40.7                             24.7   \n\n         2019.0_assets_average  2019.0_Gemiddelde SES WOA totaalscore  \n0                         47.6                                  0.034  \n1                         47.6                                  0.034  \n2                         47.6                                  0.034  \n3                         47.6                                  0.034  \n4                         47.6                                  0.034  \n...                        ...                                    ...  \n1219807                   54.9                                  0.157  \n1219808                   54.9                                  0.157  \n1219809                   54.9                                  0.157  \n1219810                   54.9                                  0.157  \n1219811                   54.9                                  0.157  \n\n[1219812 rows x 105 columns]",
      "text/html": "<div>\n<style scoped>\n    .dataframe tbody tr th:only-of-type {\n        vertical-align: middle;\n    }\n\n    .dataframe tbody tr th {\n        vertical-align: top;\n    }\n\n    .dataframe thead th {\n        text-align: right;\n    }\n</style>\n<table border=\"1\" class=\"dataframe\">\n  <thead>\n    <tr style=\"text-align: right;\">\n      <th></th>\n      <th>Unnamed: 0.1</th>\n      <th>Unnamed: 0</th>\n      <th>index</th>\n      <th>PC6</th>\n      <th>Date</th>\n      <th>District</th>\n      <th>ConnectionTimeHours</th>\n      <th>kWh</th>\n      <th>power</th>\n      <th>effective_charging_hrs</th>\n      <th>...</th>\n      <th>2019.0_household</th>\n      <th>2019.0_income_1_to_40_percent</th>\n      <th>2019.0_income_41_to_80_percent</th>\n      <th>2019.0_income_81_to_100_percent</th>\n      <th>2019.0_income_average</th>\n      <th>2019.0_assets_1_to_40_percent</th>\n      <th>2019.0_assets_41_to_80_percent</th>\n      <th>2019.0_assets_81_to_100_percent</th>\n      <th>2019.0_assets_average</th>\n      <th>2019.0_Gemiddelde SES WOA totaalscore</th>\n    </tr>\n  </thead>\n  <tbody>\n    <tr>\n      <th>0</th>\n      <td>0</td>\n      <td>0</td>\n      <td>1</td>\n      <td>1011AB</td>\n      <td>2022-01-03</td>\n      <td>Centrum</td>\n      <td>67.59</td>\n      <td>125.8</td>\n      <td>5.52</td>\n      <td>22.789855</td>\n      <td>...</td>\n      <td>6200.0</td>\n      <td>45.0</td>\n      <td>28.0</td>\n      <td>27.1</td>\n      <td>49.3</td>\n      <td>50.8</td>\n      <td>23.0</td>\n      <td>26.2</td>\n      <td>47.6</td>\n      <td>0.034</td>\n    </tr>\n    <tr>\n      <th>1</th>\n      <td>1</td>\n      <td>66</td>\n      <td>1</td>\n      <td>1011AC</td>\n      <td>2022-01-03</td>\n      <td>Zuid</td>\n      <td>0.00</td>\n      <td>0.0</td>\n      <td>5.52</td>\n      <td>0.000000</td>\n      <td>...</td>\n      <td>6200.0</td>\n      <td>45.0</td>\n      <td>28.0</td>\n      <td>27.1</td>\n      <td>49.3</td>\n      <td>50.8</td>\n      <td>23.0</td>\n      <td>26.2</td>\n      <td>47.6</td>\n      <td>0.034</td>\n    </tr>\n    <tr>\n      <th>2</th>\n      <td>2</td>\n      <td>132</td>\n      <td>1</td>\n      <td>1011AD</td>\n      <td>2022-01-03</td>\n      <td>Zuid</td>\n      <td>0.00</td>\n      <td>0.0</td>\n      <td>5.52</td>\n      <td>0.000000</td>\n      <td>...</td>\n      <td>6200.0</td>\n      <td>45.0</td>\n      <td>28.0</td>\n      <td>27.1</td>\n      <td>49.3</td>\n      <td>50.8</td>\n      <td>23.0</td>\n      <td>26.2</td>\n      <td>47.6</td>\n      <td>0.034</td>\n    </tr>\n    <tr>\n      <th>3</th>\n      <td>3</td>\n      <td>198</td>\n      <td>1</td>\n      <td>1011AE</td>\n      <td>2022-01-03</td>\n      <td>Zuid</td>\n      <td>0.00</td>\n      <td>0.0</td>\n      <td>5.52</td>\n      <td>0.000000</td>\n      <td>...</td>\n      <td>6200.0</td>\n      <td>45.0</td>\n      <td>28.0</td>\n      <td>27.1</td>\n      <td>49.3</td>\n      <td>50.8</td>\n      <td>23.0</td>\n      <td>26.2</td>\n      <td>47.6</td>\n      <td>0.034</td>\n    </tr>\n    <tr>\n      <th>4</th>\n      <td>4</td>\n      <td>264</td>\n      <td>1</td>\n      <td>1011AG</td>\n      <td>2022-01-03</td>\n      <td>Zuid</td>\n      <td>0.00</td>\n      <td>0.0</td>\n      <td>5.52</td>\n      <td>0.000000</td>\n      <td>...</td>\n      <td>6200.0</td>\n      <td>45.0</td>\n      <td>28.0</td>\n      <td>27.1</td>\n      <td>49.3</td>\n      <td>50.8</td>\n      <td>23.0</td>\n      <td>26.2</td>\n      <td>47.6</td>\n      <td>0.034</td>\n    </tr>\n    <tr>\n      <th>...</th>\n      <td>...</td>\n      <td>...</td>\n      <td>...</td>\n      <td>...</td>\n      <td>...</td>\n      <td>...</td>\n      <td>...</td>\n      <td>...</td>\n      <td>...</td>\n      <td>...</td>\n      <td>...</td>\n      <td>...</td>\n      <td>...</td>\n      <td>...</td>\n      <td>...</td>\n      <td>...</td>\n      <td>...</td>\n      <td>...</td>\n      <td>...</td>\n      <td>...</td>\n      <td>...</td>\n    </tr>\n    <tr>\n      <th>1219807</th>\n      <td>1219807</td>\n      <td>1219547</td>\n      <td>66</td>\n      <td>1109CB</td>\n      <td>2023-04-03</td>\n      <td>Zuid</td>\n      <td>0.00</td>\n      <td>0.0</td>\n      <td>5.52</td>\n      <td>0.000000</td>\n      <td>...</td>\n      <td>700.0</td>\n      <td>34.3</td>\n      <td>40.7</td>\n      <td>25.0</td>\n      <td>55.7</td>\n      <td>34.6</td>\n      <td>40.7</td>\n      <td>24.7</td>\n      <td>54.9</td>\n      <td>0.157</td>\n    </tr>\n    <tr>\n      <th>1219808</th>\n      <td>1219808</td>\n      <td>1219613</td>\n      <td>66</td>\n      <td>1109CD</td>\n      <td>2023-04-03</td>\n      <td>Zuid</td>\n      <td>0.00</td>\n      <td>0.0</td>\n      <td>5.52</td>\n      <td>0.000000</td>\n      <td>...</td>\n      <td>700.0</td>\n      <td>34.3</td>\n      <td>40.7</td>\n      <td>25.0</td>\n      <td>55.7</td>\n      <td>34.6</td>\n      <td>40.7</td>\n      <td>24.7</td>\n      <td>54.9</td>\n      <td>0.157</td>\n    </tr>\n    <tr>\n      <th>1219809</th>\n      <td>1219809</td>\n      <td>1219679</td>\n      <td>66</td>\n      <td>1109CE</td>\n      <td>2023-04-03</td>\n      <td>Zuid</td>\n      <td>0.00</td>\n      <td>0.0</td>\n      <td>5.52</td>\n      <td>0.000000</td>\n      <td>...</td>\n      <td>700.0</td>\n      <td>34.3</td>\n      <td>40.7</td>\n      <td>25.0</td>\n      <td>55.7</td>\n      <td>34.6</td>\n      <td>40.7</td>\n      <td>24.7</td>\n      <td>54.9</td>\n      <td>0.157</td>\n    </tr>\n    <tr>\n      <th>1219810</th>\n      <td>1219810</td>\n      <td>1219745</td>\n      <td>66</td>\n      <td>1109CH</td>\n      <td>2023-04-03</td>\n      <td>Zuid</td>\n      <td>0.00</td>\n      <td>0.0</td>\n      <td>5.52</td>\n      <td>0.000000</td>\n      <td>...</td>\n      <td>700.0</td>\n      <td>34.3</td>\n      <td>40.7</td>\n      <td>25.0</td>\n      <td>55.7</td>\n      <td>34.6</td>\n      <td>40.7</td>\n      <td>24.7</td>\n      <td>54.9</td>\n      <td>0.157</td>\n    </tr>\n    <tr>\n      <th>1219811</th>\n      <td>1219811</td>\n      <td>1219811</td>\n      <td>66</td>\n      <td>1109CJ</td>\n      <td>2023-04-03</td>\n      <td>Zuid</td>\n      <td>0.00</td>\n      <td>0.0</td>\n      <td>5.52</td>\n      <td>0.000000</td>\n      <td>...</td>\n      <td>700.0</td>\n      <td>34.3</td>\n      <td>40.7</td>\n      <td>25.0</td>\n      <td>55.7</td>\n      <td>34.6</td>\n      <td>40.7</td>\n      <td>24.7</td>\n      <td>54.9</td>\n      <td>0.157</td>\n    </tr>\n  </tbody>\n</table>\n<p>1219812 rows × 105 columns</p>\n</div>"
     },
     "execution_count": 2,
     "metadata": {},
     "output_type": "execute_result"
    }
   ],
   "source": [
    "# specify name of csv file\n",
    "filename = 'final_data_SE.csv'\n",
    "\n",
    "# open csv file\n",
    "df = pd.read_csv(filename)\n",
    "\n",
    "df"
   ],
   "metadata": {
    "collapsed": false
   }
  },
  {
   "cell_type": "code",
   "execution_count": null,
   "outputs": [],
   "source": [
    "# print first 5 rows\n",
    "df.rename(columns={df.columns[0]: 'index_to_drop', df.columns[1]: 'RowIndex', df.columns[2]: 'WeekIndex'},inplace=True)\n",
    "\n",
    "# remove \"index\" column, since this is not the correct index\n",
    "df.drop(columns=[\"index_to_drop\"], inplace=True)"
   ],
   "metadata": {
    "collapsed": false,
    "pycharm": {
     "is_executing": true
    }
   }
  },
  {
   "cell_type": "code",
   "execution_count": null,
   "outputs": [],
   "source": [
    "# unit test that each row has a unique index\n",
    "assert df['RowIndex'].nunique() == len(df.index)\n",
    "\n",
    "# convert 'RowIndex' column to integer\n",
    "df['RowIndex'] = df['RowIndex'].astype(int)\n",
    "\n",
    "# set the 'RowIndex' column to index\n",
    "df = df.set_index(\"RowIndex\")"
   ],
   "metadata": {
    "collapsed": false,
    "pycharm": {
     "is_executing": true
    }
   }
  },
  {
   "cell_type": "code",
   "execution_count": null,
   "outputs": [],
   "source": [
    "# cut district column and insert as last column\n",
    "df['District'] = df['District'].str[0:2]\n",
    "\n",
    "# count unique categories in District column -> 11\n",
    "print(df[\"District\"].nunique())\n",
    "\n",
    "# encode categorical variable \"District\" with binary encoding\n",
    "# documentation: https://contrib.scikit-learn.org/category_encoders/binary.html\n",
    "from category_encoders.binary import BinaryEncoder\n",
    "encoder = BinaryEncoder(cols=['District'])\n",
    "encoder.fit(df)\n",
    "df = encoder.transform(df)"
   ],
   "metadata": {
    "collapsed": false,
    "pycharm": {
     "is_executing": true
    }
   }
  },
  {
   "cell_type": "code",
   "execution_count": null,
   "outputs": [],
   "source": [
    "# count unique categories in ZipCode \"PC6\" column\n",
    "print(df[\"PC6\"].nunique())\n",
    "\n",
    "# retrieve PC4 from PC6, that is the first 4 digits of the 6 digit zip code\n",
    "df[\"PC4\"] = df[\"PC6\"].astype(str).str[:4]\n",
    "print(df[\"PC4\"].nunique())\n",
    "\n",
    "# encode categorical variable \"PC4\" with binary encoding\n",
    "encoder = BinaryEncoder(cols=['PC4'])\n",
    "encoder.fit(df)\n",
    "df = encoder.transform(df)"
   ],
   "metadata": {
    "collapsed": false,
    "pycharm": {
     "is_executing": true
    }
   }
  },
  {
   "cell_type": "code",
   "execution_count": null,
   "outputs": [],
   "source": [
    "df"
   ],
   "metadata": {
    "collapsed": false,
    "pycharm": {
     "is_executing": true
    }
   }
  },
  {
   "cell_type": "code",
   "execution_count": null,
   "outputs": [],
   "source": [
    "# all columns (including provider columns) that are not in the above lists are unknown variables\n",
    "providers = [\"Total\", \"Vattenfall\", \"Allego\", \"Equans\", \"EvBox\", \"Nuon\", \"WDS\", \"Pitpoint\", \"Ecotap\", \"Engie\"]\n",
    "\n",
    "# create a new column called \"number of chargers\" which is the sum of the values of the columns which names are stored in the providers list\n",
    "df['number_of_chargers'] = df[providers].sum(axis=1)\n",
    "\n",
    "providers.append(\"number_of_chargers\")\n",
    "\n",
    "# reverse list\n",
    "providers = providers[::-1]"
   ],
   "metadata": {
    "collapsed": false,
    "pycharm": {
     "is_executing": true
    }
   }
  },
  {
   "cell_type": "code",
   "execution_count": null,
   "outputs": [],
   "source": [
    "# split columns into several groups: identifiers, target variables, know_variables, unknown_variables, purely_descriptive_variables\n",
    "\n",
    "# reorder columns in the following order:\n",
    "identifiers = [\"PC6\", \"Date\"]\n",
    "know_variables = [\"WeekIndex\", \"MaxPower\"]\n",
    "target_variables = [\"kWh\", \"Blocked_kWh\"]\n",
    "\n",
    "purely_descriptive_variables = [\"ChargeSocket_ID_count\", \"ConnectionTimeHours\", \"power\", \"effective_charging_hrs\", \"MaxOccupancy\", \"SpareCap_Effective\", \"SpareCap_Occup_kWh\", \"SpareCap_Hrs\", \"Effective%\", \"Occupancy_kwh%\"]\n",
    "\n",
    "\n",
    "unknown_variables = [col for col in df.columns if col not in identifiers + target_variables + know_variables + providers+ purely_descriptive_variables]\n",
    "unknown_variables = providers + unknown_variables\n",
    "\n",
    "print(len(identifiers + target_variables + know_variables + purely_descriptive_variables + unknown_variables))"
   ],
   "metadata": {
    "collapsed": false,
    "pycharm": {
     "is_executing": true
    }
   }
  },
  {
   "cell_type": "code",
   "execution_count": null,
   "outputs": [],
   "source": [
    "# sort df columns in the following order: identifiers, target variables, know_variables, unknown_variables, purely_descriptive_variables\n",
    "df = df[identifiers + know_variables + target_variables + unknown_variables + purely_descriptive_variables]"
   ],
   "metadata": {
    "collapsed": false,
    "pycharm": {
     "is_executing": true
    }
   }
  },
  {
   "cell_type": "code",
   "execution_count": null,
   "outputs": [],
   "source": [
    "# inspect df without the purely_descriptive_variables\n",
    "df[identifiers + know_variables + target_variables + unknown_variables]"
   ],
   "metadata": {
    "collapsed": false,
    "pycharm": {
     "is_executing": true
    }
   }
  },
  {
   "cell_type": "code",
   "execution_count": null,
   "outputs": [],
   "source": [
    "# check missing values: show only columns where missing values >0 and their count per column\n",
    "print(df.isna().sum()[df.isna().sum() > 0])"
   ],
   "metadata": {
    "collapsed": false,
    "pycharm": {
     "is_executing": true
    }
   }
  },
  {
   "cell_type": "code",
   "execution_count": null,
   "outputs": [],
   "source": [
    "# sort df by date column\n",
    "df['Date'] = pd.to_datetime(df['Date'])\n",
    "df = df.sort_values(by=['PC6', 'Date'])"
   ],
   "metadata": {
    "collapsed": false,
    "pycharm": {
     "is_executing": true
    }
   }
  },
  {
   "cell_type": "code",
   "execution_count": null,
   "outputs": [],
   "source": [
    "df"
   ],
   "metadata": {
    "collapsed": false,
    "pycharm": {
     "is_executing": true
    }
   }
  },
  {
   "cell_type": "code",
   "execution_count": null,
   "outputs": [],
   "source": [
    "# count number of remaining rows\n",
    "print(df.shape)"
   ],
   "metadata": {
    "collapsed": false,
    "pycharm": {
     "is_executing": true
    }
   }
  },
  {
   "cell_type": "code",
   "execution_count": null,
   "outputs": [],
   "source": [
    "# load cleaned data\n",
    "# df = pd.read_csv(filename.split('.')[0] + '_cleaned.csv')\n",
    "\n",
    "# create new column as concatenation of PC6 and WeekIndex columns\n",
    "df['PC6_WeekIndex'] = df['PC6'].astype(str) + df['WeekIndex'].astype(str)\n",
    "\n",
    "# move this column to the first position\n",
    "cols = df.columns.tolist()\n",
    "cols = cols[-1:] + cols[:-1]\n",
    "\n",
    "# keep only first 10000 rows for testing purposes\n",
    "df = df.head(10000)\n",
    "\n",
    "# inspect data\n",
    "df.head()"
   ],
   "metadata": {
    "collapsed": false,
    "pycharm": {
     "is_executing": true
    }
   }
  },
  {
   "cell_type": "code",
   "execution_count": null,
   "outputs": [],
   "source": [
    "# save to new csv file named original name + _cleaned\n",
    "df.to_csv(filename.split('.')[0] + '_cleaned.csv', index=False)"
   ],
   "metadata": {
    "collapsed": false,
    "pycharm": {
     "is_executing": true
    }
   }
  }
 ],
 "metadata": {
  "kernelspec": {
   "display_name": "Python 3",
   "language": "python",
   "name": "python3"
  },
  "language_info": {
   "codemirror_mode": {
    "name": "ipython",
    "version": 2
   },
   "file_extension": ".py",
   "mimetype": "text/x-python",
   "name": "python",
   "nbconvert_exporter": "python",
   "pygments_lexer": "ipython2",
   "version": "2.7.6"
  }
 },
 "nbformat": 4,
 "nbformat_minor": 0
}
