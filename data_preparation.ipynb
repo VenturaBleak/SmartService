{
 "cells": [
  {
   "cell_type": "code",
   "execution_count": 26,
   "metadata": {
    "collapsed": true
   },
   "outputs": [],
   "source": [
    "# import libraries\n",
    "import pandas as pd"
   ]
  },
  {
   "cell_type": "code",
   "execution_count": 27,
   "outputs": [],
   "source": [
    "# specify name of csv file\n",
    "filename = 'data_charger_energy_EVs.csv'"
   ],
   "metadata": {
    "collapsed": false
   }
  },
  {
   "cell_type": "code",
   "execution_count": 28,
   "outputs": [
    {
     "name": "stdout",
     "output_type": "stream",
     "text": [
      "      PC6  number_of_charger  total_capacity  electricity_household   \n",
      "0  1003AE                1.0            22.0                    NaN  \\\n",
      "1  1011AB                2.0            22.0                    0.0   \n",
      "2  1011AC                1.0            11.0                 2880.0   \n",
      "3  1011BG                1.0            22.0                    0.0   \n",
      "4  1011CA                1.0            11.0                 1850.0   \n",
      "\n",
      "   electricity_company  December 2017_EV  December 2018_EV  December 2019_EV   \n",
      "0                  NaN               NaN               NaN               NaN  \\\n",
      "1              62110.0              56.0              78.0             136.0   \n",
      "2              68890.0              56.0              78.0             136.0   \n",
      "3               3930.0              56.0              78.0             136.0   \n",
      "4                  0.0              56.0              78.0             136.0   \n",
      "\n",
      "   December 2020_EV  December 2021_EV  December 2022_EV  December 2017_hybrid   \n",
      "0               NaN               NaN               NaN                   NaN  \\\n",
      "1             198.0             296.0             367.0                  43.0   \n",
      "2             198.0             296.0             367.0                  43.0   \n",
      "3             198.0             296.0             367.0                  43.0   \n",
      "4             198.0             296.0             367.0                  43.0   \n",
      "\n",
      "   December 2018_hybrid  December 2019_hybrid  December 2020_hybrid   \n",
      "0                   NaN                   NaN                   NaN  \\\n",
      "1                  39.0                  49.0                  36.0   \n",
      "2                  39.0                  49.0                  36.0   \n",
      "3                  39.0                  49.0                  36.0   \n",
      "4                  39.0                  49.0                  36.0   \n",
      "\n",
      "   December 2021_hybrid  December 2022_hybrid  \n",
      "0                   NaN                   NaN  \n",
      "1                  69.0                 187.0  \n",
      "2                  69.0                 187.0  \n",
      "3                  69.0                 187.0  \n",
      "4                  69.0                 187.0  \n"
     ]
    }
   ],
   "source": [
    "# open csv file\n",
    "df = pd.read_csv(filename)\n",
    "\n",
    "# print first 5 rows\n",
    "print(df.head())"
   ],
   "metadata": {
    "collapsed": false
   }
  },
  {
   "cell_type": "code",
   "execution_count": 29,
   "outputs": [
    {
     "name": "stdout",
     "output_type": "stream",
     "text": [
      "PC6                          0\n",
      "number_of_charger        16316\n",
      "total_capacity           16316\n",
      "electricity_household       26\n",
      "electricity_company         26\n",
      "December 2017_EV           697\n",
      "December 2018_EV           697\n",
      "December 2019_EV           697\n",
      "December 2020_EV           697\n",
      "December 2021_EV           697\n",
      "December 2022_EV           697\n",
      "December 2017_hybrid       697\n",
      "December 2018_hybrid       697\n",
      "December 2019_hybrid       697\n",
      "December 2020_hybrid       697\n",
      "December 2021_hybrid       697\n",
      "December 2022_hybrid       697\n",
      "dtype: int64\n"
     ]
    }
   ],
   "source": [
    "# count rows with NA values\n",
    "print(df.isna().sum())"
   ],
   "metadata": {
    "collapsed": false
   }
  },
  {
   "cell_type": "code",
   "execution_count": 30,
   "outputs": [
    {
     "name": "stdout",
     "output_type": "stream",
     "text": [
      "PC6                       0\n",
      "number_of_charger         0\n",
      "total_capacity            0\n",
      "electricity_household    26\n",
      "electricity_company      26\n",
      "December 2017_EV          4\n",
      "December 2018_EV          4\n",
      "December 2019_EV          4\n",
      "December 2020_EV          4\n",
      "December 2021_EV          4\n",
      "December 2022_EV          4\n",
      "December 2017_hybrid      4\n",
      "December 2018_hybrid      4\n",
      "December 2019_hybrid      4\n",
      "December 2020_hybrid      4\n",
      "December 2021_hybrid      4\n",
      "December 2022_hybrid      4\n",
      "dtype: int64\n"
     ]
    }
   ],
   "source": [
    "# drop rows with NA values in target variables, i.e. column [1] and [2]\n",
    "df = df.dropna(subset=[df.columns[1], df.columns[2]])\n",
    "# count rows with NA values\n",
    "print(df.isna().sum())"
   ],
   "metadata": {
    "collapsed": false
   }
  },
  {
   "cell_type": "code",
   "execution_count": 31,
   "outputs": [
    {
     "name": "stdout",
     "output_type": "stream",
     "text": [
      "PC6                      0\n",
      "number_of_charger        0\n",
      "total_capacity           0\n",
      "electricity_household    0\n",
      "electricity_company      0\n",
      "December 2017_EV         0\n",
      "December 2018_EV         0\n",
      "December 2019_EV         0\n",
      "December 2020_EV         0\n",
      "December 2021_EV         0\n",
      "December 2022_EV         0\n",
      "December 2017_hybrid     0\n",
      "December 2018_hybrid     0\n",
      "December 2019_hybrid     0\n",
      "December 2020_hybrid     0\n",
      "December 2021_hybrid     0\n",
      "December 2022_hybrid     0\n",
      "dtype: int64\n"
     ]
    }
   ],
   "source": [
    "# drop remaining rows with NA values\n",
    "df = df.dropna()\n",
    "# count rows with NA values\n",
    "print(df.isna().sum())"
   ],
   "metadata": {
    "collapsed": false
   }
  },
  {
   "cell_type": "code",
   "execution_count": 32,
   "outputs": [
    {
     "name": "stdout",
     "output_type": "stream",
     "text": [
      "(2666, 17)\n"
     ]
    }
   ],
   "source": [
    "# count number of remaining rows\n",
    "print(df.shape)"
   ],
   "metadata": {
    "collapsed": false
   }
  },
  {
   "cell_type": "code",
   "execution_count": 33,
   "outputs": [],
   "source": [
    "# save to new csv file named original name + _cleaned\n",
    "df.to_csv(filename.split('.')[0] + '_cleaned.csv', index=False)"
   ],
   "metadata": {
    "collapsed": false
   }
  },
  {
   "cell_type": "code",
   "execution_count": 34,
   "outputs": [
    {
     "name": "stdout",
     "output_type": "stream",
     "text": [
      "      PC6  number_of_charger  total_capacity  electricity_household   \n",
      "0  1011AB                2.0            22.0                    0.0  \\\n",
      "1  1011AC                1.0            11.0                 2880.0   \n",
      "2  1011BG                1.0            22.0                    0.0   \n",
      "3  1011CA                1.0            11.0                 1850.0   \n",
      "4  1011EG                1.0            11.0                 1820.0   \n",
      "\n",
      "   electricity_company  December 2017_EV  December 2018_EV  December 2019_EV   \n",
      "0              62110.0              56.0              78.0             136.0  \\\n",
      "1              68890.0              56.0              78.0             136.0   \n",
      "2               3930.0              56.0              78.0             136.0   \n",
      "3                  0.0              56.0              78.0             136.0   \n",
      "4                  0.0              56.0              78.0             136.0   \n",
      "\n",
      "   December 2020_EV  December 2021_EV  December 2022_EV  December 2017_hybrid   \n",
      "0             198.0             296.0             367.0                  43.0  \\\n",
      "1             198.0             296.0             367.0                  43.0   \n",
      "2             198.0             296.0             367.0                  43.0   \n",
      "3             198.0             296.0             367.0                  43.0   \n",
      "4             198.0             296.0             367.0                  43.0   \n",
      "\n",
      "   December 2018_hybrid  December 2019_hybrid  December 2020_hybrid   \n",
      "0                  39.0                  49.0                  36.0  \\\n",
      "1                  39.0                  49.0                  36.0   \n",
      "2                  39.0                  49.0                  36.0   \n",
      "3                  39.0                  49.0                  36.0   \n",
      "4                  39.0                  49.0                  36.0   \n",
      "\n",
      "   December 2021_hybrid  December 2022_hybrid  \n",
      "0                  69.0                 187.0  \n",
      "1                  69.0                 187.0  \n",
      "2                  69.0                 187.0  \n",
      "3                  69.0                 187.0  \n",
      "4                  69.0                 187.0  \n"
     ]
    }
   ],
   "source": [
    "# load cleaned data\n",
    "df = pd.read_csv(filename.split('.')[0] + '_cleaned.csv')\n",
    "\n",
    "# inspect data\n",
    "print(df.head())"
   ],
   "metadata": {
    "collapsed": false
   }
  }
 ],
 "metadata": {
  "kernelspec": {
   "display_name": "Python 3",
   "language": "python",
   "name": "python3"
  },
  "language_info": {
   "codemirror_mode": {
    "name": "ipython",
    "version": 2
   },
   "file_extension": ".py",
   "mimetype": "text/x-python",
   "name": "python",
   "nbconvert_exporter": "python",
   "pygments_lexer": "ipython2",
   "version": "2.7.6"
  }
 },
 "nbformat": 4,
 "nbformat_minor": 0
}
