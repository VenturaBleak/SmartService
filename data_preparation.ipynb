{
 "cells": [
  {
   "cell_type": "code",
   "execution_count": 1,
   "metadata": {
    "collapsed": true
   },
   "outputs": [],
   "source": [
    "# import libraries\n",
    "import pandas as pd\n",
    "import numpy as np"
   ]
  },
  {
   "cell_type": "code",
   "execution_count": 2,
   "outputs": [
    {
     "data": {
      "text/plain": "   Unnamed: 0.1  Unnamed: 0     PC6        Date District  ConnectionTimeHours   \n0             0           0  1011AB  2022-01-03  Centrum                67.59  \\\n1            66          66  1011AC  2022-01-03        0                 0.00   \n2           132       18084  1011AD  2022-01-03        0                 0.00   \n3           198       18150  1011AE  2022-01-03        0                 0.00   \n4           264         132  1011AG  2022-01-03        0                 0.00   \n\n     kWh  effective_charging_hrs  power  MaxOccupancy  ...  2019.0_household   \n0  125.8               22.789855  33.12         288.0  ...            6200.0  \\\n1    0.0                0.000000   0.00           0.0  ...            6200.0   \n2    0.0                0.000000   0.00           0.0  ...            6200.0   \n3    0.0                0.000000   0.00           0.0  ...            6200.0   \n4    0.0                0.000000   0.00           0.0  ...            6200.0   \n\n   2019.0_income_1_to_40_percent  2019.0_income_41_to_80_percent   \n0                           45.0                            28.0  \\\n1                           45.0                            28.0   \n2                           45.0                            28.0   \n3                           45.0                            28.0   \n4                           45.0                            28.0   \n\n   2019.0_income_81_to_100_percent  2019.0_income_average   \n0                             27.1                   49.3  \\\n1                             27.1                   49.3   \n2                             27.1                   49.3   \n3                             27.1                   49.3   \n4                             27.1                   49.3   \n\n   2019.0_assets_1_to_40_percent  2019.0_assets_41_to_80_percent   \n0                           50.8                            23.0  \\\n1                           50.8                            23.0   \n2                           50.8                            23.0   \n3                           50.8                            23.0   \n4                           50.8                            23.0   \n\n   2019.0_assets_81_to_100_percent  2019.0_assets_average   \n0                             26.2                   47.6  \\\n1                             26.2                   47.6   \n2                             26.2                   47.6   \n3                             26.2                   47.6   \n4                             26.2                   47.6   \n\n   2019.0_Gemiddelde SES WOA totaalscore  \n0                                  0.034  \n1                                  0.034  \n2                                  0.034  \n3                                  0.034  \n4                                  0.034  \n\n[5 rows x 106 columns]",
      "text/html": "<div>\n<style scoped>\n    .dataframe tbody tr th:only-of-type {\n        vertical-align: middle;\n    }\n\n    .dataframe tbody tr th {\n        vertical-align: top;\n    }\n\n    .dataframe thead th {\n        text-align: right;\n    }\n</style>\n<table border=\"1\" class=\"dataframe\">\n  <thead>\n    <tr style=\"text-align: right;\">\n      <th></th>\n      <th>Unnamed: 0.1</th>\n      <th>Unnamed: 0</th>\n      <th>PC6</th>\n      <th>Date</th>\n      <th>District</th>\n      <th>ConnectionTimeHours</th>\n      <th>kWh</th>\n      <th>effective_charging_hrs</th>\n      <th>power</th>\n      <th>MaxOccupancy</th>\n      <th>...</th>\n      <th>2019.0_household</th>\n      <th>2019.0_income_1_to_40_percent</th>\n      <th>2019.0_income_41_to_80_percent</th>\n      <th>2019.0_income_81_to_100_percent</th>\n      <th>2019.0_income_average</th>\n      <th>2019.0_assets_1_to_40_percent</th>\n      <th>2019.0_assets_41_to_80_percent</th>\n      <th>2019.0_assets_81_to_100_percent</th>\n      <th>2019.0_assets_average</th>\n      <th>2019.0_Gemiddelde SES WOA totaalscore</th>\n    </tr>\n  </thead>\n  <tbody>\n    <tr>\n      <th>0</th>\n      <td>0</td>\n      <td>0</td>\n      <td>1011AB</td>\n      <td>2022-01-03</td>\n      <td>Centrum</td>\n      <td>67.59</td>\n      <td>125.8</td>\n      <td>22.789855</td>\n      <td>33.12</td>\n      <td>288.0</td>\n      <td>...</td>\n      <td>6200.0</td>\n      <td>45.0</td>\n      <td>28.0</td>\n      <td>27.1</td>\n      <td>49.3</td>\n      <td>50.8</td>\n      <td>23.0</td>\n      <td>26.2</td>\n      <td>47.6</td>\n      <td>0.034</td>\n    </tr>\n    <tr>\n      <th>1</th>\n      <td>66</td>\n      <td>66</td>\n      <td>1011AC</td>\n      <td>2022-01-03</td>\n      <td>0</td>\n      <td>0.00</td>\n      <td>0.0</td>\n      <td>0.000000</td>\n      <td>0.00</td>\n      <td>0.0</td>\n      <td>...</td>\n      <td>6200.0</td>\n      <td>45.0</td>\n      <td>28.0</td>\n      <td>27.1</td>\n      <td>49.3</td>\n      <td>50.8</td>\n      <td>23.0</td>\n      <td>26.2</td>\n      <td>47.6</td>\n      <td>0.034</td>\n    </tr>\n    <tr>\n      <th>2</th>\n      <td>132</td>\n      <td>18084</td>\n      <td>1011AD</td>\n      <td>2022-01-03</td>\n      <td>0</td>\n      <td>0.00</td>\n      <td>0.0</td>\n      <td>0.000000</td>\n      <td>0.00</td>\n      <td>0.0</td>\n      <td>...</td>\n      <td>6200.0</td>\n      <td>45.0</td>\n      <td>28.0</td>\n      <td>27.1</td>\n      <td>49.3</td>\n      <td>50.8</td>\n      <td>23.0</td>\n      <td>26.2</td>\n      <td>47.6</td>\n      <td>0.034</td>\n    </tr>\n    <tr>\n      <th>3</th>\n      <td>198</td>\n      <td>18150</td>\n      <td>1011AE</td>\n      <td>2022-01-03</td>\n      <td>0</td>\n      <td>0.00</td>\n      <td>0.0</td>\n      <td>0.000000</td>\n      <td>0.00</td>\n      <td>0.0</td>\n      <td>...</td>\n      <td>6200.0</td>\n      <td>45.0</td>\n      <td>28.0</td>\n      <td>27.1</td>\n      <td>49.3</td>\n      <td>50.8</td>\n      <td>23.0</td>\n      <td>26.2</td>\n      <td>47.6</td>\n      <td>0.034</td>\n    </tr>\n    <tr>\n      <th>4</th>\n      <td>264</td>\n      <td>132</td>\n      <td>1011AG</td>\n      <td>2022-01-03</td>\n      <td>0</td>\n      <td>0.00</td>\n      <td>0.0</td>\n      <td>0.000000</td>\n      <td>0.00</td>\n      <td>0.0</td>\n      <td>...</td>\n      <td>6200.0</td>\n      <td>45.0</td>\n      <td>28.0</td>\n      <td>27.1</td>\n      <td>49.3</td>\n      <td>50.8</td>\n      <td>23.0</td>\n      <td>26.2</td>\n      <td>47.6</td>\n      <td>0.034</td>\n    </tr>\n  </tbody>\n</table>\n<p>5 rows × 106 columns</p>\n</div>"
     },
     "execution_count": 2,
     "metadata": {},
     "output_type": "execute_result"
    }
   ],
   "source": [
    "# specify name of csv file\n",
    "filename = 'final_data.csv'\n",
    "\n",
    "# open csv file\n",
    "df = pd.read_csv(filename)\n",
    "\n",
    "df.head()"
   ],
   "metadata": {
    "collapsed": false
   }
  },
  {
   "cell_type": "code",
   "execution_count": 3,
   "outputs": [
    {
     "name": "stdout",
     "output_type": "stream",
     "text": [
      "1219812\n",
      "1219812\n"
     ]
    }
   ],
   "source": [
    "# number of unique values in first column\n",
    "print(df[df.columns[0]].nunique())\n",
    "\n",
    "# number of unique values in second column\n",
    "print(df[df.columns[1]].nunique())\n",
    "\n",
    "# one column of index can be dropped, since it is not the correct index"
   ],
   "metadata": {
    "collapsed": false
   }
  },
  {
   "cell_type": "code",
   "execution_count": 4,
   "outputs": [],
   "source": [
    "# create a new column called \"WeekIndex\" which first lists all unique values of the date column, then assigns a number to each unique value starting from 0 for the lowest value\n",
    "df['WeekIndex'] = df['Date'].astype('category').cat.codes"
   ],
   "metadata": {
    "collapsed": false
   }
  },
  {
   "cell_type": "code",
   "execution_count": 5,
   "outputs": [],
   "source": [
    "# print first 5 rows\n",
    "df.rename(columns={df.columns[0]: 'index_to_drop', df.columns[1]: 'RowIndex'},inplace=True)\n",
    "\n",
    "# remove \"index\" column, since this is not the correct index\n",
    "df.drop(columns=[\"index_to_drop\"], inplace=True)"
   ],
   "metadata": {
    "collapsed": false
   }
  },
  {
   "cell_type": "code",
   "execution_count": 6,
   "outputs": [],
   "source": [
    "# unit test that each row has a unique index\n",
    "assert df['RowIndex'].nunique() == len(df.index)\n",
    "\n",
    "# convert 'RowIndex' column to integer\n",
    "df['RowIndex'] = df['RowIndex'].astype(int)\n",
    "\n",
    "# set the 'RowIndex' column to index\n",
    "df = df.set_index(\"RowIndex\")"
   ],
   "metadata": {
    "collapsed": false
   }
  },
  {
   "cell_type": "code",
   "execution_count": 7,
   "outputs": [
    {
     "name": "stdout",
     "output_type": "stream",
     "text": [
      "9\n"
     ]
    }
   ],
   "source": [
    "# cut district column and insert as last column\n",
    "df['District'] = df['District'].str[0:2]\n",
    "\n",
    "# count unique categories in District column -> 11\n",
    "print(df[\"District\"].nunique())\n",
    "\n",
    "# encode categorical variable \"District\" with binary encoding\n",
    "# documentation: https://contrib.scikit-learn.org/category_encoders/binary.html\n",
    "from category_encoders.binary import BinaryEncoder\n",
    "encoder = BinaryEncoder(cols=['District'])\n",
    "encoder.fit(df)\n",
    "df = encoder.transform(df)"
   ],
   "metadata": {
    "collapsed": false
   }
  },
  {
   "cell_type": "code",
   "execution_count": 8,
   "outputs": [
    {
     "name": "stdout",
     "output_type": "stream",
     "text": [
      "18482\n",
      "81\n"
     ]
    }
   ],
   "source": [
    "# count unique categories in ZipCode \"PC6\" column\n",
    "print(df[\"PC6\"].nunique())\n",
    "\n",
    "# retrieve PC4 from PC6, that is the first 4 digits of the 6 digit zip code\n",
    "df[\"PC4\"] = df[\"PC6\"].astype(str).str[:4]\n",
    "print(df[\"PC4\"].nunique())\n",
    "\n",
    "# encode categorical variable \"PC4\" with binary encoding\n",
    "encoder = BinaryEncoder(cols=['PC4'])\n",
    "encoder.fit(df)\n",
    "df = encoder.transform(df)"
   ],
   "metadata": {
    "collapsed": false
   }
  },
  {
   "cell_type": "code",
   "execution_count": 9,
   "outputs": [
    {
     "data": {
      "text/plain": "             PC6        Date  District_0  District_1  District_2  District_3   \nRowIndex                                                                       \n0         1011AB  2022-01-03           0           0           0           1  \\\n66        1011AC  2022-01-03           0           0           1           0   \n18084     1011AD  2022-01-03           0           0           1           0   \n18150     1011AE  2022-01-03           0           0           1           0   \n132       1011AG  2022-01-03           0           0           1           0   \n\n          ConnectionTimeHours    kWh  effective_charging_hrs  power  ...   \nRowIndex                                                             ...   \n0                       67.59  125.8               22.789855  33.12  ...  \\\n66                       0.00    0.0                0.000000   0.00  ...   \n18084                    0.00    0.0                0.000000   0.00  ...   \n18150                    0.00    0.0                0.000000   0.00  ...   \n132                      0.00    0.0                0.000000   0.00  ...   \n\n          2019.0_assets_average  2019.0_Gemiddelde SES WOA totaalscore   \nRowIndex                                                                 \n0                          47.6                                  0.034  \\\n66                         47.6                                  0.034   \n18084                      47.6                                  0.034   \n18150                      47.6                                  0.034   \n132                        47.6                                  0.034   \n\n          WeekIndex  PC4_0  PC4_1  PC4_2  PC4_3  PC4_4  PC4_5  PC4_6  \nRowIndex                                                              \n0                 0      0      0      0      0      0      0      1  \n66                0      0      0      0      0      0      0      1  \n18084             0      0      0      0      0      0      0      1  \n18150             0      0      0      0      0      0      0      1  \n132               0      0      0      0      0      0      0      1  \n\n[5 rows x 115 columns]",
      "text/html": "<div>\n<style scoped>\n    .dataframe tbody tr th:only-of-type {\n        vertical-align: middle;\n    }\n\n    .dataframe tbody tr th {\n        vertical-align: top;\n    }\n\n    .dataframe thead th {\n        text-align: right;\n    }\n</style>\n<table border=\"1\" class=\"dataframe\">\n  <thead>\n    <tr style=\"text-align: right;\">\n      <th></th>\n      <th>PC6</th>\n      <th>Date</th>\n      <th>District_0</th>\n      <th>District_1</th>\n      <th>District_2</th>\n      <th>District_3</th>\n      <th>ConnectionTimeHours</th>\n      <th>kWh</th>\n      <th>effective_charging_hrs</th>\n      <th>power</th>\n      <th>...</th>\n      <th>2019.0_assets_average</th>\n      <th>2019.0_Gemiddelde SES WOA totaalscore</th>\n      <th>WeekIndex</th>\n      <th>PC4_0</th>\n      <th>PC4_1</th>\n      <th>PC4_2</th>\n      <th>PC4_3</th>\n      <th>PC4_4</th>\n      <th>PC4_5</th>\n      <th>PC4_6</th>\n    </tr>\n    <tr>\n      <th>RowIndex</th>\n      <th></th>\n      <th></th>\n      <th></th>\n      <th></th>\n      <th></th>\n      <th></th>\n      <th></th>\n      <th></th>\n      <th></th>\n      <th></th>\n      <th></th>\n      <th></th>\n      <th></th>\n      <th></th>\n      <th></th>\n      <th></th>\n      <th></th>\n      <th></th>\n      <th></th>\n      <th></th>\n      <th></th>\n    </tr>\n  </thead>\n  <tbody>\n    <tr>\n      <th>0</th>\n      <td>1011AB</td>\n      <td>2022-01-03</td>\n      <td>0</td>\n      <td>0</td>\n      <td>0</td>\n      <td>1</td>\n      <td>67.59</td>\n      <td>125.8</td>\n      <td>22.789855</td>\n      <td>33.12</td>\n      <td>...</td>\n      <td>47.6</td>\n      <td>0.034</td>\n      <td>0</td>\n      <td>0</td>\n      <td>0</td>\n      <td>0</td>\n      <td>0</td>\n      <td>0</td>\n      <td>0</td>\n      <td>1</td>\n    </tr>\n    <tr>\n      <th>66</th>\n      <td>1011AC</td>\n      <td>2022-01-03</td>\n      <td>0</td>\n      <td>0</td>\n      <td>1</td>\n      <td>0</td>\n      <td>0.00</td>\n      <td>0.0</td>\n      <td>0.000000</td>\n      <td>0.00</td>\n      <td>...</td>\n      <td>47.6</td>\n      <td>0.034</td>\n      <td>0</td>\n      <td>0</td>\n      <td>0</td>\n      <td>0</td>\n      <td>0</td>\n      <td>0</td>\n      <td>0</td>\n      <td>1</td>\n    </tr>\n    <tr>\n      <th>18084</th>\n      <td>1011AD</td>\n      <td>2022-01-03</td>\n      <td>0</td>\n      <td>0</td>\n      <td>1</td>\n      <td>0</td>\n      <td>0.00</td>\n      <td>0.0</td>\n      <td>0.000000</td>\n      <td>0.00</td>\n      <td>...</td>\n      <td>47.6</td>\n      <td>0.034</td>\n      <td>0</td>\n      <td>0</td>\n      <td>0</td>\n      <td>0</td>\n      <td>0</td>\n      <td>0</td>\n      <td>0</td>\n      <td>1</td>\n    </tr>\n    <tr>\n      <th>18150</th>\n      <td>1011AE</td>\n      <td>2022-01-03</td>\n      <td>0</td>\n      <td>0</td>\n      <td>1</td>\n      <td>0</td>\n      <td>0.00</td>\n      <td>0.0</td>\n      <td>0.000000</td>\n      <td>0.00</td>\n      <td>...</td>\n      <td>47.6</td>\n      <td>0.034</td>\n      <td>0</td>\n      <td>0</td>\n      <td>0</td>\n      <td>0</td>\n      <td>0</td>\n      <td>0</td>\n      <td>0</td>\n      <td>1</td>\n    </tr>\n    <tr>\n      <th>132</th>\n      <td>1011AG</td>\n      <td>2022-01-03</td>\n      <td>0</td>\n      <td>0</td>\n      <td>1</td>\n      <td>0</td>\n      <td>0.00</td>\n      <td>0.0</td>\n      <td>0.000000</td>\n      <td>0.00</td>\n      <td>...</td>\n      <td>47.6</td>\n      <td>0.034</td>\n      <td>0</td>\n      <td>0</td>\n      <td>0</td>\n      <td>0</td>\n      <td>0</td>\n      <td>0</td>\n      <td>0</td>\n      <td>1</td>\n    </tr>\n  </tbody>\n</table>\n<p>5 rows × 115 columns</p>\n</div>"
     },
     "execution_count": 9,
     "metadata": {},
     "output_type": "execute_result"
    }
   ],
   "source": [
    "df.head()"
   ],
   "metadata": {
    "collapsed": false
   }
  },
  {
   "cell_type": "code",
   "execution_count": 10,
   "outputs": [],
   "source": [
    "# all columns (including provider columns) that are not in the above lists are unknown variables\n",
    "providers = [\"Total\", \"Vattenfall\", \"Allego\", \"Equans\", \"EvBox\", \"Nuon\", \"WDS\", \"Pitpoint\", \"Ecotap\", \"Engie\"]\n",
    "\n",
    "# create a new column called \"number of chargers\" which is the sum of the values of the columns which names are stored in the providers list\n",
    "df['number_of_chargers'] = df[providers].sum(axis=1)\n",
    "\n",
    "providers.append(\"number_of_chargers\")\n",
    "\n",
    "# reverse list\n",
    "providers = providers[::-1]"
   ],
   "metadata": {
    "collapsed": false
   }
  },
  {
   "cell_type": "code",
   "execution_count": 11,
   "outputs": [
    {
     "name": "stdout",
     "output_type": "stream",
     "text": [
      "116\n"
     ]
    }
   ],
   "source": [
    "# split columns into several groups: identifiers, target variables, know_variables, unknown_variables, purely_descriptive_variables\n",
    "\n",
    "# reorder columns in the following order:\n",
    "identifiers = [\"PC6\", \"Date\"]\n",
    "know_variables = [\"WeekIndex\", \"MaxPower\"]\n",
    "target_variables = [\"kWh\", \"Blocked_kWh\"]\n",
    "\n",
    "purely_descriptive_variables = [\"ChargeSocket_ID_count\", \"ConnectionTimeHours\", \"power\", \"effective_charging_hrs\", \"MaxOccupancy\", \"SpareCap_Effective\", \"SpareCap_Occup_kWh\", \"SpareCap_Hrs\", \"Effective%\", \"Occupancy_kwh%\"]\n",
    "\n",
    "\n",
    "unknown_variables = [col for col in df.columns if col not in identifiers + target_variables + know_variables + providers+ purely_descriptive_variables]\n",
    "unknown_variables = providers + unknown_variables\n",
    "\n",
    "print(len(identifiers + target_variables + know_variables + purely_descriptive_variables + unknown_variables))"
   ],
   "metadata": {
    "collapsed": false
   }
  },
  {
   "cell_type": "code",
   "execution_count": 12,
   "outputs": [],
   "source": [
    "# sort df columns in the following order: identifiers, target variables, know_variables, unknown_variables, purely_descriptive_variables\n",
    "df = df[identifiers + know_variables + target_variables + unknown_variables + purely_descriptive_variables]"
   ],
   "metadata": {
    "collapsed": false
   }
  },
  {
   "cell_type": "code",
   "execution_count": 13,
   "outputs": [
    {
     "data": {
      "text/plain": "             PC6        Date  WeekIndex  MaxPower    kWh  Blocked_kWh   \nRowIndex                                                                \n0         1011AB  2022-01-03          0   1589.76  125.8     373.0968  \\\n66        1011AC  2022-01-03          0      0.00    0.0       0.0000   \n18084     1011AD  2022-01-03          0      0.00    0.0       0.0000   \n18150     1011AE  2022-01-03          0      0.00    0.0       0.0000   \n132       1011AG  2022-01-03          0      0.00    0.0       0.0000   \n\n          number_of_chargers  Engie  Ecotap  Pitpoint  ...   \nRowIndex                                               ...   \n0                        6.0    0.0     0.0       0.0  ...  \\\n66                       0.0    0.0     0.0       0.0  ...   \n18084                    0.0    0.0     0.0       0.0  ...   \n18150                    0.0    0.0     0.0       0.0  ...   \n132                      0.0    0.0     0.0       0.0  ...   \n\n          2019.0_assets_81_to_100_percent  2019.0_assets_average   \nRowIndex                                                           \n0                                    26.2                   47.6  \\\n66                                   26.2                   47.6   \n18084                                26.2                   47.6   \n18150                                26.2                   47.6   \n132                                  26.2                   47.6   \n\n          2019.0_Gemiddelde SES WOA totaalscore  PC4_0  PC4_1  PC4_2  PC4_3   \nRowIndex                                                                      \n0                                         0.034      0      0      0      0  \\\n66                                        0.034      0      0      0      0   \n18084                                     0.034      0      0      0      0   \n18150                                     0.034      0      0      0      0   \n132                                       0.034      0      0      0      0   \n\n          PC4_4  PC4_5  PC4_6  \nRowIndex                       \n0             0      0      1  \n66            0      0      1  \n18084         0      0      1  \n18150         0      0      1  \n132           0      0      1  \n\n[5 rows x 106 columns]",
      "text/html": "<div>\n<style scoped>\n    .dataframe tbody tr th:only-of-type {\n        vertical-align: middle;\n    }\n\n    .dataframe tbody tr th {\n        vertical-align: top;\n    }\n\n    .dataframe thead th {\n        text-align: right;\n    }\n</style>\n<table border=\"1\" class=\"dataframe\">\n  <thead>\n    <tr style=\"text-align: right;\">\n      <th></th>\n      <th>PC6</th>\n      <th>Date</th>\n      <th>WeekIndex</th>\n      <th>MaxPower</th>\n      <th>kWh</th>\n      <th>Blocked_kWh</th>\n      <th>number_of_chargers</th>\n      <th>Engie</th>\n      <th>Ecotap</th>\n      <th>Pitpoint</th>\n      <th>...</th>\n      <th>2019.0_assets_81_to_100_percent</th>\n      <th>2019.0_assets_average</th>\n      <th>2019.0_Gemiddelde SES WOA totaalscore</th>\n      <th>PC4_0</th>\n      <th>PC4_1</th>\n      <th>PC4_2</th>\n      <th>PC4_3</th>\n      <th>PC4_4</th>\n      <th>PC4_5</th>\n      <th>PC4_6</th>\n    </tr>\n    <tr>\n      <th>RowIndex</th>\n      <th></th>\n      <th></th>\n      <th></th>\n      <th></th>\n      <th></th>\n      <th></th>\n      <th></th>\n      <th></th>\n      <th></th>\n      <th></th>\n      <th></th>\n      <th></th>\n      <th></th>\n      <th></th>\n      <th></th>\n      <th></th>\n      <th></th>\n      <th></th>\n      <th></th>\n      <th></th>\n      <th></th>\n    </tr>\n  </thead>\n  <tbody>\n    <tr>\n      <th>0</th>\n      <td>1011AB</td>\n      <td>2022-01-03</td>\n      <td>0</td>\n      <td>1589.76</td>\n      <td>125.8</td>\n      <td>373.0968</td>\n      <td>6.0</td>\n      <td>0.0</td>\n      <td>0.0</td>\n      <td>0.0</td>\n      <td>...</td>\n      <td>26.2</td>\n      <td>47.6</td>\n      <td>0.034</td>\n      <td>0</td>\n      <td>0</td>\n      <td>0</td>\n      <td>0</td>\n      <td>0</td>\n      <td>0</td>\n      <td>1</td>\n    </tr>\n    <tr>\n      <th>66</th>\n      <td>1011AC</td>\n      <td>2022-01-03</td>\n      <td>0</td>\n      <td>0.00</td>\n      <td>0.0</td>\n      <td>0.0000</td>\n      <td>0.0</td>\n      <td>0.0</td>\n      <td>0.0</td>\n      <td>0.0</td>\n      <td>...</td>\n      <td>26.2</td>\n      <td>47.6</td>\n      <td>0.034</td>\n      <td>0</td>\n      <td>0</td>\n      <td>0</td>\n      <td>0</td>\n      <td>0</td>\n      <td>0</td>\n      <td>1</td>\n    </tr>\n    <tr>\n      <th>18084</th>\n      <td>1011AD</td>\n      <td>2022-01-03</td>\n      <td>0</td>\n      <td>0.00</td>\n      <td>0.0</td>\n      <td>0.0000</td>\n      <td>0.0</td>\n      <td>0.0</td>\n      <td>0.0</td>\n      <td>0.0</td>\n      <td>...</td>\n      <td>26.2</td>\n      <td>47.6</td>\n      <td>0.034</td>\n      <td>0</td>\n      <td>0</td>\n      <td>0</td>\n      <td>0</td>\n      <td>0</td>\n      <td>0</td>\n      <td>1</td>\n    </tr>\n    <tr>\n      <th>18150</th>\n      <td>1011AE</td>\n      <td>2022-01-03</td>\n      <td>0</td>\n      <td>0.00</td>\n      <td>0.0</td>\n      <td>0.0000</td>\n      <td>0.0</td>\n      <td>0.0</td>\n      <td>0.0</td>\n      <td>0.0</td>\n      <td>...</td>\n      <td>26.2</td>\n      <td>47.6</td>\n      <td>0.034</td>\n      <td>0</td>\n      <td>0</td>\n      <td>0</td>\n      <td>0</td>\n      <td>0</td>\n      <td>0</td>\n      <td>1</td>\n    </tr>\n    <tr>\n      <th>132</th>\n      <td>1011AG</td>\n      <td>2022-01-03</td>\n      <td>0</td>\n      <td>0.00</td>\n      <td>0.0</td>\n      <td>0.0000</td>\n      <td>0.0</td>\n      <td>0.0</td>\n      <td>0.0</td>\n      <td>0.0</td>\n      <td>...</td>\n      <td>26.2</td>\n      <td>47.6</td>\n      <td>0.034</td>\n      <td>0</td>\n      <td>0</td>\n      <td>0</td>\n      <td>0</td>\n      <td>0</td>\n      <td>0</td>\n      <td>1</td>\n    </tr>\n  </tbody>\n</table>\n<p>5 rows × 106 columns</p>\n</div>"
     },
     "execution_count": 13,
     "metadata": {},
     "output_type": "execute_result"
    }
   ],
   "source": [
    "# inspect df without the purely_descriptive_variables\n",
    "df[identifiers + know_variables + target_variables + unknown_variables].head()"
   ],
   "metadata": {
    "collapsed": false
   }
  },
  {
   "cell_type": "code",
   "execution_count": 14,
   "outputs": [
    {
     "name": "stdout",
     "output_type": "stream",
     "text": [
      "Series([], dtype: int64)\n"
     ]
    }
   ],
   "source": [
    "# check missing values: show only columns where missing values >0 and their count per column\n",
    "print(df.isna().sum()[df.isna().sum() > 0])"
   ],
   "metadata": {
    "collapsed": false
   }
  },
  {
   "cell_type": "code",
   "execution_count": 15,
   "outputs": [],
   "source": [
    "# sort df by date column\n",
    "df['Date'] = pd.to_datetime(df['Date'])\n",
    "df = df.sort_values(by=['PC6', 'Date'])"
   ],
   "metadata": {
    "collapsed": false
   }
  },
  {
   "cell_type": "code",
   "execution_count": 16,
   "outputs": [],
   "source": [
    "# add week of year column, extracted from date column\n",
    "df[\"WeekOfYear\"] = pd.to_datetime(df['Date']).dt.isocalendar().week\n",
    "\n",
    "# month of year\n",
    "df[\"MonthOfYear\"] = pd.to_datetime(df['Date']).dt.month\n",
    "\n",
    "# sine and cosine week of year -> to introduce cyclical nature of months\n",
    "# sine & cosine week of year\n",
    "# cosine week of year\n",
    "df[\"CosWeekOfYear\"] = np.cos(2*np.pi*df[\"WeekOfYear\"]/52)\n",
    "\n",
    "# sine week of year\n",
    "df[\"SinWeekOfYear\"] = np.sin(2*np.pi*df[\"WeekOfYear\"]/52)\n",
    "\n",
    "# cosine month of year\n",
    "df[\"CosMonthOfYear\"] = np.cos(2*np.pi*df[\"MonthOfYear\"]/12)\n",
    "\n",
    "# sine month of year\n",
    "df[\"SinMonthOfYear\"] = np.sin(2*np.pi*df[\"MonthOfYear\"]/12)"
   ],
   "metadata": {
    "collapsed": false
   }
  },
  {
   "cell_type": "code",
   "execution_count": 17,
   "outputs": [
    {
     "data": {
      "text/plain": "             PC6       Date  WeekIndex  MaxPower     kWh  Blocked_kWh   \nRowIndex                                                                \n0         1011AB 2022-01-03          0   1589.76  125.80     373.0968  \\\n1         1011AB 2022-01-10          1   3709.44  457.95     904.3416   \n2         1011AB 2022-01-17          2   3709.44  525.80    1298.3040   \n3         1011AB 2022-01-24          3   3709.44  707.90    1855.3824   \n4         1011AB 2022-01-31          4   3709.44  571.31    1433.9304   \n\n          number_of_chargers  Engie  Ecotap  Pitpoint  ...   \nRowIndex                                               ...   \n0                        6.0    0.0     0.0       0.0  ...  \\\n1                       14.0    0.0     0.0       0.0  ...   \n2                       14.0    0.0     0.0       0.0  ...   \n3                       14.0    0.0     0.0       0.0  ...   \n4                       14.0    0.0     0.0       0.0  ...   \n\n          SpareCap_Occup_kWh  SpareCap_Hrs  Effective%  Occupancy_kwh%   \nRowIndex                                                                 \n0                  -648.8208        220.41    0.079131        1.408125  \\\n1                 -8951.3424        508.17    0.123455        3.413125   \n2                -14466.8160        436.80    0.141746        4.900000   \n3                -22265.9136        335.88    0.190837        7.002500   \n4                -16365.5856        412.23    0.154015        5.411875   \n\n          WeekOfYear  MonthOfYear  CosWeekOfYear  SinWeekOfYear   \nRowIndex                                                          \n0                  1            1       0.992709       0.120537  \\\n1                  2            1       0.970942       0.239316   \n2                  3            1       0.935016       0.354605   \n3                  4            1       0.885456       0.464723   \n4                  5            1       0.822984       0.568065   \n\n          CosMonthOfYear  SinMonthOfYear  \nRowIndex                                  \n0               0.866025             0.5  \n1               0.866025             0.5  \n2               0.866025             0.5  \n3               0.866025             0.5  \n4               0.866025             0.5  \n\n[5 rows x 122 columns]",
      "text/html": "<div>\n<style scoped>\n    .dataframe tbody tr th:only-of-type {\n        vertical-align: middle;\n    }\n\n    .dataframe tbody tr th {\n        vertical-align: top;\n    }\n\n    .dataframe thead th {\n        text-align: right;\n    }\n</style>\n<table border=\"1\" class=\"dataframe\">\n  <thead>\n    <tr style=\"text-align: right;\">\n      <th></th>\n      <th>PC6</th>\n      <th>Date</th>\n      <th>WeekIndex</th>\n      <th>MaxPower</th>\n      <th>kWh</th>\n      <th>Blocked_kWh</th>\n      <th>number_of_chargers</th>\n      <th>Engie</th>\n      <th>Ecotap</th>\n      <th>Pitpoint</th>\n      <th>...</th>\n      <th>SpareCap_Occup_kWh</th>\n      <th>SpareCap_Hrs</th>\n      <th>Effective%</th>\n      <th>Occupancy_kwh%</th>\n      <th>WeekOfYear</th>\n      <th>MonthOfYear</th>\n      <th>CosWeekOfYear</th>\n      <th>SinWeekOfYear</th>\n      <th>CosMonthOfYear</th>\n      <th>SinMonthOfYear</th>\n    </tr>\n    <tr>\n      <th>RowIndex</th>\n      <th></th>\n      <th></th>\n      <th></th>\n      <th></th>\n      <th></th>\n      <th></th>\n      <th></th>\n      <th></th>\n      <th></th>\n      <th></th>\n      <th></th>\n      <th></th>\n      <th></th>\n      <th></th>\n      <th></th>\n      <th></th>\n      <th></th>\n      <th></th>\n      <th></th>\n      <th></th>\n      <th></th>\n    </tr>\n  </thead>\n  <tbody>\n    <tr>\n      <th>0</th>\n      <td>1011AB</td>\n      <td>2022-01-03</td>\n      <td>0</td>\n      <td>1589.76</td>\n      <td>125.80</td>\n      <td>373.0968</td>\n      <td>6.0</td>\n      <td>0.0</td>\n      <td>0.0</td>\n      <td>0.0</td>\n      <td>...</td>\n      <td>-648.8208</td>\n      <td>220.41</td>\n      <td>0.079131</td>\n      <td>1.408125</td>\n      <td>1</td>\n      <td>1</td>\n      <td>0.992709</td>\n      <td>0.120537</td>\n      <td>0.866025</td>\n      <td>0.5</td>\n    </tr>\n    <tr>\n      <th>1</th>\n      <td>1011AB</td>\n      <td>2022-01-10</td>\n      <td>1</td>\n      <td>3709.44</td>\n      <td>457.95</td>\n      <td>904.3416</td>\n      <td>14.0</td>\n      <td>0.0</td>\n      <td>0.0</td>\n      <td>0.0</td>\n      <td>...</td>\n      <td>-8951.3424</td>\n      <td>508.17</td>\n      <td>0.123455</td>\n      <td>3.413125</td>\n      <td>2</td>\n      <td>1</td>\n      <td>0.970942</td>\n      <td>0.239316</td>\n      <td>0.866025</td>\n      <td>0.5</td>\n    </tr>\n    <tr>\n      <th>2</th>\n      <td>1011AB</td>\n      <td>2022-01-17</td>\n      <td>2</td>\n      <td>3709.44</td>\n      <td>525.80</td>\n      <td>1298.3040</td>\n      <td>14.0</td>\n      <td>0.0</td>\n      <td>0.0</td>\n      <td>0.0</td>\n      <td>...</td>\n      <td>-14466.8160</td>\n      <td>436.80</td>\n      <td>0.141746</td>\n      <td>4.900000</td>\n      <td>3</td>\n      <td>1</td>\n      <td>0.935016</td>\n      <td>0.354605</td>\n      <td>0.866025</td>\n      <td>0.5</td>\n    </tr>\n    <tr>\n      <th>3</th>\n      <td>1011AB</td>\n      <td>2022-01-24</td>\n      <td>3</td>\n      <td>3709.44</td>\n      <td>707.90</td>\n      <td>1855.3824</td>\n      <td>14.0</td>\n      <td>0.0</td>\n      <td>0.0</td>\n      <td>0.0</td>\n      <td>...</td>\n      <td>-22265.9136</td>\n      <td>335.88</td>\n      <td>0.190837</td>\n      <td>7.002500</td>\n      <td>4</td>\n      <td>1</td>\n      <td>0.885456</td>\n      <td>0.464723</td>\n      <td>0.866025</td>\n      <td>0.5</td>\n    </tr>\n    <tr>\n      <th>4</th>\n      <td>1011AB</td>\n      <td>2022-01-31</td>\n      <td>4</td>\n      <td>3709.44</td>\n      <td>571.31</td>\n      <td>1433.9304</td>\n      <td>14.0</td>\n      <td>0.0</td>\n      <td>0.0</td>\n      <td>0.0</td>\n      <td>...</td>\n      <td>-16365.5856</td>\n      <td>412.23</td>\n      <td>0.154015</td>\n      <td>5.411875</td>\n      <td>5</td>\n      <td>1</td>\n      <td>0.822984</td>\n      <td>0.568065</td>\n      <td>0.866025</td>\n      <td>0.5</td>\n    </tr>\n  </tbody>\n</table>\n<p>5 rows × 122 columns</p>\n</div>"
     },
     "execution_count": 17,
     "metadata": {},
     "output_type": "execute_result"
    }
   ],
   "source": [
    "df.head()"
   ],
   "metadata": {
    "collapsed": false
   }
  },
  {
   "cell_type": "code",
   "execution_count": 18,
   "outputs": [
    {
     "name": "stdout",
     "output_type": "stream",
     "text": [
      "(1219812, 122)\n"
     ]
    }
   ],
   "source": [
    "# count number of remaining rows\n",
    "print(df.shape)"
   ],
   "metadata": {
    "collapsed": false
   }
  },
  {
   "cell_type": "code",
   "execution_count": 19,
   "outputs": [
    {
     "data": {
      "text/plain": "0"
     },
     "execution_count": 19,
     "metadata": {},
     "output_type": "execute_result"
    }
   ],
   "source": [
    "# load cleaned data\n",
    "# df = pd.read_csv(filename.split('.')[0] + '_cleaned.csv')\n",
    "\n",
    "# create new column as concatenation of PC6 and WeekIndex columns\n",
    "df['PC6_WeekIndex'] = df['PC6'].astype(str) + df['WeekIndex'].astype(str)\n",
    "\n",
    "# move this column to the first position\n",
    "cols = df.columns.tolist()\n",
    "cols = cols[-1:] + cols[:-1]\n",
    "\n",
    "# count duplicates in PC6_WeekIndex column\n",
    "df['PC6_WeekIndex'].duplicated().sum()"
   ],
   "metadata": {
    "collapsed": false
   }
  },
  {
   "cell_type": "code",
   "execution_count": 23,
   "outputs": [
    {
     "data": {
      "text/plain": "             PC6       Date  WeekIndex  MaxPower     kWh  Blocked_kWh   \nRowIndex                                                                \n0         1011AB 2022-01-03          0   1589.76  125.80     373.0968  \\\n1         1011AB 2022-01-10          1   3709.44  457.95     904.3416   \n2         1011AB 2022-01-17          2   3709.44  525.80    1298.3040   \n3         1011AB 2022-01-24          3   3709.44  707.90    1855.3824   \n4         1011AB 2022-01-31          4   3709.44  571.31    1433.9304   \n...          ...        ...        ...       ...     ...          ...   \n95        1011AC 2022-07-25         29      0.00    0.00       0.0000   \n96        1011AC 2022-08-01         30      0.00    0.00       0.0000   \n97        1011AC 2022-08-08         31      0.00    0.00       0.0000   \n98        1011AC 2022-08-15         32      0.00    0.00       0.0000   \n99        1011AC 2022-08-22         33      0.00    0.00       0.0000   \n\n          number_of_chargers  Engie  Ecotap  Pitpoint  ...  SpareCap_Hrs   \nRowIndex                                               ...                 \n0                        6.0    0.0     0.0       0.0  ...        220.41  \\\n1                       14.0    0.0     0.0       0.0  ...        508.17   \n2                       14.0    0.0     0.0       0.0  ...        436.80   \n3                       14.0    0.0     0.0       0.0  ...        335.88   \n4                       14.0    0.0     0.0       0.0  ...        412.23   \n...                      ...    ...     ...       ...  ...           ...   \n95                       0.0    0.0     0.0       0.0  ...          0.00   \n96                       0.0    0.0     0.0       0.0  ...          0.00   \n97                       0.0    0.0     0.0       0.0  ...          0.00   \n98                       0.0    0.0     0.0       0.0  ...          0.00   \n99                       0.0    0.0     0.0       0.0  ...          0.00   \n\n          Effective%  Occupancy_kwh%  WeekOfYear  MonthOfYear  CosWeekOfYear   \nRowIndex                                                                       \n0           0.079131        1.408125           1            1       0.992709  \\\n1           0.123455        3.413125           2            1       0.970942   \n2           0.141746        4.900000           3            1       0.935016   \n3           0.190837        7.002500           4            1       0.885456   \n4           0.154015        5.411875           5            1       0.822984   \n...              ...             ...         ...          ...            ...   \n95          0.000000        0.000000          30            7      -0.885456   \n96          0.000000        0.000000          31            8      -0.822984   \n97          0.000000        0.000000          32            8      -0.748511   \n98          0.000000        0.000000          33            8      -0.663123   \n99          0.000000        0.000000          34            8      -0.568065   \n\n          SinWeekOfYear  CosMonthOfYear  SinMonthOfYear  PC6_WeekIndex  \nRowIndex                                                                \n0              0.120537        0.866025        0.500000        1011AB0  \n1              0.239316        0.866025        0.500000        1011AB1  \n2              0.354605        0.866025        0.500000        1011AB2  \n3              0.464723        0.866025        0.500000        1011AB3  \n4              0.568065        0.866025        0.500000        1011AB4  \n...                 ...             ...             ...            ...  \n95            -0.464723       -0.866025       -0.500000       1011AC29  \n96            -0.568065       -0.500000       -0.866025       1011AC30  \n97            -0.663123       -0.500000       -0.866025       1011AC31  \n98            -0.748511       -0.500000       -0.866025       1011AC32  \n99            -0.822984       -0.500000       -0.866025       1011AC33  \n\n[100 rows x 123 columns]",
      "text/html": "<div>\n<style scoped>\n    .dataframe tbody tr th:only-of-type {\n        vertical-align: middle;\n    }\n\n    .dataframe tbody tr th {\n        vertical-align: top;\n    }\n\n    .dataframe thead th {\n        text-align: right;\n    }\n</style>\n<table border=\"1\" class=\"dataframe\">\n  <thead>\n    <tr style=\"text-align: right;\">\n      <th></th>\n      <th>PC6</th>\n      <th>Date</th>\n      <th>WeekIndex</th>\n      <th>MaxPower</th>\n      <th>kWh</th>\n      <th>Blocked_kWh</th>\n      <th>number_of_chargers</th>\n      <th>Engie</th>\n      <th>Ecotap</th>\n      <th>Pitpoint</th>\n      <th>...</th>\n      <th>SpareCap_Hrs</th>\n      <th>Effective%</th>\n      <th>Occupancy_kwh%</th>\n      <th>WeekOfYear</th>\n      <th>MonthOfYear</th>\n      <th>CosWeekOfYear</th>\n      <th>SinWeekOfYear</th>\n      <th>CosMonthOfYear</th>\n      <th>SinMonthOfYear</th>\n      <th>PC6_WeekIndex</th>\n    </tr>\n    <tr>\n      <th>RowIndex</th>\n      <th></th>\n      <th></th>\n      <th></th>\n      <th></th>\n      <th></th>\n      <th></th>\n      <th></th>\n      <th></th>\n      <th></th>\n      <th></th>\n      <th></th>\n      <th></th>\n      <th></th>\n      <th></th>\n      <th></th>\n      <th></th>\n      <th></th>\n      <th></th>\n      <th></th>\n      <th></th>\n      <th></th>\n    </tr>\n  </thead>\n  <tbody>\n    <tr>\n      <th>0</th>\n      <td>1011AB</td>\n      <td>2022-01-03</td>\n      <td>0</td>\n      <td>1589.76</td>\n      <td>125.80</td>\n      <td>373.0968</td>\n      <td>6.0</td>\n      <td>0.0</td>\n      <td>0.0</td>\n      <td>0.0</td>\n      <td>...</td>\n      <td>220.41</td>\n      <td>0.079131</td>\n      <td>1.408125</td>\n      <td>1</td>\n      <td>1</td>\n      <td>0.992709</td>\n      <td>0.120537</td>\n      <td>0.866025</td>\n      <td>0.500000</td>\n      <td>1011AB0</td>\n    </tr>\n    <tr>\n      <th>1</th>\n      <td>1011AB</td>\n      <td>2022-01-10</td>\n      <td>1</td>\n      <td>3709.44</td>\n      <td>457.95</td>\n      <td>904.3416</td>\n      <td>14.0</td>\n      <td>0.0</td>\n      <td>0.0</td>\n      <td>0.0</td>\n      <td>...</td>\n      <td>508.17</td>\n      <td>0.123455</td>\n      <td>3.413125</td>\n      <td>2</td>\n      <td>1</td>\n      <td>0.970942</td>\n      <td>0.239316</td>\n      <td>0.866025</td>\n      <td>0.500000</td>\n      <td>1011AB1</td>\n    </tr>\n    <tr>\n      <th>2</th>\n      <td>1011AB</td>\n      <td>2022-01-17</td>\n      <td>2</td>\n      <td>3709.44</td>\n      <td>525.80</td>\n      <td>1298.3040</td>\n      <td>14.0</td>\n      <td>0.0</td>\n      <td>0.0</td>\n      <td>0.0</td>\n      <td>...</td>\n      <td>436.80</td>\n      <td>0.141746</td>\n      <td>4.900000</td>\n      <td>3</td>\n      <td>1</td>\n      <td>0.935016</td>\n      <td>0.354605</td>\n      <td>0.866025</td>\n      <td>0.500000</td>\n      <td>1011AB2</td>\n    </tr>\n    <tr>\n      <th>3</th>\n      <td>1011AB</td>\n      <td>2022-01-24</td>\n      <td>3</td>\n      <td>3709.44</td>\n      <td>707.90</td>\n      <td>1855.3824</td>\n      <td>14.0</td>\n      <td>0.0</td>\n      <td>0.0</td>\n      <td>0.0</td>\n      <td>...</td>\n      <td>335.88</td>\n      <td>0.190837</td>\n      <td>7.002500</td>\n      <td>4</td>\n      <td>1</td>\n      <td>0.885456</td>\n      <td>0.464723</td>\n      <td>0.866025</td>\n      <td>0.500000</td>\n      <td>1011AB3</td>\n    </tr>\n    <tr>\n      <th>4</th>\n      <td>1011AB</td>\n      <td>2022-01-31</td>\n      <td>4</td>\n      <td>3709.44</td>\n      <td>571.31</td>\n      <td>1433.9304</td>\n      <td>14.0</td>\n      <td>0.0</td>\n      <td>0.0</td>\n      <td>0.0</td>\n      <td>...</td>\n      <td>412.23</td>\n      <td>0.154015</td>\n      <td>5.411875</td>\n      <td>5</td>\n      <td>1</td>\n      <td>0.822984</td>\n      <td>0.568065</td>\n      <td>0.866025</td>\n      <td>0.500000</td>\n      <td>1011AB4</td>\n    </tr>\n    <tr>\n      <th>...</th>\n      <td>...</td>\n      <td>...</td>\n      <td>...</td>\n      <td>...</td>\n      <td>...</td>\n      <td>...</td>\n      <td>...</td>\n      <td>...</td>\n      <td>...</td>\n      <td>...</td>\n      <td>...</td>\n      <td>...</td>\n      <td>...</td>\n      <td>...</td>\n      <td>...</td>\n      <td>...</td>\n      <td>...</td>\n      <td>...</td>\n      <td>...</td>\n      <td>...</td>\n      <td>...</td>\n    </tr>\n    <tr>\n      <th>95</th>\n      <td>1011AC</td>\n      <td>2022-07-25</td>\n      <td>29</td>\n      <td>0.00</td>\n      <td>0.00</td>\n      <td>0.0000</td>\n      <td>0.0</td>\n      <td>0.0</td>\n      <td>0.0</td>\n      <td>0.0</td>\n      <td>...</td>\n      <td>0.00</td>\n      <td>0.000000</td>\n      <td>0.000000</td>\n      <td>30</td>\n      <td>7</td>\n      <td>-0.885456</td>\n      <td>-0.464723</td>\n      <td>-0.866025</td>\n      <td>-0.500000</td>\n      <td>1011AC29</td>\n    </tr>\n    <tr>\n      <th>96</th>\n      <td>1011AC</td>\n      <td>2022-08-01</td>\n      <td>30</td>\n      <td>0.00</td>\n      <td>0.00</td>\n      <td>0.0000</td>\n      <td>0.0</td>\n      <td>0.0</td>\n      <td>0.0</td>\n      <td>0.0</td>\n      <td>...</td>\n      <td>0.00</td>\n      <td>0.000000</td>\n      <td>0.000000</td>\n      <td>31</td>\n      <td>8</td>\n      <td>-0.822984</td>\n      <td>-0.568065</td>\n      <td>-0.500000</td>\n      <td>-0.866025</td>\n      <td>1011AC30</td>\n    </tr>\n    <tr>\n      <th>97</th>\n      <td>1011AC</td>\n      <td>2022-08-08</td>\n      <td>31</td>\n      <td>0.00</td>\n      <td>0.00</td>\n      <td>0.0000</td>\n      <td>0.0</td>\n      <td>0.0</td>\n      <td>0.0</td>\n      <td>0.0</td>\n      <td>...</td>\n      <td>0.00</td>\n      <td>0.000000</td>\n      <td>0.000000</td>\n      <td>32</td>\n      <td>8</td>\n      <td>-0.748511</td>\n      <td>-0.663123</td>\n      <td>-0.500000</td>\n      <td>-0.866025</td>\n      <td>1011AC31</td>\n    </tr>\n    <tr>\n      <th>98</th>\n      <td>1011AC</td>\n      <td>2022-08-15</td>\n      <td>32</td>\n      <td>0.00</td>\n      <td>0.00</td>\n      <td>0.0000</td>\n      <td>0.0</td>\n      <td>0.0</td>\n      <td>0.0</td>\n      <td>0.0</td>\n      <td>...</td>\n      <td>0.00</td>\n      <td>0.000000</td>\n      <td>0.000000</td>\n      <td>33</td>\n      <td>8</td>\n      <td>-0.663123</td>\n      <td>-0.748511</td>\n      <td>-0.500000</td>\n      <td>-0.866025</td>\n      <td>1011AC32</td>\n    </tr>\n    <tr>\n      <th>99</th>\n      <td>1011AC</td>\n      <td>2022-08-22</td>\n      <td>33</td>\n      <td>0.00</td>\n      <td>0.00</td>\n      <td>0.0000</td>\n      <td>0.0</td>\n      <td>0.0</td>\n      <td>0.0</td>\n      <td>0.0</td>\n      <td>...</td>\n      <td>0.00</td>\n      <td>0.000000</td>\n      <td>0.000000</td>\n      <td>34</td>\n      <td>8</td>\n      <td>-0.568065</td>\n      <td>-0.822984</td>\n      <td>-0.500000</td>\n      <td>-0.866025</td>\n      <td>1011AC33</td>\n    </tr>\n  </tbody>\n</table>\n<p>100 rows × 123 columns</p>\n</div>"
     },
     "execution_count": 23,
     "metadata": {},
     "output_type": "execute_result"
    }
   ],
   "source": [
    "# keep only first 10000 rows for testing purposes\n",
    "# df = df.head(10000)\n",
    "\n",
    "# inspect data\n",
    "df.head(100)"
   ],
   "metadata": {
    "collapsed": false
   }
  },
  {
   "cell_type": "code",
   "execution_count": 21,
   "outputs": [],
   "source": [
    "# save to new csv file named original name + _cleaned\n",
    "df.to_csv(filename.split('.')[0] + '_cleaned.csv', index=False)"
   ],
   "metadata": {
    "collapsed": false
   }
  }
 ],
 "metadata": {
  "kernelspec": {
   "display_name": "Python 3",
   "language": "python",
   "name": "python3"
  },
  "language_info": {
   "codemirror_mode": {
    "name": "ipython",
    "version": 2
   },
   "file_extension": ".py",
   "mimetype": "text/x-python",
   "name": "python",
   "nbconvert_exporter": "python",
   "pygments_lexer": "ipython2",
   "version": "2.7.6"
  }
 },
 "nbformat": 4,
 "nbformat_minor": 0
}
